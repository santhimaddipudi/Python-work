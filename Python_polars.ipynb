{
  "nbformat": 4,
  "nbformat_minor": 0,
  "metadata": {
    "colab": {
      "provenance": [],
      "authorship_tag": "ABX9TyNG8uGDVhAZVMO2x/2dJosL",
      "include_colab_link": true
    },
    "kernelspec": {
      "name": "python3",
      "display_name": "Python 3"
    },
    "language_info": {
      "name": "python"
    }
  },
  "cells": [
    {
      "cell_type": "markdown",
      "metadata": {
        "id": "view-in-github",
        "colab_type": "text"
      },
      "source": [
        "<a href=\"https://colab.research.google.com/github/santhimaddipudi/Python-work/blob/master/Python_polars.ipynb\" target=\"_parent\"><img src=\"https://colab.research.google.com/assets/colab-badge.svg\" alt=\"Open In Colab\"/></a>"
      ]
    },
    {
      "cell_type": "code",
      "source": [
        "import pandas as pd\n",
        "df=pd.read_csv(\"/content/sample_data/Iris.csv\")\n",
        "df_filtered = df[df[\"SepalLengthCm\"] > 5].groupby(\"Species\").agg('sum')  # Filter rows where 'SepalLengthCm' is greater than 5\n",
        "df_filtered.head()"
      ],
      "metadata": {
        "colab": {
          "base_uri": "https://localhost:8080/",
          "height": 175
        },
        "id": "Ll4tvdziDTfw",
        "outputId": "0bee3f29-4af7-46cf-cb99-fac872c93f04"
      },
      "execution_count": 2,
      "outputs": [
        {
          "output_type": "execute_result",
          "data": {
            "text/plain": [
              "                   Id  SepalLengthCm  SepalWidthCm  PetalLengthCm  \\\n",
              "Species                                                             \n",
              "Iris-setosa       564          116.9          81.7           33.2   \n",
              "Iris-versicolor  3562          281.9         131.8          202.9   \n",
              "Iris-virginica   6168          324.5         146.2          273.1   \n",
              "\n",
              "                 PetalWidthCm  \n",
              "Species                        \n",
              "Iris-setosa               6.1  \n",
              "Iris-versicolor          63.3  \n",
              "Iris-virginica           99.6  "
            ],
            "text/html": [
              "\n",
              "  <div id=\"df-d7a8e661-e77a-4fc0-b002-c25aa5761514\" class=\"colab-df-container\">\n",
              "    <div>\n",
              "<style scoped>\n",
              "    .dataframe tbody tr th:only-of-type {\n",
              "        vertical-align: middle;\n",
              "    }\n",
              "\n",
              "    .dataframe tbody tr th {\n",
              "        vertical-align: top;\n",
              "    }\n",
              "\n",
              "    .dataframe thead th {\n",
              "        text-align: right;\n",
              "    }\n",
              "</style>\n",
              "<table border=\"1\" class=\"dataframe\">\n",
              "  <thead>\n",
              "    <tr style=\"text-align: right;\">\n",
              "      <th></th>\n",
              "      <th>Id</th>\n",
              "      <th>SepalLengthCm</th>\n",
              "      <th>SepalWidthCm</th>\n",
              "      <th>PetalLengthCm</th>\n",
              "      <th>PetalWidthCm</th>\n",
              "    </tr>\n",
              "    <tr>\n",
              "      <th>Species</th>\n",
              "      <th></th>\n",
              "      <th></th>\n",
              "      <th></th>\n",
              "      <th></th>\n",
              "      <th></th>\n",
              "    </tr>\n",
              "  </thead>\n",
              "  <tbody>\n",
              "    <tr>\n",
              "      <th>Iris-setosa</th>\n",
              "      <td>564</td>\n",
              "      <td>116.9</td>\n",
              "      <td>81.7</td>\n",
              "      <td>33.2</td>\n",
              "      <td>6.1</td>\n",
              "    </tr>\n",
              "    <tr>\n",
              "      <th>Iris-versicolor</th>\n",
              "      <td>3562</td>\n",
              "      <td>281.9</td>\n",
              "      <td>131.8</td>\n",
              "      <td>202.9</td>\n",
              "      <td>63.3</td>\n",
              "    </tr>\n",
              "    <tr>\n",
              "      <th>Iris-virginica</th>\n",
              "      <td>6168</td>\n",
              "      <td>324.5</td>\n",
              "      <td>146.2</td>\n",
              "      <td>273.1</td>\n",
              "      <td>99.6</td>\n",
              "    </tr>\n",
              "  </tbody>\n",
              "</table>\n",
              "</div>\n",
              "    <div class=\"colab-df-buttons\">\n",
              "\n",
              "  <div class=\"colab-df-container\">\n",
              "    <button class=\"colab-df-convert\" onclick=\"convertToInteractive('df-d7a8e661-e77a-4fc0-b002-c25aa5761514')\"\n",
              "            title=\"Convert this dataframe to an interactive table.\"\n",
              "            style=\"display:none;\">\n",
              "\n",
              "  <svg xmlns=\"http://www.w3.org/2000/svg\" height=\"24px\" viewBox=\"0 -960 960 960\">\n",
              "    <path d=\"M120-120v-720h720v720H120Zm60-500h600v-160H180v160Zm220 220h160v-160H400v160Zm0 220h160v-160H400v160ZM180-400h160v-160H180v160Zm440 0h160v-160H620v160ZM180-180h160v-160H180v160Zm440 0h160v-160H620v160Z\"/>\n",
              "  </svg>\n",
              "    </button>\n",
              "\n",
              "  <style>\n",
              "    .colab-df-container {\n",
              "      display:flex;\n",
              "      gap: 12px;\n",
              "    }\n",
              "\n",
              "    .colab-df-convert {\n",
              "      background-color: #E8F0FE;\n",
              "      border: none;\n",
              "      border-radius: 50%;\n",
              "      cursor: pointer;\n",
              "      display: none;\n",
              "      fill: #1967D2;\n",
              "      height: 32px;\n",
              "      padding: 0 0 0 0;\n",
              "      width: 32px;\n",
              "    }\n",
              "\n",
              "    .colab-df-convert:hover {\n",
              "      background-color: #E2EBFA;\n",
              "      box-shadow: 0px 1px 2px rgba(60, 64, 67, 0.3), 0px 1px 3px 1px rgba(60, 64, 67, 0.15);\n",
              "      fill: #174EA6;\n",
              "    }\n",
              "\n",
              "    .colab-df-buttons div {\n",
              "      margin-bottom: 4px;\n",
              "    }\n",
              "\n",
              "    [theme=dark] .colab-df-convert {\n",
              "      background-color: #3B4455;\n",
              "      fill: #D2E3FC;\n",
              "    }\n",
              "\n",
              "    [theme=dark] .colab-df-convert:hover {\n",
              "      background-color: #434B5C;\n",
              "      box-shadow: 0px 1px 3px 1px rgba(0, 0, 0, 0.15);\n",
              "      filter: drop-shadow(0px 1px 2px rgba(0, 0, 0, 0.3));\n",
              "      fill: #FFFFFF;\n",
              "    }\n",
              "  </style>\n",
              "\n",
              "    <script>\n",
              "      const buttonEl =\n",
              "        document.querySelector('#df-d7a8e661-e77a-4fc0-b002-c25aa5761514 button.colab-df-convert');\n",
              "      buttonEl.style.display =\n",
              "        google.colab.kernel.accessAllowed ? 'block' : 'none';\n",
              "\n",
              "      async function convertToInteractive(key) {\n",
              "        const element = document.querySelector('#df-d7a8e661-e77a-4fc0-b002-c25aa5761514');\n",
              "        const dataTable =\n",
              "          await google.colab.kernel.invokeFunction('convertToInteractive',\n",
              "                                                    [key], {});\n",
              "        if (!dataTable) return;\n",
              "\n",
              "        const docLinkHtml = 'Like what you see? Visit the ' +\n",
              "          '<a target=\"_blank\" href=https://colab.research.google.com/notebooks/data_table.ipynb>data table notebook</a>'\n",
              "          + ' to learn more about interactive tables.';\n",
              "        element.innerHTML = '';\n",
              "        dataTable['output_type'] = 'display_data';\n",
              "        await google.colab.output.renderOutput(dataTable, element);\n",
              "        const docLink = document.createElement('div');\n",
              "        docLink.innerHTML = docLinkHtml;\n",
              "        element.appendChild(docLink);\n",
              "      }\n",
              "    </script>\n",
              "  </div>\n",
              "\n",
              "\n",
              "    <div id=\"df-8d2e1ef3-5447-416b-aeeb-7f24248e6558\">\n",
              "      <button class=\"colab-df-quickchart\" onclick=\"quickchart('df-8d2e1ef3-5447-416b-aeeb-7f24248e6558')\"\n",
              "                title=\"Suggest charts\"\n",
              "                style=\"display:none;\">\n",
              "\n",
              "<svg xmlns=\"http://www.w3.org/2000/svg\" height=\"24px\"viewBox=\"0 0 24 24\"\n",
              "     width=\"24px\">\n",
              "    <g>\n",
              "        <path d=\"M19 3H5c-1.1 0-2 .9-2 2v14c0 1.1.9 2 2 2h14c1.1 0 2-.9 2-2V5c0-1.1-.9-2-2-2zM9 17H7v-7h2v7zm4 0h-2V7h2v10zm4 0h-2v-4h2v4z\"/>\n",
              "    </g>\n",
              "</svg>\n",
              "      </button>\n",
              "\n",
              "<style>\n",
              "  .colab-df-quickchart {\n",
              "      --bg-color: #E8F0FE;\n",
              "      --fill-color: #1967D2;\n",
              "      --hover-bg-color: #E2EBFA;\n",
              "      --hover-fill-color: #174EA6;\n",
              "      --disabled-fill-color: #AAA;\n",
              "      --disabled-bg-color: #DDD;\n",
              "  }\n",
              "\n",
              "  [theme=dark] .colab-df-quickchart {\n",
              "      --bg-color: #3B4455;\n",
              "      --fill-color: #D2E3FC;\n",
              "      --hover-bg-color: #434B5C;\n",
              "      --hover-fill-color: #FFFFFF;\n",
              "      --disabled-bg-color: #3B4455;\n",
              "      --disabled-fill-color: #666;\n",
              "  }\n",
              "\n",
              "  .colab-df-quickchart {\n",
              "    background-color: var(--bg-color);\n",
              "    border: none;\n",
              "    border-radius: 50%;\n",
              "    cursor: pointer;\n",
              "    display: none;\n",
              "    fill: var(--fill-color);\n",
              "    height: 32px;\n",
              "    padding: 0;\n",
              "    width: 32px;\n",
              "  }\n",
              "\n",
              "  .colab-df-quickchart:hover {\n",
              "    background-color: var(--hover-bg-color);\n",
              "    box-shadow: 0 1px 2px rgba(60, 64, 67, 0.3), 0 1px 3px 1px rgba(60, 64, 67, 0.15);\n",
              "    fill: var(--button-hover-fill-color);\n",
              "  }\n",
              "\n",
              "  .colab-df-quickchart-complete:disabled,\n",
              "  .colab-df-quickchart-complete:disabled:hover {\n",
              "    background-color: var(--disabled-bg-color);\n",
              "    fill: var(--disabled-fill-color);\n",
              "    box-shadow: none;\n",
              "  }\n",
              "\n",
              "  .colab-df-spinner {\n",
              "    border: 2px solid var(--fill-color);\n",
              "    border-color: transparent;\n",
              "    border-bottom-color: var(--fill-color);\n",
              "    animation:\n",
              "      spin 1s steps(1) infinite;\n",
              "  }\n",
              "\n",
              "  @keyframes spin {\n",
              "    0% {\n",
              "      border-color: transparent;\n",
              "      border-bottom-color: var(--fill-color);\n",
              "      border-left-color: var(--fill-color);\n",
              "    }\n",
              "    20% {\n",
              "      border-color: transparent;\n",
              "      border-left-color: var(--fill-color);\n",
              "      border-top-color: var(--fill-color);\n",
              "    }\n",
              "    30% {\n",
              "      border-color: transparent;\n",
              "      border-left-color: var(--fill-color);\n",
              "      border-top-color: var(--fill-color);\n",
              "      border-right-color: var(--fill-color);\n",
              "    }\n",
              "    40% {\n",
              "      border-color: transparent;\n",
              "      border-right-color: var(--fill-color);\n",
              "      border-top-color: var(--fill-color);\n",
              "    }\n",
              "    60% {\n",
              "      border-color: transparent;\n",
              "      border-right-color: var(--fill-color);\n",
              "    }\n",
              "    80% {\n",
              "      border-color: transparent;\n",
              "      border-right-color: var(--fill-color);\n",
              "      border-bottom-color: var(--fill-color);\n",
              "    }\n",
              "    90% {\n",
              "      border-color: transparent;\n",
              "      border-bottom-color: var(--fill-color);\n",
              "    }\n",
              "  }\n",
              "</style>\n",
              "\n",
              "      <script>\n",
              "        async function quickchart(key) {\n",
              "          const quickchartButtonEl =\n",
              "            document.querySelector('#' + key + ' button');\n",
              "          quickchartButtonEl.disabled = true;  // To prevent multiple clicks.\n",
              "          quickchartButtonEl.classList.add('colab-df-spinner');\n",
              "          try {\n",
              "            const charts = await google.colab.kernel.invokeFunction(\n",
              "                'suggestCharts', [key], {});\n",
              "          } catch (error) {\n",
              "            console.error('Error during call to suggestCharts:', error);\n",
              "          }\n",
              "          quickchartButtonEl.classList.remove('colab-df-spinner');\n",
              "          quickchartButtonEl.classList.add('colab-df-quickchart-complete');\n",
              "        }\n",
              "        (() => {\n",
              "          let quickchartButtonEl =\n",
              "            document.querySelector('#df-8d2e1ef3-5447-416b-aeeb-7f24248e6558 button');\n",
              "          quickchartButtonEl.style.display =\n",
              "            google.colab.kernel.accessAllowed ? 'block' : 'none';\n",
              "        })();\n",
              "      </script>\n",
              "    </div>\n",
              "\n",
              "    </div>\n",
              "  </div>\n"
            ],
            "application/vnd.google.colaboratory.intrinsic+json": {
              "type": "dataframe",
              "variable_name": "df_filtered",
              "summary": "{\n  \"name\": \"df_filtered\",\n  \"rows\": 3,\n  \"fields\": [\n    {\n      \"column\": \"Species\",\n      \"properties\": {\n        \"dtype\": \"string\",\n        \"num_unique_values\": 3,\n        \"samples\": [\n          \"Iris-setosa\",\n          \"Iris-versicolor\",\n          \"Iris-virginica\"\n        ],\n        \"semantic_type\": \"\",\n        \"description\": \"\"\n      }\n    },\n    {\n      \"column\": \"Id\",\n      \"properties\": {\n        \"dtype\": \"number\",\n        \"std\": 2804,\n        \"min\": 564,\n        \"max\": 6168,\n        \"num_unique_values\": 3,\n        \"samples\": [\n          564,\n          3562,\n          6168\n        ],\n        \"semantic_type\": \"\",\n        \"description\": \"\"\n      }\n    },\n    {\n      \"column\": \"SepalLengthCm\",\n      \"properties\": {\n        \"dtype\": \"number\",\n        \"std\": 109.64907660349903,\n        \"min\": 116.9,\n        \"max\": 324.5,\n        \"num_unique_values\": 3,\n        \"samples\": [\n          116.9,\n          281.9,\n          324.5\n        ],\n        \"semantic_type\": \"\",\n        \"description\": \"\"\n      }\n    },\n    {\n      \"column\": \"SepalWidthCm\",\n      \"properties\": {\n        \"dtype\": \"number\",\n        \"std\": 33.856609399052346,\n        \"min\": 81.7,\n        \"max\": 146.2,\n        \"num_unique_values\": 3,\n        \"samples\": [\n          81.7,\n          131.8,\n          146.2\n        ],\n        \"semantic_type\": \"\",\n        \"description\": \"\"\n      }\n    },\n    {\n      \"column\": \"PetalLengthCm\",\n      \"properties\": {\n        \"dtype\": \"number\",\n        \"std\": 123.34108534196275,\n        \"min\": 33.2,\n        \"max\": 273.1,\n        \"num_unique_values\": 3,\n        \"samples\": [\n          33.2,\n          202.9,\n          273.1\n        ],\n        \"semantic_type\": \"\",\n        \"description\": \"\"\n      }\n    },\n    {\n      \"column\": \"PetalWidthCm\",\n      \"properties\": {\n        \"dtype\": \"number\",\n        \"std\": 47.13770606778965,\n        \"min\": 6.1000000000000005,\n        \"max\": 99.6,\n        \"num_unique_values\": 3,\n        \"samples\": [\n          6.1000000000000005,\n          63.3,\n          99.6\n        ],\n        \"semantic_type\": \"\",\n        \"description\": \"\"\n      }\n    }\n  ]\n}"
            }
          },
          "metadata": {},
          "execution_count": 2
        }
      ]
    },
    {
      "cell_type": "code",
      "source": [
        "import polars as pl\n",
        "pl.__version__"
      ],
      "metadata": {
        "colab": {
          "base_uri": "https://localhost:8080/",
          "height": 35
        },
        "id": "gKI4SXztfWW7",
        "outputId": "71d1017e-9bc9-4330-da58-e9572db26d64"
      },
      "execution_count": 3,
      "outputs": [
        {
          "output_type": "execute_result",
          "data": {
            "text/plain": [
              "'1.21.0'"
            ],
            "application/vnd.google.colaboratory.intrinsic+json": {
              "type": "string"
            }
          },
          "metadata": {},
          "execution_count": 3
        }
      ]
    },
    {
      "cell_type": "code",
      "source": [
        "#operations that are supported on materialized dataframes but not on lazy dataframes.\n",
        "df_ops = set(x for x in dir(pl.DataFrame()) if not x.startswith('_'))\n",
        "lazy_ops = set(x for x in dir(pl.LazyFrame()) if not x.startswith('_'))\n",
        "print(sorted(df_ops - lazy_ops))"
      ],
      "metadata": {
        "colab": {
          "base_uri": "https://localhost:8080/"
        },
        "id": "ifLz7pPhgbLn",
        "outputId": "8df47120-44fd-40c0-800f-a7a52e6c44b6"
      },
      "execution_count": null,
      "outputs": [
        {
          "output_type": "stream",
          "name": "stdout",
          "text": [
            "['apply', 'corr', 'describe', 'drop_in_place', 'equals', 'estimated_size', 'extend', 'find_idx_by_name', 'flags', 'fold', 'frame_equal', 'get_column', 'get_column_index', 'get_columns', 'glimpse', 'hash_rows', 'height', 'hstack', 'insert_at_idx', 'insert_column', 'is_duplicated', 'is_empty', 'is_unique', 'item', 'iter_columns', 'iter_rows', 'iter_slices', 'map_rows', 'max_horizontal', 'mean_horizontal', 'min_horizontal', 'n_chunks', 'n_unique', 'partition_by', 'pivot', 'product', 'rechunk', 'replace', 'replace_at_idx', 'replace_column', 'row', 'rows', 'rows_by_key', 'sample', 'shape', 'shrink_to_fit', 'sum_horizontal', 'to_arrow', 'to_dict', 'to_dicts', 'to_dummies', 'to_init_repr', 'to_numpy', 'to_pandas', 'to_series', 'to_struct', 'transpose', 'unstack', 'upsample', 'vstack', 'write_avro', 'write_csv', 'write_database', 'write_delta', 'write_excel', 'write_ipc', 'write_ipc_stream', 'write_json', 'write_ndjson', 'write_parquet']\n"
          ]
        }
      ]
    },
    {
      "cell_type": "code",
      "execution_count": null,
      "metadata": {
        "colab": {
          "base_uri": "https://localhost:8080/",
          "height": 192
        },
        "id": "i-yNO-nzBsLa",
        "outputId": "87d3f025-7531-4fc8-e6ee-c0623c1807b6"
      },
      "outputs": [
        {
          "output_type": "execute_result",
          "data": {
            "text/plain": [
              "shape: (3, 6)\n",
              "┌─────────────────┬──────┬───────────────┬──────────────┬───────────────┬──────────────┐\n",
              "│ Species         ┆ Id   ┆ SepalLengthCm ┆ SepalWidthCm ┆ PetalLengthCm ┆ PetalWidthCm │\n",
              "│ ---             ┆ ---  ┆ ---           ┆ ---          ┆ ---           ┆ ---          │\n",
              "│ str             ┆ i64  ┆ f64           ┆ f64          ┆ f64           ┆ f64          │\n",
              "╞═════════════════╪══════╪═══════════════╪══════════════╪═══════════════╪══════════════╡\n",
              "│ Iris-virginica  ┆ 6168 ┆ 324.5         ┆ 146.2        ┆ 273.1         ┆ 99.6         │\n",
              "│ Iris-setosa     ┆ 564  ┆ 116.9         ┆ 81.7         ┆ 33.2          ┆ 6.1          │\n",
              "│ Iris-versicolor ┆ 3562 ┆ 281.9         ┆ 131.8        ┆ 202.9         ┆ 63.3         │\n",
              "└─────────────────┴──────┴───────────────┴──────────────┴───────────────┴──────────────┘"
            ],
            "text/html": [
              "<div><style>\n",
              ".dataframe > thead > tr,\n",
              ".dataframe > tbody > tr {\n",
              "  text-align: right;\n",
              "  white-space: pre-wrap;\n",
              "}\n",
              "</style>\n",
              "<small>shape: (3, 6)</small><table border=\"1\" class=\"dataframe\"><thead><tr><th>Species</th><th>Id</th><th>SepalLengthCm</th><th>SepalWidthCm</th><th>PetalLengthCm</th><th>PetalWidthCm</th></tr><tr><td>str</td><td>i64</td><td>f64</td><td>f64</td><td>f64</td><td>f64</td></tr></thead><tbody><tr><td>&quot;Iris-virginica…</td><td>6168</td><td>324.5</td><td>146.2</td><td>273.1</td><td>99.6</td></tr><tr><td>&quot;Iris-setosa&quot;</td><td>564</td><td>116.9</td><td>81.7</td><td>33.2</td><td>6.1</td></tr><tr><td>&quot;Iris-versicolo…</td><td>3562</td><td>281.9</td><td>131.8</td><td>202.9</td><td>63.3</td></tr></tbody></table></div>"
            ]
          },
          "metadata": {},
          "execution_count": 3
        }
      ],
      "source": [
        "import polars as pl\n",
        "#lazy dataframe\n",
        "q = (\n",
        "    pl.scan_csv(\"/content/sample_data/Iris.csv\")\n",
        "    .filter(pl.col(\"SepalLengthCm\") > 5)\n",
        "    .group_by(\"Species\")\n",
        "    .agg(pl.all().sum())\n",
        ")\n",
        "\n",
        "df = q.collect()\n",
        "\n",
        "df"
      ]
    },
    {
      "cell_type": "code",
      "source": [
        "#for lazy dataframe it wont show the data\n",
        "df1=pl.scan_csv(\"/content/sample_data/Iris.csv\").filter(pl.col(\"SepalLengthCm\") > 5)\n",
        "print(df1)"
      ],
      "metadata": {
        "colab": {
          "base_uri": "https://localhost:8080/"
        },
        "id": "Q-z4WwCa-HfC",
        "outputId": "0ab52875-fc1a-435e-e9a9-f9fc7d08b290"
      },
      "execution_count": 4,
      "outputs": [
        {
          "output_type": "stream",
          "name": "stdout",
          "text": [
            "naive plan: (run LazyFrame.explain(optimized=True) to see the optimized plan)\n",
            "\n",
            "FILTER [(col(\"SepalLengthCm\")) > (5.0)] FROM\n",
            "  Csv SCAN [/content/sample_data/Iris.csv]\n",
            "  PROJECT */6 COLUMNS\n"
          ]
        }
      ]
    },
    {
      "cell_type": "code",
      "source": [
        "col=pl.col(\"SepalLengthCm\")\n",
        "col_ops = set(x for x in dir(col) if not x.startswith('_'))\n",
        "print(col_ops)"
      ],
      "metadata": {
        "colab": {
          "base_uri": "https://localhost:8080/"
        },
        "id": "RLsRUYWdB6lr",
        "outputId": "84b9026a-3947-4cd0-c3a7-a8d4591ed1a8"
      },
      "execution_count": 7,
      "outputs": [
        {
          "output_type": "stream",
          "name": "stdout",
          "text": [
            "{'shuffle', 'truediv', 'forward_fill', 'sample', 'rolling_min_by', 'replace_strict', 'arr', 'slice', 'arg_true', 'cut', 'entropy', 'ewm_mean', 'extend_constant', 'over', 'is_null', 'ewm_var', 'dt', 'map_batches', 'mod', 'reshape', 'shift', 'sin', 'explode', 'floordiv', 'rolling_std', 'log', 'rolling_var_by', 'rolling_sum', 'is_unique', 'rolling_var', 'tanh', 'not_', 'index_of', 'gather', 'fill_null', 'from_json', 'bottom_k', 'where', 'is_not_null', 'le', 'str', 'gather_every', 'std', 'interpolate_by', 'get', 'tan', 'diff', 'abs', 'cast', 'sort', 'top_k_by', 'repeat_by', 'inspect', 'rolling_skew', 'cum_max', 'rolling', 'is_finite', 'is_not_nan', 'len', 'meta', 'nan_max', 'struct', 'rolling_quantile_by', 'mul', 'bitwise_or', 'log1p', 'bitwise_leading_zeros', 'ewm_std', 'has_nulls', 'add', 'value_counts', 'cum_prod', 'floor', 'replace', 'n_unique', 'drop_nans', 'mode', 'rolling_sum_by', 'rolling_max', 'cum_min', 'rle_id', 'kurtosis', 'arctanh', 'cos', 'log10', 'product', 'search_sorted', 'skew', 'rolling_median', 'cot', 'first', 'implode', 'bottom_k_by', 'is_nan', 'arctan', 'any', 'peak_max', 'neg', 'top_k', 'sinh', 'backward_fill', 'is_between', 'var', 'sqrt', 'round', 'approx_n_unique', 'cat', 'or_', 'bitwise_count_ones', 'exp', 'shrink_dtype', 'rolling_mean', 'is_first_distinct', 'dot', 'lower_bound', 'gt', 'eq', 'arg_sort', 'fill_nan', 'rle', 'tail', 'cosh', 'alias', 'sum', 'pow', 'is_in', 'arccosh', 'sort_by', 'hash', 'agg_groups', 'cum_sum', 'limit', 'lt', 'exclude', 'degrees', 'pipe', 'arg_min', 'last', 'arccos', 'max', 'to_physical', 'rolling_min', 'sub', 'ge', 'flatten', 'rolling_map', 'cbrt', 'register_plugin', 'round_sig_figs', 'is_infinite', 'unique_counts', 'arg_unique', 'is_last_distinct', 'list', 'name', 'qcut', 'unique', 'rank', 'xor', 'ewm_mean_by', 'min', 'rolling_max_by', 'head', 'arg_max', 'rolling_median_by', 'interpolate', 'mean', 'pct_change', 'arcsinh', 'count', 'arcsin', 'quantile', 'reinterpret', 'map_elements', 'cum_count', 'ceil', 'set_sorted', 'rolling_quantile', 'rechunk', 'drop_nulls', 'ne_missing', 'upper_bound', 'deserialize', 'hist', 'cumulative_eval', 'nan_min', 'bitwise_leading_ones', 'null_count', 'sign', 'bitwise_trailing_zeros', 'reverse', 'all', 'median', 'rolling_mean_by', 'rolling_std_by', 'append', 'bitwise_and', 'eq_missing', 'is_duplicated', 'bitwise_xor', 'clip', 'peak_min', 'and_', 'ne', 'bin', 'radians', 'bitwise_trailing_ones', 'bitwise_count_zeros', 'filter'}\n"
          ]
        }
      ]
    },
    {
      "cell_type": "code",
      "source": [
        "df=pd.read_csv(\"/content/sample_data/vehicles.csv\")\n",
        "print(df)"
      ],
      "metadata": {
        "id": "-s_mVPDWDycr"
      },
      "execution_count": null,
      "outputs": []
    },
    {
      "cell_type": "code",
      "source": [
        "lazy = pl.scan_csv(\"/content/sample_data/vehicles.csv\", null_values=['NA'])\n",
        "print(lazy)\n",
        "lazy.explain(optimized=True)"
      ],
      "metadata": {
        "colab": {
          "base_uri": "https://localhost:8080/",
          "height": 104
        },
        "id": "mi7rKD6HE6pL",
        "outputId": "3b355148-d840-42c8-a5c1-f7387985519e"
      },
      "execution_count": 16,
      "outputs": [
        {
          "output_type": "stream",
          "name": "stdout",
          "text": [
            "naive plan: (run LazyFrame.explain(optimized=True) to see the optimized plan)\n",
            "\n",
            "Csv SCAN [/content/sample_data/vehicles.csv]\n",
            "PROJECT */84 COLUMNS\n"
          ]
        },
        {
          "output_type": "execute_result",
          "data": {
            "text/plain": [
              "'Csv SCAN [/content/sample_data/vehicles.csv]\\nPROJECT */84 COLUMNS'"
            ],
            "application/vnd.google.colaboratory.intrinsic+json": {
              "type": "string"
            }
          },
          "metadata": {},
          "execution_count": 16
        }
      ]
    },
    {
      "cell_type": "code",
      "source": [
        "print(lazy\n",
        " .filter((pl.col('year') >= 1990) & (pl.col('year') < 2000))\n",
        " .select(['year','make'])\n",
        " .explain()\n",
        ")"
      ],
      "metadata": {
        "colab": {
          "base_uri": "https://localhost:8080/"
        },
        "id": "jlWmyr-6FUnb",
        "outputId": "e89ec707-8794-4a78-ea8e-9cb5befcf6c6"
      },
      "execution_count": 18,
      "outputs": [
        {
          "output_type": "stream",
          "name": "stdout",
          "text": [
            "simple π 2/2 [\"year\", \"make\"]\n",
            "  Csv SCAN [/content/sample_data/vehicles.csv]\n",
            "  PROJECT 2/84 COLUMNS\n",
            "  SELECTION: [([(col(\"year\")) < (2000)]) & ([(col(\"year\")) >= (1990)])]\n"
          ]
        }
      ]
    },
    {
      "cell_type": "code",
      "source": [
        "print(df.dtypes)"
      ],
      "metadata": {
        "colab": {
          "base_uri": "https://localhost:8080/"
        },
        "id": "ESxh3smjFvab",
        "outputId": "8f3dfa39-7d88-4283-e8e6-54ad453828e7"
      },
      "execution_count": 19,
      "outputs": [
        {
          "output_type": "stream",
          "name": "stdout",
          "text": [
            "barrels08     float64\n",
            "barrelsA08    float64\n",
            "charge120     float64\n",
            "charge240     float64\n",
            "city08          int64\n",
            "               ...   \n",
            "modifiedOn     object\n",
            "startStop      object\n",
            "phevCity        int64\n",
            "phevHwy         int64\n",
            "phevComb        int64\n",
            "Length: 84, dtype: object\n"
          ]
        }
      ]
    },
    {
      "cell_type": "code",
      "source": [
        "print(df.info(verbose=True))"
      ],
      "metadata": {
        "id": "lm1hp7BVF1p0"
      },
      "execution_count": null,
      "outputs": []
    },
    {
      "cell_type": "code",
      "source": [
        "cols = ['year', 'make', 'model', 'displ', 'cylinders', 'trany', 'drive', 'VClass', 'fuelType', 'barrels08', 'city08', 'highway08','createdOn']\n",
        "df_polars = pl.from_pandas(df)\n",
        "print(df_polars.select(cols))"
      ],
      "metadata": {
        "colab": {
          "base_uri": "https://localhost:8080/"
        },
        "id": "3jkLLoIMGr_9",
        "outputId": "412946a7-eb53-4f27-deee-97c9174eb4a4"
      },
      "execution_count": 29,
      "outputs": [
        {
          "output_type": "stream",
          "name": "stdout",
          "text": [
            "shape: (48_581, 13)\n",
            "┌──────┬────────────┬────────────────┬───────┬───┬───────────┬────────┬───────────┬────────────────┐\n",
            "│ year ┆ make       ┆ model          ┆ displ ┆ … ┆ barrels08 ┆ city08 ┆ highway08 ┆ createdOn      │\n",
            "│ ---  ┆ ---        ┆ ---            ┆ ---   ┆   ┆ ---       ┆ ---    ┆ ---       ┆ ---            │\n",
            "│ i64  ┆ str        ┆ str            ┆ f64   ┆   ┆ f64       ┆ i64    ┆ i64       ┆ str            │\n",
            "╞══════╪════════════╪════════════════╪═══════╪═══╪═══════════╪════════╪═══════════╪════════════════╡\n",
            "│ 1985 ┆ Alfa Romeo ┆ Spider Veloce  ┆ 2.0   ┆ … ┆ 14.167143 ┆ 19     ┆ 25        ┆ Tue Jan 01     │\n",
            "│      ┆            ┆ 2000           ┆       ┆   ┆           ┆        ┆           ┆ 00:00:00 EST   │\n",
            "│      ┆            ┆                ┆       ┆   ┆           ┆        ┆           ┆ 2013           │\n",
            "│ 1985 ┆ Ferrari    ┆ Testarossa     ┆ 4.9   ┆ … ┆ 27.046364 ┆ 9      ┆ 14        ┆ Tue Jan 01     │\n",
            "│      ┆            ┆                ┆       ┆   ┆           ┆        ┆           ┆ 00:00:00 EST   │\n",
            "│      ┆            ┆                ┆       ┆   ┆           ┆        ┆           ┆ 2013           │\n",
            "│ 1985 ┆ Dodge      ┆ Charger        ┆ 2.2   ┆ … ┆ 11.018889 ┆ 23     ┆ 33        ┆ Tue Jan 01     │\n",
            "│      ┆            ┆                ┆       ┆   ┆           ┆        ┆           ┆ 00:00:00 EST   │\n",
            "│      ┆            ┆                ┆       ┆   ┆           ┆        ┆           ┆ 2013           │\n",
            "│ 1985 ┆ Dodge      ┆ B150/B250      ┆ 5.2   ┆ … ┆ 27.046364 ┆ 10     ┆ 12        ┆ Tue Jan 01     │\n",
            "│      ┆            ┆ Wagon 2WD      ┆       ┆   ┆           ┆        ┆           ┆ 00:00:00 EST   │\n",
            "│      ┆            ┆                ┆       ┆   ┆           ┆        ┆           ┆ 2013           │\n",
            "│ 1993 ┆ Subaru     ┆ Legacy AWD     ┆ 2.2   ┆ … ┆ 15.658421 ┆ 17     ┆ 23        ┆ Tue Jan 01     │\n",
            "│      ┆            ┆ Turbo          ┆       ┆   ┆           ┆        ┆           ┆ 00:00:00 EST   │\n",
            "│      ┆            ┆                ┆       ┆   ┆           ┆        ┆           ┆ 2013           │\n",
            "│ …    ┆ …          ┆ …              ┆ …     ┆ … ┆ …         ┆ …      ┆ …         ┆ …              │\n",
            "│ 1993 ┆ Subaru     ┆ Legacy         ┆ 2.2   ┆ … ┆ 13.523182 ┆ 19     ┆ 26        ┆ Tue Jan 01     │\n",
            "│      ┆            ┆                ┆       ┆   ┆           ┆        ┆           ┆ 00:00:00 EST   │\n",
            "│      ┆            ┆                ┆       ┆   ┆           ┆        ┆           ┆ 2013           │\n",
            "│ 1993 ┆ Subaru     ┆ Legacy         ┆ 2.2   ┆ … ┆ 12.935217 ┆ 20     ┆ 28        ┆ Tue Jan 01     │\n",
            "│      ┆            ┆                ┆       ┆   ┆           ┆        ┆           ┆ 00:00:00 EST   │\n",
            "│      ┆            ┆                ┆       ┆   ┆           ┆        ┆           ┆ 2013           │\n",
            "│ 1993 ┆ Subaru     ┆ Legacy AWD     ┆ 2.2   ┆ … ┆ 14.167143 ┆ 18     ┆ 24        ┆ Tue Jan 01     │\n",
            "│      ┆            ┆                ┆       ┆   ┆           ┆        ┆           ┆ 00:00:00 EST   │\n",
            "│      ┆            ┆                ┆       ┆   ┆           ┆        ┆           ┆ 2013           │\n",
            "│ 1993 ┆ Subaru     ┆ Legacy AWD     ┆ 2.2   ┆ … ┆ 14.167143 ┆ 18     ┆ 24        ┆ Tue Jan 01     │\n",
            "│      ┆            ┆                ┆       ┆   ┆           ┆        ┆           ┆ 00:00:00 EST   │\n",
            "│      ┆            ┆                ┆       ┆   ┆           ┆        ┆           ┆ 2013           │\n",
            "│ 1993 ┆ Subaru     ┆ Legacy AWD     ┆ 2.2   ┆ … ┆ 16.528333 ┆ 16     ┆ 21        ┆ Tue Jan 01     │\n",
            "│      ┆            ┆ Turbo          ┆       ┆   ┆           ┆        ┆           ┆ 00:00:00 EST   │\n",
            "│      ┆            ┆                ┆       ┆   ┆           ┆        ┆           ┆ 2013           │\n",
            "└──────┴────────────┴────────────────┴───────┴───┴───────────┴────────┴───────────┴────────────────┘\n"
          ]
        }
      ]
    },
    {
      "cell_type": "code",
      "source": [
        "print(df_polars.select(pl.col(cols)))"
      ],
      "metadata": {
        "id": "lxZTYv2VHQ4B"
      },
      "execution_count": null,
      "outputs": []
    },
    {
      "cell_type": "code",
      "source": [
        "print(df_polars\n",
        " .select(pl.col(cols))\n",
        " .select(pl.col(pl.Int64))\n",
        " .describe())"
      ],
      "metadata": {
        "colab": {
          "base_uri": "https://localhost:8080/"
        },
        "id": "nyUhUjbMHiiM",
        "outputId": "fee561ba-0905-4a75-fbb5-90c065fc25cf"
      },
      "execution_count": 31,
      "outputs": [
        {
          "output_type": "stream",
          "name": "stdout",
          "text": [
            "shape: (9, 4)\n",
            "┌────────────┬─────────────┬───────────┬───────────┐\n",
            "│ statistic  ┆ year        ┆ city08    ┆ highway08 │\n",
            "│ ---        ┆ ---         ┆ ---       ┆ ---       │\n",
            "│ str        ┆ f64         ┆ f64       ┆ f64       │\n",
            "╞════════════╪═════════════╪═══════════╪═══════════╡\n",
            "│ count      ┆ 48581.0     ┆ 48581.0   ┆ 48581.0   │\n",
            "│ null_count ┆ 0.0         ┆ 0.0       ┆ 0.0       │\n",
            "│ mean       ┆ 2004.752413 ┆ 20.131615 ┆ 25.970256 │\n",
            "│ std        ┆ 12.758499   ┆ 13.198585 ┆ 11.439295 │\n",
            "│ min        ┆ 1984.0      ┆ 6.0       ┆ 9.0       │\n",
            "│ 25%        ┆ 1993.0      ┆ 15.0      ┆ 20.0      │\n",
            "│ 50%        ┆ 2006.0      ┆ 18.0      ┆ 24.0      │\n",
            "│ 75%        ┆ 2016.0      ┆ 21.0      ┆ 28.0      │\n",
            "│ max        ┆ 2026.0      ┆ 153.0     ┆ 142.0     │\n",
            "└────────────┴─────────────┴───────────┴───────────┘\n"
          ]
        }
      ]
    },
    {
      "cell_type": "code",
      "source": [
        "#When the with_columns context runs, Polars will read the data from the year column and cast it to a 16-bit integer and cast it to a 16-bit integer\n",
        "print(df_polars\n",
        " .select(pl.col(cols))\n",
        " .with_columns(pl.col('year').cast(pl.Int16),\n",
        "               pl.col('cylinders').cast(pl.UInt8),\n",
        "               pl.col('highway08').cast(pl.UInt8),\n",
        "               pl.col('city08').cast(pl.UInt8)))"
      ],
      "metadata": {
        "id": "qN_u2_4AIhvh"
      },
      "execution_count": null,
      "outputs": []
    },
    {
      "cell_type": "code",
      "source": [
        "#Polars includes a column expression to shrink numeric columns, the shrink_dtype method\n",
        "print(df_polars.select(pl.col(cols).shrink_dtype()))"
      ],
      "metadata": {
        "colab": {
          "base_uri": "https://localhost:8080/"
        },
        "id": "MLHYWEYDJIvS",
        "outputId": "a24637f6-ac44-4811-ac30-a4500afaf6d4"
      },
      "execution_count": 37,
      "outputs": [
        {
          "output_type": "stream",
          "name": "stdout",
          "text": [
            "shape: (48_581, 13)\n",
            "┌──────┬────────────┬────────────────┬───────┬───┬───────────┬────────┬───────────┬────────────────┐\n",
            "│ year ┆ make       ┆ model          ┆ displ ┆ … ┆ barrels08 ┆ city08 ┆ highway08 ┆ createdOn      │\n",
            "│ ---  ┆ ---        ┆ ---            ┆ ---   ┆   ┆ ---       ┆ ---    ┆ ---       ┆ ---            │\n",
            "│ i16  ┆ str        ┆ str            ┆ f32   ┆   ┆ f32       ┆ i16    ┆ i16       ┆ str            │\n",
            "╞══════╪════════════╪════════════════╪═══════╪═══╪═══════════╪════════╪═══════════╪════════════════╡\n",
            "│ 1985 ┆ Alfa Romeo ┆ Spider Veloce  ┆ 2.0   ┆ … ┆ 14.167143 ┆ 19     ┆ 25        ┆ Tue Jan 01     │\n",
            "│      ┆            ┆ 2000           ┆       ┆   ┆           ┆        ┆           ┆ 00:00:00 EST   │\n",
            "│      ┆            ┆                ┆       ┆   ┆           ┆        ┆           ┆ 2013           │\n",
            "│ 1985 ┆ Ferrari    ┆ Testarossa     ┆ 4.9   ┆ … ┆ 27.046364 ┆ 9      ┆ 14        ┆ Tue Jan 01     │\n",
            "│      ┆            ┆                ┆       ┆   ┆           ┆        ┆           ┆ 00:00:00 EST   │\n",
            "│      ┆            ┆                ┆       ┆   ┆           ┆        ┆           ┆ 2013           │\n",
            "│ 1985 ┆ Dodge      ┆ Charger        ┆ 2.2   ┆ … ┆ 11.018888 ┆ 23     ┆ 33        ┆ Tue Jan 01     │\n",
            "│      ┆            ┆                ┆       ┆   ┆           ┆        ┆           ┆ 00:00:00 EST   │\n",
            "│      ┆            ┆                ┆       ┆   ┆           ┆        ┆           ┆ 2013           │\n",
            "│ 1985 ┆ Dodge      ┆ B150/B250      ┆ 5.2   ┆ … ┆ 27.046364 ┆ 10     ┆ 12        ┆ Tue Jan 01     │\n",
            "│      ┆            ┆ Wagon 2WD      ┆       ┆   ┆           ┆        ┆           ┆ 00:00:00 EST   │\n",
            "│      ┆            ┆                ┆       ┆   ┆           ┆        ┆           ┆ 2013           │\n",
            "│ 1993 ┆ Subaru     ┆ Legacy AWD     ┆ 2.2   ┆ … ┆ 15.658422 ┆ 17     ┆ 23        ┆ Tue Jan 01     │\n",
            "│      ┆            ┆ Turbo          ┆       ┆   ┆           ┆        ┆           ┆ 00:00:00 EST   │\n",
            "│      ┆            ┆                ┆       ┆   ┆           ┆        ┆           ┆ 2013           │\n",
            "│ …    ┆ …          ┆ …              ┆ …     ┆ … ┆ …         ┆ …      ┆ …         ┆ …              │\n",
            "│ 1993 ┆ Subaru     ┆ Legacy         ┆ 2.2   ┆ … ┆ 13.523182 ┆ 19     ┆ 26        ┆ Tue Jan 01     │\n",
            "│      ┆            ┆                ┆       ┆   ┆           ┆        ┆           ┆ 00:00:00 EST   │\n",
            "│      ┆            ┆                ┆       ┆   ┆           ┆        ┆           ┆ 2013           │\n",
            "│ 1993 ┆ Subaru     ┆ Legacy         ┆ 2.2   ┆ … ┆ 12.935218 ┆ 20     ┆ 28        ┆ Tue Jan 01     │\n",
            "│      ┆            ┆                ┆       ┆   ┆           ┆        ┆           ┆ 00:00:00 EST   │\n",
            "│      ┆            ┆                ┆       ┆   ┆           ┆        ┆           ┆ 2013           │\n",
            "│ 1993 ┆ Subaru     ┆ Legacy AWD     ┆ 2.2   ┆ … ┆ 14.167143 ┆ 18     ┆ 24        ┆ Tue Jan 01     │\n",
            "│      ┆            ┆                ┆       ┆   ┆           ┆        ┆           ┆ 00:00:00 EST   │\n",
            "│      ┆            ┆                ┆       ┆   ┆           ┆        ┆           ┆ 2013           │\n",
            "│ 1993 ┆ Subaru     ┆ Legacy AWD     ┆ 2.2   ┆ … ┆ 14.167143 ┆ 18     ┆ 24        ┆ Tue Jan 01     │\n",
            "│      ┆            ┆                ┆       ┆   ┆           ┆        ┆           ┆ 00:00:00 EST   │\n",
            "│      ┆            ┆                ┆       ┆   ┆           ┆        ┆           ┆ 2013           │\n",
            "│ 1993 ┆ Subaru     ┆ Legacy AWD     ┆ 2.2   ┆ … ┆ 16.528334 ┆ 16     ┆ 21        ┆ Tue Jan 01     │\n",
            "│      ┆            ┆ Turbo          ┆       ┆   ┆           ┆        ┆           ┆ 00:00:00 EST   │\n",
            "│      ┆            ┆                ┆       ┆   ┆           ┆        ┆           ┆ 2013           │\n",
            "└──────┴────────────┴────────────────┴───────┴───┴───────────┴────────┴───────────┴────────────────┘\n"
          ]
        }
      ]
    },
    {
      "cell_type": "code",
      "source": [
        "print(df_polars\n",
        ".select(pl.col(cols))\n",
        ".select(pl.col(pl.Float64))\n",
        ".sample(n=10, seed=42)\n",
        ")\n"
      ],
      "metadata": {
        "colab": {
          "base_uri": "https://localhost:8080/"
        },
        "id": "nKdAk96tYLso",
        "outputId": "9899a9f5-a92a-4be7-da30-afe1e94c7d9a"
      },
      "execution_count": 38,
      "outputs": [
        {
          "output_type": "stream",
          "name": "stdout",
          "text": [
            "shape: (10, 3)\n",
            "┌───────┬───────────┬───────────┐\n",
            "│ displ ┆ cylinders ┆ barrels08 │\n",
            "│ ---   ┆ ---       ┆ ---       │\n",
            "│ f64   ┆ f64       ┆ f64       │\n",
            "╞═══════╪═══════════╪═══════════╡\n",
            "│ 3.0   ┆ 6.0       ┆ 17.500588 │\n",
            "│ 5.3   ┆ 8.0       ┆ 21.250714 │\n",
            "│ 2.2   ┆ 4.0       ┆ 15.658421 │\n",
            "│ 2.2   ┆ 4.0       ┆ 12.39625  │\n",
            "│ 3.5   ┆ 6.0       ┆ 15.658421 │\n",
            "│ 5.5   ┆ 8.0       ┆ 18.594375 │\n",
            "│ 2.0   ┆ 4.0       ┆ 12.935217 │\n",
            "│ 2.0   ┆ 4.0       ┆ 13.523182 │\n",
            "│ 4.9   ┆ 6.0       ┆ 21.250714 │\n",
            "│ 4.0   ┆ 8.0       ┆ 17.500588 │\n",
            "└───────┴───────────┴───────────┘\n"
          ]
        }
      ]
    },
    {
      "cell_type": "code",
      "source": [
        "print(df_polars\n",
        " .select(pl.col(cols))\n",
        " .with_columns(pl.col('year').cast(pl.Int16),\n",
        "               pl.col('cylinders').cast(pl.UInt8),\n",
        "               pl.col('highway08').cast(pl.UInt8),\n",
        "               pl.col('city08').cast(pl.UInt8),\n",
        "               pl.col('displ').cast(pl.Float32),\n",
        "               pl.col('barrels08').cast(pl.Float32)\n",
        "               ))"
      ],
      "metadata": {
        "colab": {
          "base_uri": "https://localhost:8080/"
        },
        "id": "_xxlncTCYf63",
        "outputId": "2bca552d-2901-4d36-964e-e17beeec0cd5"
      },
      "execution_count": 40,
      "outputs": [
        {
          "output_type": "stream",
          "name": "stdout",
          "text": [
            "shape: (48_581, 13)\n",
            "┌──────┬────────────┬────────────────┬───────┬───┬───────────┬────────┬───────────┬────────────────┐\n",
            "│ year ┆ make       ┆ model          ┆ displ ┆ … ┆ barrels08 ┆ city08 ┆ highway08 ┆ createdOn      │\n",
            "│ ---  ┆ ---        ┆ ---            ┆ ---   ┆   ┆ ---       ┆ ---    ┆ ---       ┆ ---            │\n",
            "│ i16  ┆ str        ┆ str            ┆ f32   ┆   ┆ f32       ┆ u8     ┆ u8        ┆ str            │\n",
            "╞══════╪════════════╪════════════════╪═══════╪═══╪═══════════╪════════╪═══════════╪════════════════╡\n",
            "│ 1985 ┆ Alfa Romeo ┆ Spider Veloce  ┆ 2.0   ┆ … ┆ 14.167143 ┆ 19     ┆ 25        ┆ Tue Jan 01     │\n",
            "│      ┆            ┆ 2000           ┆       ┆   ┆           ┆        ┆           ┆ 00:00:00 EST   │\n",
            "│      ┆            ┆                ┆       ┆   ┆           ┆        ┆           ┆ 2013           │\n",
            "│ 1985 ┆ Ferrari    ┆ Testarossa     ┆ 4.9   ┆ … ┆ 27.046364 ┆ 9      ┆ 14        ┆ Tue Jan 01     │\n",
            "│      ┆            ┆                ┆       ┆   ┆           ┆        ┆           ┆ 00:00:00 EST   │\n",
            "│      ┆            ┆                ┆       ┆   ┆           ┆        ┆           ┆ 2013           │\n",
            "│ 1985 ┆ Dodge      ┆ Charger        ┆ 2.2   ┆ … ┆ 11.018888 ┆ 23     ┆ 33        ┆ Tue Jan 01     │\n",
            "│      ┆            ┆                ┆       ┆   ┆           ┆        ┆           ┆ 00:00:00 EST   │\n",
            "│      ┆            ┆                ┆       ┆   ┆           ┆        ┆           ┆ 2013           │\n",
            "│ 1985 ┆ Dodge      ┆ B150/B250      ┆ 5.2   ┆ … ┆ 27.046364 ┆ 10     ┆ 12        ┆ Tue Jan 01     │\n",
            "│      ┆            ┆ Wagon 2WD      ┆       ┆   ┆           ┆        ┆           ┆ 00:00:00 EST   │\n",
            "│      ┆            ┆                ┆       ┆   ┆           ┆        ┆           ┆ 2013           │\n",
            "│ 1993 ┆ Subaru     ┆ Legacy AWD     ┆ 2.2   ┆ … ┆ 15.658422 ┆ 17     ┆ 23        ┆ Tue Jan 01     │\n",
            "│      ┆            ┆ Turbo          ┆       ┆   ┆           ┆        ┆           ┆ 00:00:00 EST   │\n",
            "│      ┆            ┆                ┆       ┆   ┆           ┆        ┆           ┆ 2013           │\n",
            "│ …    ┆ …          ┆ …              ┆ …     ┆ … ┆ …         ┆ …      ┆ …         ┆ …              │\n",
            "│ 1993 ┆ Subaru     ┆ Legacy         ┆ 2.2   ┆ … ┆ 13.523182 ┆ 19     ┆ 26        ┆ Tue Jan 01     │\n",
            "│      ┆            ┆                ┆       ┆   ┆           ┆        ┆           ┆ 00:00:00 EST   │\n",
            "│      ┆            ┆                ┆       ┆   ┆           ┆        ┆           ┆ 2013           │\n",
            "│ 1993 ┆ Subaru     ┆ Legacy         ┆ 2.2   ┆ … ┆ 12.935218 ┆ 20     ┆ 28        ┆ Tue Jan 01     │\n",
            "│      ┆            ┆                ┆       ┆   ┆           ┆        ┆           ┆ 00:00:00 EST   │\n",
            "│      ┆            ┆                ┆       ┆   ┆           ┆        ┆           ┆ 2013           │\n",
            "│ 1993 ┆ Subaru     ┆ Legacy AWD     ┆ 2.2   ┆ … ┆ 14.167143 ┆ 18     ┆ 24        ┆ Tue Jan 01     │\n",
            "│      ┆            ┆                ┆       ┆   ┆           ┆        ┆           ┆ 00:00:00 EST   │\n",
            "│      ┆            ┆                ┆       ┆   ┆           ┆        ┆           ┆ 2013           │\n",
            "│ 1993 ┆ Subaru     ┆ Legacy AWD     ┆ 2.2   ┆ … ┆ 14.167143 ┆ 18     ┆ 24        ┆ Tue Jan 01     │\n",
            "│      ┆            ┆                ┆       ┆   ┆           ┆        ┆           ┆ 00:00:00 EST   │\n",
            "│      ┆            ┆                ┆       ┆   ┆           ┆        ┆           ┆ 2013           │\n",
            "│ 1993 ┆ Subaru     ┆ Legacy AWD     ┆ 2.2   ┆ … ┆ 16.528334 ┆ 16     ┆ 21        ┆ Tue Jan 01     │\n",
            "│      ┆            ┆ Turbo          ┆       ┆   ┆           ┆        ┆           ┆ 00:00:00 EST   │\n",
            "│      ┆            ┆                ┆       ┆   ┆           ┆        ┆           ┆ 2013           │\n",
            "└──────┴────────────┴────────────────┴───────┴───┴───────────┴────────┴───────────┴────────────────┘\n"
          ]
        }
      ]
    },
    {
      "cell_type": "code",
      "source": [
        "print(df_polars\n",
        " .with_columns('trany',\n",
        " is_automatic=pl.col('trany')\n",
        " .str.to_lowercase()\n",
        " .str.contains('automatic'))\n",
        " )"
      ],
      "metadata": {
        "colab": {
          "base_uri": "https://localhost:8080/"
        },
        "id": "TVTsHveQbsK3",
        "outputId": "2baf2059-3134-4602-acb3-f5e4ca3a16d0"
      },
      "execution_count": 42,
      "outputs": [
        {
          "output_type": "stream",
          "name": "stdout",
          "text": [
            "shape: (48_581, 85)\n",
            "┌───────────┬────────────┬───────────┬───────────┬───┬──────────┬─────────┬──────────┬─────────────┐\n",
            "│ barrels08 ┆ barrelsA08 ┆ charge120 ┆ charge240 ┆ … ┆ phevCity ┆ phevHwy ┆ phevComb ┆ is_automati │\n",
            "│ ---       ┆ ---        ┆ ---       ┆ ---       ┆   ┆ ---      ┆ ---     ┆ ---      ┆ c           │\n",
            "│ f64       ┆ f64        ┆ f64       ┆ f64       ┆   ┆ i64      ┆ i64     ┆ i64      ┆ ---         │\n",
            "│           ┆            ┆           ┆           ┆   ┆          ┆         ┆          ┆ bool        │\n",
            "╞═══════════╪════════════╪═══════════╪═══════════╪═══╪══════════╪═════════╪══════════╪═════════════╡\n",
            "│ 14.167143 ┆ 0.0        ┆ 0.0       ┆ 0.0       ┆ … ┆ 0        ┆ 0       ┆ 0        ┆ false       │\n",
            "│ 27.046364 ┆ 0.0        ┆ 0.0       ┆ 0.0       ┆ … ┆ 0        ┆ 0       ┆ 0        ┆ false       │\n",
            "│ 11.018889 ┆ 0.0        ┆ 0.0       ┆ 0.0       ┆ … ┆ 0        ┆ 0       ┆ 0        ┆ false       │\n",
            "│ 27.046364 ┆ 0.0        ┆ 0.0       ┆ 0.0       ┆ … ┆ 0        ┆ 0       ┆ 0        ┆ true        │\n",
            "│ 15.658421 ┆ 0.0        ┆ 0.0       ┆ 0.0       ┆ … ┆ 0        ┆ 0       ┆ 0        ┆ false       │\n",
            "│ …         ┆ …          ┆ …         ┆ …         ┆ … ┆ …        ┆ …       ┆ …        ┆ …           │\n",
            "│ 13.523182 ┆ 0.0        ┆ 0.0       ┆ 0.0       ┆ … ┆ 0        ┆ 0       ┆ 0        ┆ true        │\n",
            "│ 12.935217 ┆ 0.0        ┆ 0.0       ┆ 0.0       ┆ … ┆ 0        ┆ 0       ┆ 0        ┆ false       │\n",
            "│ 14.167143 ┆ 0.0        ┆ 0.0       ┆ 0.0       ┆ … ┆ 0        ┆ 0       ┆ 0        ┆ true        │\n",
            "│ 14.167143 ┆ 0.0        ┆ 0.0       ┆ 0.0       ┆ … ┆ 0        ┆ 0       ┆ 0        ┆ false       │\n",
            "│ 16.528333 ┆ 0.0        ┆ 0.0       ┆ 0.0       ┆ … ┆ 0        ┆ 0       ┆ 0        ┆ true        │\n",
            "└───────────┴────────────┴───────────┴───────────┴───┴──────────┴─────────┴──────────┴─────────────┘\n"
          ]
        }
      ]
    },
    {
      "cell_type": "code",
      "source": [
        "print(df_polars.select(pl.col('trany').value_counts(sort=True)))"
      ],
      "metadata": {
        "colab": {
          "base_uri": "https://localhost:8080/"
        },
        "id": "HzPvDG9jb8fm",
        "outputId": "e3389c8d-b18f-4246-b156-b6cc7bf5b6d7"
      },
      "execution_count": 44,
      "outputs": [
        {
          "output_type": "stream",
          "name": "stdout",
          "text": [
            "shape: (41, 1)\n",
            "┌───────────────────────────┐\n",
            "│ trany                     │\n",
            "│ ---                       │\n",
            "│ struct[2]                 │\n",
            "╞═══════════════════════════╡\n",
            "│ {\"Automatic 4-spd\",11048} │\n",
            "│ {\"Manual 5-spd\",8392}     │\n",
            "│ {\"Automatic (S8)\",3372}   │\n",
            "│ {\"Automatic (S6)\",3361}   │\n",
            "│ {\"Automatic 3-spd\",3151}  │\n",
            "│ …                         │\n",
            "│ {null,11}                 │\n",
            "│ {\"Automatic (AM-S9)\",6}   │\n",
            "│ {\"Automatic (L4)\",2}      │\n",
            "│ {\"Automatic (L3)\",2}      │\n",
            "│ {\"Automatic (AM-S10)\",2}  │\n",
            "└───────────────────────────┘\n"
          ]
        }
      ]
    },
    {
      "cell_type": "code",
      "source": [
        "print(df_polars\n",
        " .filter(pl.col('trany').is_null())\n",
        " .select('year', 'make', 'model', 'VClass','trany')\n",
        " )\n"
      ],
      "metadata": {
        "colab": {
          "base_uri": "https://localhost:8080/"
        },
        "id": "7kzTs2D0dIOg",
        "outputId": "62903348-37e2-4ac7-e850-de5dc35f3e12"
      },
      "execution_count": 45,
      "outputs": [
        {
          "output_type": "stream",
          "name": "stdout",
          "text": [
            "shape: (11, 5)\n",
            "┌──────┬────────┬────────────────────────┬─────────────────────────────┬───────┐\n",
            "│ year ┆ make   ┆ model                  ┆ VClass                      ┆ trany │\n",
            "│ ---  ┆ ---    ┆ ---                    ┆ ---                         ┆ ---   │\n",
            "│ i64  ┆ str    ┆ str                    ┆ str                         ┆ str   │\n",
            "╞══════╪════════╪════════════════════════╪═════════════════════════════╪═══════╡\n",
            "│ 2000 ┆ Nissan ┆ Altra EV               ┆ Midsize Station Wagons      ┆ null  │\n",
            "│ 2000 ┆ Toyota ┆ RAV4 EV                ┆ Sport Utility Vehicle - 2WD ┆ null  │\n",
            "│ 2001 ┆ Toyota ┆ RAV4 EV                ┆ Sport Utility Vehicle - 2WD ┆ null  │\n",
            "│ 2001 ┆ Ford   ┆ Th!nk                  ┆ Two Seaters                 ┆ null  │\n",
            "│ 2001 ┆ Ford   ┆ Explorer USPS Electric ┆ Sport Utility Vehicle - 2WD ┆ null  │\n",
            "│ …    ┆ …      ┆ …                      ┆ …                           ┆ …     │\n",
            "│ 2002 ┆ Toyota ┆ RAV4 EV                ┆ Sport Utility Vehicle - 2WD ┆ null  │\n",
            "│ 2002 ┆ Ford   ┆ Explorer USPS Electric ┆ Sport Utility Vehicle - 2WD ┆ null  │\n",
            "│ 2003 ┆ Toyota ┆ RAV4 EV                ┆ Sport Utility Vehicle - 2WD ┆ null  │\n",
            "│ 1984 ┆ Ford   ┆ F150 Pickup 2WD        ┆ Standard Pickup Trucks 2WD  ┆ null  │\n",
            "│ 1984 ┆ GMC    ┆ C25 Pickup 2WD         ┆ Standard Pickup Trucks 2WD  ┆ null  │\n",
            "└──────┴────────┴────────────────────────┴─────────────────────────────┴───────┘\n"
          ]
        }
      ]
    },
    {
      "cell_type": "code",
      "source": [
        "#FILL null values in column\n",
        "print(df_polars.select('trany',\n",
        "                       is_automatic=pl.col('trany')\n",
        "                       .str.contains('Automatic').fill_null(True))\n",
        ")\n",
        "\n",
        ""
      ],
      "metadata": {
        "colab": {
          "base_uri": "https://localhost:8080/"
        },
        "id": "klZZnD7qdTVf",
        "outputId": "8a760505-5265-428f-b17d-b3c3cbf826c2"
      },
      "execution_count": 47,
      "outputs": [
        {
          "output_type": "stream",
          "name": "stdout",
          "text": [
            "shape: (48_581, 2)\n",
            "┌─────────────────┬──────────────┐\n",
            "│ trany           ┆ is_automatic │\n",
            "│ ---             ┆ ---          │\n",
            "│ str             ┆ bool         │\n",
            "╞═════════════════╪══════════════╡\n",
            "│ Manual 5-spd    ┆ false        │\n",
            "│ Manual 5-spd    ┆ false        │\n",
            "│ Manual 5-spd    ┆ false        │\n",
            "│ Automatic 3-spd ┆ true         │\n",
            "│ Manual 5-spd    ┆ false        │\n",
            "│ …               ┆ …            │\n",
            "│ Automatic 4-spd ┆ true         │\n",
            "│ Manual 5-spd    ┆ false        │\n",
            "│ Automatic 4-spd ┆ true         │\n",
            "│ Manual 5-spd    ┆ false        │\n",
            "│ Automatic 4-spd ┆ true         │\n",
            "└─────────────────┴──────────────┘\n"
          ]
        }
      ]
    },
    {
      "cell_type": "code",
      "source": [
        "#extarct num of gears in trany column and check where it is null\n",
        "print(df_polars\n",
        " .select(num_gears=pl.col('trany')\n",
        " .str.extract(r'(\\d+)')\n",
        " .cast(pl.UInt8))\n",
        " .filter(pl.col('num_gears').is_null())\n",
        ")\n"
      ],
      "metadata": {
        "colab": {
          "base_uri": "https://localhost:8080/"
        },
        "id": "nWRYxYeQd-NO",
        "outputId": "12ac9162-c9e4-484e-d46e-a4a7e9590392"
      },
      "execution_count": 48,
      "outputs": [
        {
          "output_type": "stream",
          "name": "stdout",
          "text": [
            "shape: (1_155, 1)\n",
            "┌───────────┐\n",
            "│ num_gears │\n",
            "│ ---       │\n",
            "│ u8        │\n",
            "╞═══════════╡\n",
            "│ null      │\n",
            "│ null      │\n",
            "│ null      │\n",
            "│ null      │\n",
            "│ null      │\n",
            "│ …         │\n",
            "│ null      │\n",
            "│ null      │\n",
            "│ null      │\n",
            "│ null      │\n",
            "│ null      │\n",
            "└───────────┘\n"
          ]
        }
      ]
    },
    {
      "cell_type": "code",
      "source": [
        "print(df_polars.with_columns(\n",
        "      is_automatic=pl.col('trany')\n",
        "                   .str.contains('Automatic')\n",
        "                   .fill_null(True),\n",
        "      num_gears=pl.col('trany')\n",
        "                   .str.extract(r'(\\d+)')\n",
        "                   .cast(pl.UInt8)\n",
        "                   .fill_null(6)\n",
        " )\n",
        " )\n"
      ],
      "metadata": {
        "colab": {
          "base_uri": "https://localhost:8080/"
        },
        "id": "gG5_oRJUelsR",
        "outputId": "40eed17f-46fc-4c40-e199-fee66e154048"
      },
      "execution_count": 49,
      "outputs": [
        {
          "output_type": "stream",
          "name": "stdout",
          "text": [
            "shape: (48_581, 86)\n",
            "┌───────────┬────────────┬───────────┬───────────┬───┬─────────┬──────────┬────────────┬───────────┐\n",
            "│ barrels08 ┆ barrelsA08 ┆ charge120 ┆ charge240 ┆ … ┆ phevHwy ┆ phevComb ┆ is_automat ┆ num_gears │\n",
            "│ ---       ┆ ---        ┆ ---       ┆ ---       ┆   ┆ ---     ┆ ---      ┆ ic         ┆ ---       │\n",
            "│ f64       ┆ f64        ┆ f64       ┆ f64       ┆   ┆ i64     ┆ i64      ┆ ---        ┆ u8        │\n",
            "│           ┆            ┆           ┆           ┆   ┆         ┆          ┆ bool       ┆           │\n",
            "╞═══════════╪════════════╪═══════════╪═══════════╪═══╪═════════╪══════════╪════════════╪═══════════╡\n",
            "│ 14.167143 ┆ 0.0        ┆ 0.0       ┆ 0.0       ┆ … ┆ 0       ┆ 0        ┆ false      ┆ 5         │\n",
            "│ 27.046364 ┆ 0.0        ┆ 0.0       ┆ 0.0       ┆ … ┆ 0       ┆ 0        ┆ false      ┆ 5         │\n",
            "│ 11.018889 ┆ 0.0        ┆ 0.0       ┆ 0.0       ┆ … ┆ 0       ┆ 0        ┆ false      ┆ 5         │\n",
            "│ 27.046364 ┆ 0.0        ┆ 0.0       ┆ 0.0       ┆ … ┆ 0       ┆ 0        ┆ true       ┆ 3         │\n",
            "│ 15.658421 ┆ 0.0        ┆ 0.0       ┆ 0.0       ┆ … ┆ 0       ┆ 0        ┆ false      ┆ 5         │\n",
            "│ …         ┆ …          ┆ …         ┆ …         ┆ … ┆ …       ┆ …        ┆ …          ┆ …         │\n",
            "│ 13.523182 ┆ 0.0        ┆ 0.0       ┆ 0.0       ┆ … ┆ 0       ┆ 0        ┆ true       ┆ 4         │\n",
            "│ 12.935217 ┆ 0.0        ┆ 0.0       ┆ 0.0       ┆ … ┆ 0       ┆ 0        ┆ false      ┆ 5         │\n",
            "│ 14.167143 ┆ 0.0        ┆ 0.0       ┆ 0.0       ┆ … ┆ 0       ┆ 0        ┆ true       ┆ 4         │\n",
            "│ 14.167143 ┆ 0.0        ┆ 0.0       ┆ 0.0       ┆ … ┆ 0       ┆ 0        ┆ false      ┆ 5         │\n",
            "│ 16.528333 ┆ 0.0        ┆ 0.0       ┆ 0.0       ┆ … ┆ 0       ┆ 0        ┆ true       ┆ 4         │\n",
            "└───────────┴────────────┴───────────┴───────────┴───┴─────────┴──────────┴────────────┴───────────┘\n"
          ]
        }
      ]
    },
    {
      "cell_type": "code",
      "source": [
        "#now convert string columns into categorical\n",
        "pl.enable_string_cache()\n",
        "with pl.StringCache():#StringCache context manager to ensure that the categorical mappings are the same across columns\n",
        " print(df_polars\n",
        " .select(pl.col(cols))\n",
        " .with_columns(pl.col('year').cast(pl.Int16),\n",
        "               pl.col('cylinders').cast(pl.UInt8),\n",
        "               pl.col('highway08').cast(pl.UInt8),\n",
        "               pl.col('city08').cast(pl.UInt8),\n",
        "               pl.col('displ').cast(pl.Float32),\n",
        "               pl.col('barrels08').cast(pl.Float32),\n",
        "               pl.col(['make', 'model', 'VClass', 'drive','fuelType']).cast(pl.Categorical),\n",
        "               pl.col('createdOn').str.to_datetime('%a %b %d %H:%M:%S %Z %Y')#convert the createdOn column to a date\n",
        "               ))"
      ],
      "metadata": {
        "colab": {
          "base_uri": "https://localhost:8080/"
        },
        "id": "MYPobZ6UfNcq",
        "outputId": "d078775f-e126-45b7-a9cc-e3415a31ab01"
      },
      "execution_count": 58,
      "outputs": [
        {
          "output_type": "stream",
          "name": "stdout",
          "text": [
            "shape: (48_581, 13)\n",
            "┌──────┬────────────┬────────────────┬───────┬───┬───────────┬────────┬───────────┬────────────────┐\n",
            "│ year ┆ make       ┆ model          ┆ displ ┆ … ┆ barrels08 ┆ city08 ┆ highway08 ┆ createdOn      │\n",
            "│ ---  ┆ ---        ┆ ---            ┆ ---   ┆   ┆ ---       ┆ ---    ┆ ---       ┆ ---            │\n",
            "│ i16  ┆ cat        ┆ cat            ┆ f32   ┆   ┆ f32       ┆ u8     ┆ u8        ┆ datetime[μs]   │\n",
            "╞══════╪════════════╪════════════════╪═══════╪═══╪═══════════╪════════╪═══════════╪════════════════╡\n",
            "│ 1985 ┆ Alfa Romeo ┆ Spider Veloce  ┆ 2.0   ┆ … ┆ 14.167143 ┆ 19     ┆ 25        ┆ 2013-01-01     │\n",
            "│      ┆            ┆ 2000           ┆       ┆   ┆           ┆        ┆           ┆ 00:00:00       │\n",
            "│ 1985 ┆ Ferrari    ┆ Testarossa     ┆ 4.9   ┆ … ┆ 27.046364 ┆ 9      ┆ 14        ┆ 2013-01-01     │\n",
            "│      ┆            ┆                ┆       ┆   ┆           ┆        ┆           ┆ 00:00:00       │\n",
            "│ 1985 ┆ Dodge      ┆ Charger        ┆ 2.2   ┆ … ┆ 11.018888 ┆ 23     ┆ 33        ┆ 2013-01-01     │\n",
            "│      ┆            ┆                ┆       ┆   ┆           ┆        ┆           ┆ 00:00:00       │\n",
            "│ 1985 ┆ Dodge      ┆ B150/B250      ┆ 5.2   ┆ … ┆ 27.046364 ┆ 10     ┆ 12        ┆ 2013-01-01     │\n",
            "│      ┆            ┆ Wagon 2WD      ┆       ┆   ┆           ┆        ┆           ┆ 00:00:00       │\n",
            "│ 1993 ┆ Subaru     ┆ Legacy AWD     ┆ 2.2   ┆ … ┆ 15.658422 ┆ 17     ┆ 23        ┆ 2013-01-01     │\n",
            "│      ┆            ┆ Turbo          ┆       ┆   ┆           ┆        ┆           ┆ 00:00:00       │\n",
            "│ …    ┆ …          ┆ …              ┆ …     ┆ … ┆ …         ┆ …      ┆ …         ┆ …              │\n",
            "│ 1993 ┆ Subaru     ┆ Legacy         ┆ 2.2   ┆ … ┆ 13.523182 ┆ 19     ┆ 26        ┆ 2013-01-01     │\n",
            "│      ┆            ┆                ┆       ┆   ┆           ┆        ┆           ┆ 00:00:00       │\n",
            "│ 1993 ┆ Subaru     ┆ Legacy         ┆ 2.2   ┆ … ┆ 12.935218 ┆ 20     ┆ 28        ┆ 2013-01-01     │\n",
            "│      ┆            ┆                ┆       ┆   ┆           ┆        ┆           ┆ 00:00:00       │\n",
            "│ 1993 ┆ Subaru     ┆ Legacy AWD     ┆ 2.2   ┆ … ┆ 14.167143 ┆ 18     ┆ 24        ┆ 2013-01-01     │\n",
            "│      ┆            ┆                ┆       ┆   ┆           ┆        ┆           ┆ 00:00:00       │\n",
            "│ 1993 ┆ Subaru     ┆ Legacy AWD     ┆ 2.2   ┆ … ┆ 14.167143 ┆ 18     ┆ 24        ┆ 2013-01-01     │\n",
            "│      ┆            ┆                ┆       ┆   ┆           ┆        ┆           ┆ 00:00:00       │\n",
            "│ 1993 ┆ Subaru     ┆ Legacy AWD     ┆ 2.2   ┆ … ┆ 16.528334 ┆ 16     ┆ 21        ┆ 2013-01-01     │\n",
            "│      ┆            ┆ Turbo          ┆       ┆   ┆           ┆        ┆           ┆ 00:00:00       │\n",
            "└──────┴────────────┴────────────────┴───────┴───┴───────────┴────────┴───────────┴────────────────┘\n"
          ]
        }
      ]
    },
    {
      "cell_type": "markdown",
      "source": [
        "##wrap all this with function"
      ],
      "metadata": {
        "id": "KykcZfaIhUEl"
      }
    },
    {
      "cell_type": "code",
      "source": [
        "@pl.StringCache()\n",
        "def tweak_auto(df):\n",
        " cols = ['year', 'make', 'model', 'displ', 'cylinders', 'trany',\n",
        " 'drive', 'VClass', 'fuelType', 'barrels08', 'city08',\n",
        " 'highway08', 'createdOn']\n",
        " return (df.select(pl.col(cols))\n",
        "           .with_columns(pl.col('year').cast(pl.Int16),\n",
        "             pl.col(['cylinders', 'highway08', 'city08']).cast(pl.UInt8),\n",
        "             pl.col(['displ', 'barrels08']).cast(pl.Float32),\n",
        "             pl.col(['make', 'model', 'VClass', 'drive','fuelType']).cast(pl.Categorical),\n",
        "             pl.col('createdOn').str.to_datetime('%a %b %d %H:%M:%S %Z %Y'),\n",
        "         is_automatic=pl.col('trany')\n",
        "                        .str.contains('Automatic')\n",
        "                        .fill_null('Automatic'),\n",
        "         num_gears=pl.col('trany')\n",
        "                     .str.extract(r'(\\d+)')\n",
        "                     .cast(pl.UInt8)\n",
        "                     .fill_null(6))\n",
        " )"
      ],
      "metadata": {
        "id": "WzgepKNMhXLF"
      },
      "execution_count": 59,
      "outputs": []
    },
    {
      "cell_type": "code",
      "source": [
        "print(tweak_auto(df_polars))"
      ],
      "metadata": {
        "colab": {
          "base_uri": "https://localhost:8080/"
        },
        "id": "zAPgE-vghTjS",
        "outputId": "d5de3c13-c9f8-4d68-e9b1-f1e6957a5d0f"
      },
      "execution_count": 61,
      "outputs": [
        {
          "output_type": "stream",
          "name": "stdout",
          "text": [
            "shape: (48_581, 15)\n",
            "┌──────┬────────────┬──────────────┬───────┬───┬───────────┬─────────────┬─────────────┬───────────┐\n",
            "│ year ┆ make       ┆ model        ┆ displ ┆ … ┆ highway08 ┆ createdOn   ┆ is_automati ┆ num_gears │\n",
            "│ ---  ┆ ---        ┆ ---          ┆ ---   ┆   ┆ ---       ┆ ---         ┆ c           ┆ ---       │\n",
            "│ i16  ┆ cat        ┆ cat          ┆ f32   ┆   ┆ u8        ┆ datetime[μs ┆ ---         ┆ u8        │\n",
            "│      ┆            ┆              ┆       ┆   ┆           ┆ ]           ┆ str         ┆           │\n",
            "╞══════╪════════════╪══════════════╪═══════╪═══╪═══════════╪═════════════╪═════════════╪═══════════╡\n",
            "│ 1985 ┆ Alfa Romeo ┆ Spider       ┆ 2.0   ┆ … ┆ 25        ┆ 2013-01-01  ┆ false       ┆ 5         │\n",
            "│      ┆            ┆ Veloce 2000  ┆       ┆   ┆           ┆ 00:00:00    ┆             ┆           │\n",
            "│ 1985 ┆ Ferrari    ┆ Testarossa   ┆ 4.9   ┆ … ┆ 14        ┆ 2013-01-01  ┆ false       ┆ 5         │\n",
            "│      ┆            ┆              ┆       ┆   ┆           ┆ 00:00:00    ┆             ┆           │\n",
            "│ 1985 ┆ Dodge      ┆ Charger      ┆ 2.2   ┆ … ┆ 33        ┆ 2013-01-01  ┆ false       ┆ 5         │\n",
            "│      ┆            ┆              ┆       ┆   ┆           ┆ 00:00:00    ┆             ┆           │\n",
            "│ 1985 ┆ Dodge      ┆ B150/B250    ┆ 5.2   ┆ … ┆ 12        ┆ 2013-01-01  ┆ true        ┆ 3         │\n",
            "│      ┆            ┆ Wagon 2WD    ┆       ┆   ┆           ┆ 00:00:00    ┆             ┆           │\n",
            "│ 1993 ┆ Subaru     ┆ Legacy AWD   ┆ 2.2   ┆ … ┆ 23        ┆ 2013-01-01  ┆ false       ┆ 5         │\n",
            "│      ┆            ┆ Turbo        ┆       ┆   ┆           ┆ 00:00:00    ┆             ┆           │\n",
            "│ …    ┆ …          ┆ …            ┆ …     ┆ … ┆ …         ┆ …           ┆ …           ┆ …         │\n",
            "│ 1993 ┆ Subaru     ┆ Legacy       ┆ 2.2   ┆ … ┆ 26        ┆ 2013-01-01  ┆ true        ┆ 4         │\n",
            "│      ┆            ┆              ┆       ┆   ┆           ┆ 00:00:00    ┆             ┆           │\n",
            "│ 1993 ┆ Subaru     ┆ Legacy       ┆ 2.2   ┆ … ┆ 28        ┆ 2013-01-01  ┆ false       ┆ 5         │\n",
            "│      ┆            ┆              ┆       ┆   ┆           ┆ 00:00:00    ┆             ┆           │\n",
            "│ 1993 ┆ Subaru     ┆ Legacy AWD   ┆ 2.2   ┆ … ┆ 24        ┆ 2013-01-01  ┆ true        ┆ 4         │\n",
            "│      ┆            ┆              ┆       ┆   ┆           ┆ 00:00:00    ┆             ┆           │\n",
            "│ 1993 ┆ Subaru     ┆ Legacy AWD   ┆ 2.2   ┆ … ┆ 24        ┆ 2013-01-01  ┆ false       ┆ 5         │\n",
            "│      ┆            ┆              ┆       ┆   ┆           ┆ 00:00:00    ┆             ┆           │\n",
            "│ 1993 ┆ Subaru     ┆ Legacy AWD   ┆ 2.2   ┆ … ┆ 21        ┆ 2013-01-01  ┆ true        ┆ 4         │\n",
            "│      ┆            ┆ Turbo        ┆       ┆   ┆           ┆ 00:00:00    ┆             ┆           │\n",
            "└──────┴────────────┴──────────────┴───────┴───┴───────────┴─────────────┴─────────────┴───────────┘\n"
          ]
        }
      ]
    },
    {
      "cell_type": "markdown",
      "source": [
        "#now check the size after all conversions and with out conversions\n"
      ],
      "metadata": {
        "id": "YmMeiqFQhy37"
      }
    },
    {
      "cell_type": "code",
      "source": [
        "tweak_auto(df_polars).estimated_size(unit='mb')"
      ],
      "metadata": {
        "colab": {
          "base_uri": "https://localhost:8080/"
        },
        "id": "X2saGY4Ph3o0",
        "outputId": "d29521d5-6557-4018-b70e-da592b4dd8f0"
      },
      "execution_count": 66,
      "outputs": [
        {
          "output_type": "execute_result",
          "data": {
            "text/plain": [
              "2.9714279174804688"
            ]
          },
          "metadata": {},
          "execution_count": 66
        }
      ]
    },
    {
      "cell_type": "code",
      "source": [
        "df_polars.select(pl.col(cols)).estimated_size(unit='mb')"
      ],
      "metadata": {
        "colab": {
          "base_uri": "https://localhost:8080/"
        },
        "id": "AXUX6UWWiQpy",
        "outputId": "6d6704b5-e3b9-4fc7-a5b5-6183e4b3d368"
      },
      "execution_count": 67,
      "outputs": [
        {
          "output_type": "execute_result",
          "data": {
            "text/plain": [
              "7.043133735656738"
            ]
          },
          "metadata": {},
          "execution_count": 67
        }
      ]
    },
    {
      "cell_type": "code",
      "source": [
        "#summary statistics\n",
        "print(tweak_auto(df_polars).describe())"
      ],
      "metadata": {
        "colab": {
          "base_uri": "https://localhost:8080/"
        },
        "id": "g8TCTgaaiWN4",
        "outputId": "dbaccae8-e61a-4c96-859a-0e51a99a9621"
      },
      "execution_count": 69,
      "outputs": [
        {
          "output_type": "stream",
          "name": "stdout",
          "text": [
            "shape: (9, 16)\n",
            "┌────────────┬─────────────┬───────┬───────┬───┬───────────┬─────────────┬─────────────┬───────────┐\n",
            "│ statistic  ┆ year        ┆ make  ┆ model ┆ … ┆ highway08 ┆ createdOn   ┆ is_automati ┆ num_gears │\n",
            "│ ---        ┆ ---         ┆ ---   ┆ ---   ┆   ┆ ---       ┆ ---         ┆ c           ┆ ---       │\n",
            "│ str        ┆ f64         ┆ str   ┆ str   ┆   ┆ f64       ┆ str         ┆ ---         ┆ f64       │\n",
            "│            ┆             ┆       ┆       ┆   ┆           ┆             ┆ str         ┆           │\n",
            "╞════════════╪═════════════╪═══════╪═══════╪═══╪═══════════╪═════════════╪═════════════╪═══════════╡\n",
            "│ count      ┆ 48581.0     ┆ 48581 ┆ 48581 ┆ … ┆ 48581.0   ┆ 48581       ┆ 48581       ┆ 48581.0   │\n",
            "│ null_count ┆ 0.0         ┆ 0     ┆ 0     ┆ … ┆ 0.0       ┆ 0           ┆ 0           ┆ 0.0       │\n",
            "│ mean       ┆ 2004.752413 ┆ null  ┆ null  ┆ … ┆ 25.970256 ┆ 2014-12-13  ┆ null        ┆ 5.349231  │\n",
            "│            ┆             ┆       ┆       ┆   ┆           ┆ 09:38:57.13 ┆             ┆           │\n",
            "│            ┆             ┆       ┆       ┆   ┆           ┆ 5917        ┆             ┆           │\n",
            "│ std        ┆ 12.758499   ┆ null  ┆ null  ┆ … ┆ 11.439295 ┆ null        ┆ null        ┆ 1.753752  │\n",
            "│ min        ┆ 1984.0      ┆ null  ┆ null  ┆ … ┆ 9.0       ┆ 2013-01-01  ┆ Automatic   ┆ 1.0       │\n",
            "│            ┆             ┆       ┆       ┆   ┆           ┆ 00:00:00    ┆             ┆           │\n",
            "│ 25%        ┆ 1993.0      ┆ null  ┆ null  ┆ … ┆ 20.0      ┆ 2013-01-01  ┆ null        ┆ 4.0       │\n",
            "│            ┆             ┆       ┆       ┆   ┆           ┆ 00:00:00    ┆             ┆           │\n",
            "│ 50%        ┆ 2006.0      ┆ null  ┆ null  ┆ … ┆ 24.0      ┆ 2013-01-01  ┆ null        ┆ 5.0       │\n",
            "│            ┆             ┆       ┆       ┆   ┆           ┆ 00:00:00    ┆             ┆           │\n",
            "│ 75%        ┆ 2016.0      ┆ null  ┆ null  ┆ … ┆ 28.0      ┆ 2015-08-12  ┆ null        ┆ 6.0       │\n",
            "│            ┆             ┆       ┆       ┆   ┆           ┆ 00:00:00    ┆             ┆           │\n",
            "│ max        ┆ 2026.0      ┆ null  ┆ null  ┆ … ┆ 142.0     ┆ 2025-04-14  ┆ true        ┆ 10.0      │\n",
            "│            ┆             ┆       ┆       ┆   ┆           ┆ 00:00:00    ┆             ┆           │\n",
            "└────────────┴─────────────┴───────┴───────┴───┴───────────┴─────────────┴─────────────┴───────────┘\n"
          ]
        }
      ]
    },
    {
      "cell_type": "code",
      "source": [
        "#.corr method returns a dataframe with the correlation coefficients.However, if a column has missing values, it will return NaN for that column\n",
        "import polars.selectors as cs\n",
        "print(tweak_auto(df_polars)\n",
        " .select(cs.numeric())\n",
        " .corr()\n",
        " .pipe(lambda x: x.insert_column(0, pl.Series('names', x.columns)))\n",
        ")"
      ],
      "metadata": {
        "colab": {
          "base_uri": "https://localhost:8080/"
        },
        "id": "ph1LHE0tjCrc",
        "outputId": "c8701c4a-a2ef-408f-8ea7-6aabac4428ca"
      },
      "execution_count": 75,
      "outputs": [
        {
          "output_type": "stream",
          "name": "stdout",
          "text": [
            "shape: (7, 8)\n",
            "┌───────────┬───────────┬───────┬───────────┬───────────┬───────────┬───────────┬───────────┐\n",
            "│ names     ┆ year      ┆ displ ┆ cylinders ┆ barrels08 ┆ city08    ┆ highway08 ┆ num_gears │\n",
            "│ ---       ┆ ---       ┆ ---   ┆ ---       ┆ ---       ┆ ---       ┆ ---       ┆ ---       │\n",
            "│ str       ┆ f64       ┆ f64   ┆ f64       ┆ f64       ┆ f64       ┆ f64       ┆ f64       │\n",
            "╞═══════════╪═══════════╪═══════╪═══════════╪═══════════╪═══════════╪═══════════╪═══════════╡\n",
            "│ year      ┆ 1.0       ┆ NaN   ┆ NaN       ┆ -0.347701 ┆ 0.275523  ┆ 0.318163  ┆ 0.641837  │\n",
            "│ displ     ┆ NaN       ┆ NaN   ┆ NaN       ┆ NaN       ┆ NaN       ┆ NaN       ┆ NaN       │\n",
            "│ cylinders ┆ NaN       ┆ NaN   ┆ NaN       ┆ NaN       ┆ NaN       ┆ NaN       ┆ NaN       │\n",
            "│ barrels08 ┆ -0.347701 ┆ NaN   ┆ NaN       ┆ 1.0       ┆ -0.733175 ┆ -0.813099 ┆ -0.017943 │\n",
            "│ city08    ┆ 0.275523  ┆ NaN   ┆ NaN       ┆ -0.733175 ┆ 1.0       ┆ 0.967449  ┆ -0.252527 │\n",
            "│ highway08 ┆ 0.318163  ┆ NaN   ┆ NaN       ┆ -0.813099 ┆ 0.967449  ┆ 1.0       ┆ -0.176308 │\n",
            "│ num_gears ┆ 0.641837  ┆ NaN   ┆ NaN       ┆ -0.017943 ┆ -0.252527 ┆ -0.176308 ┆ 1.0       │\n",
            "└───────────┴───────────┴───────┴───────────┴───────────┴───────────┴───────────┴───────────┘\n"
          ]
        }
      ]
    },
    {
      "cell_type": "code",
      "source": [
        "raw = pl.read_csv(\"/content/sample_data/vehicles.csv\", null_values=['NA'])\n",
        "autos = tweak_auto(raw)\n",
        "print(autos)\n"
      ],
      "metadata": {
        "id": "Pv2fsRJP1cIA"
      },
      "execution_count": null,
      "outputs": []
    },
    {
      "cell_type": "code",
      "source": [
        "#Adding new columns\n",
        "print(autos.select(pl.col(['highway08', 'city08']),\n",
        "                   mpg_ratio=(pl.col('highway08') / pl.col('city08')))\n",
        ")"
      ],
      "metadata": {
        "colab": {
          "base_uri": "https://localhost:8080/"
        },
        "id": "Xfuj62OH1uKs",
        "outputId": "547d506e-9f8b-4c79-8c24-8226012b4a8c"
      },
      "execution_count": 77,
      "outputs": [
        {
          "output_type": "stream",
          "name": "stdout",
          "text": [
            "shape: (48_581, 3)\n",
            "┌───────────┬────────┬───────────┐\n",
            "│ highway08 ┆ city08 ┆ mpg_ratio │\n",
            "│ ---       ┆ ---    ┆ ---       │\n",
            "│ u8        ┆ u8     ┆ f64       │\n",
            "╞═══════════╪════════╪═══════════╡\n",
            "│ 25        ┆ 19     ┆ 1.315789  │\n",
            "│ 14        ┆ 9      ┆ 1.555556  │\n",
            "│ 33        ┆ 23     ┆ 1.434783  │\n",
            "│ 12        ┆ 10     ┆ 1.2       │\n",
            "│ 23        ┆ 17     ┆ 1.352941  │\n",
            "│ …         ┆ …      ┆ …         │\n",
            "│ 26        ┆ 19     ┆ 1.368421  │\n",
            "│ 28        ┆ 20     ┆ 1.4       │\n",
            "│ 24        ┆ 18     ┆ 1.333333  │\n",
            "│ 24        ┆ 18     ┆ 1.333333  │\n",
            "│ 21        ┆ 16     ┆ 1.3125    │\n",
            "└───────────┴────────┴───────────┘\n"
          ]
        }
      ]
    },
    {
      "cell_type": "code",
      "source": [
        "print(autos.with_columns(mpg_ratio=pl.col('highway08') / pl.col('city08')))"
      ],
      "metadata": {
        "colab": {
          "base_uri": "https://localhost:8080/"
        },
        "id": "qUVDRwQm2D8Z",
        "outputId": "533c0d00-ed43-4b37-fb21-36941d5be57d"
      },
      "execution_count": 78,
      "outputs": [
        {
          "output_type": "stream",
          "name": "stdout",
          "text": [
            "shape: (48_581, 16)\n",
            "┌──────┬────────────┬──────────────┬───────┬───┬─────────────┬─────────────┬───────────┬───────────┐\n",
            "│ year ┆ make       ┆ model        ┆ displ ┆ … ┆ createdOn   ┆ is_automati ┆ num_gears ┆ mpg_ratio │\n",
            "│ ---  ┆ ---        ┆ ---          ┆ ---   ┆   ┆ ---         ┆ c           ┆ ---       ┆ ---       │\n",
            "│ i16  ┆ cat        ┆ cat          ┆ f32   ┆   ┆ datetime[μs ┆ ---         ┆ u8        ┆ f64       │\n",
            "│      ┆            ┆              ┆       ┆   ┆ ]           ┆ str         ┆           ┆           │\n",
            "╞══════╪════════════╪══════════════╪═══════╪═══╪═════════════╪═════════════╪═══════════╪═══════════╡\n",
            "│ 1985 ┆ Alfa Romeo ┆ Spider       ┆ 2.0   ┆ … ┆ 2013-01-01  ┆ false       ┆ 5         ┆ 1.315789  │\n",
            "│      ┆            ┆ Veloce 2000  ┆       ┆   ┆ 00:00:00    ┆             ┆           ┆           │\n",
            "│ 1985 ┆ Ferrari    ┆ Testarossa   ┆ 4.9   ┆ … ┆ 2013-01-01  ┆ false       ┆ 5         ┆ 1.555556  │\n",
            "│      ┆            ┆              ┆       ┆   ┆ 00:00:00    ┆             ┆           ┆           │\n",
            "│ 1985 ┆ Dodge      ┆ Charger      ┆ 2.2   ┆ … ┆ 2013-01-01  ┆ false       ┆ 5         ┆ 1.434783  │\n",
            "│      ┆            ┆              ┆       ┆   ┆ 00:00:00    ┆             ┆           ┆           │\n",
            "│ 1985 ┆ Dodge      ┆ B150/B250    ┆ 5.2   ┆ … ┆ 2013-01-01  ┆ true        ┆ 3         ┆ 1.2       │\n",
            "│      ┆            ┆ Wagon 2WD    ┆       ┆   ┆ 00:00:00    ┆             ┆           ┆           │\n",
            "│ 1993 ┆ Subaru     ┆ Legacy AWD   ┆ 2.2   ┆ … ┆ 2013-01-01  ┆ false       ┆ 5         ┆ 1.352941  │\n",
            "│      ┆            ┆ Turbo        ┆       ┆   ┆ 00:00:00    ┆             ┆           ┆           │\n",
            "│ …    ┆ …          ┆ …            ┆ …     ┆ … ┆ …           ┆ …           ┆ …         ┆ …         │\n",
            "│ 1993 ┆ Subaru     ┆ Legacy       ┆ 2.2   ┆ … ┆ 2013-01-01  ┆ true        ┆ 4         ┆ 1.368421  │\n",
            "│      ┆            ┆              ┆       ┆   ┆ 00:00:00    ┆             ┆           ┆           │\n",
            "│ 1993 ┆ Subaru     ┆ Legacy       ┆ 2.2   ┆ … ┆ 2013-01-01  ┆ false       ┆ 5         ┆ 1.4       │\n",
            "│      ┆            ┆              ┆       ┆   ┆ 00:00:00    ┆             ┆           ┆           │\n",
            "│ 1993 ┆ Subaru     ┆ Legacy AWD   ┆ 2.2   ┆ … ┆ 2013-01-01  ┆ true        ┆ 4         ┆ 1.333333  │\n",
            "│      ┆            ┆              ┆       ┆   ┆ 00:00:00    ┆             ┆           ┆           │\n",
            "│ 1993 ┆ Subaru     ┆ Legacy AWD   ┆ 2.2   ┆ … ┆ 2013-01-01  ┆ false       ┆ 5         ┆ 1.333333  │\n",
            "│      ┆            ┆              ┆       ┆   ┆ 00:00:00    ┆             ┆           ┆           │\n",
            "│ 1993 ┆ Subaru     ┆ Legacy AWD   ┆ 2.2   ┆ … ┆ 2013-01-01  ┆ true        ┆ 4         ┆ 1.3125    │\n",
            "│      ┆            ┆ Turbo        ┆       ┆   ┆ 00:00:00    ┆             ┆           ┆           │\n",
            "└──────┴────────────┴──────────────┴───────┴───┴─────────────┴─────────────┴───────────┴───────────┘\n"
          ]
        }
      ]
    },
    {
      "cell_type": "code",
      "source": [
        "#drop column from dataframe\n",
        "print(autos.drop('createdOn').columns)"
      ],
      "metadata": {
        "colab": {
          "base_uri": "https://localhost:8080/"
        },
        "id": "xk871IqdBNQL",
        "outputId": "64e3cb66-d249-4222-b0a2-279a515d158e"
      },
      "execution_count": 84,
      "outputs": [
        {
          "output_type": "stream",
          "name": "stdout",
          "text": [
            "['year', 'make', 'model', 'displ', 'cylinders', 'trany', 'drive', 'VClass', 'fuelType', 'barrels08', 'city08', 'highway08', 'is_automatic', 'num_gears']\n"
          ]
        }
      ]
    },
    {
      "cell_type": "code",
      "source": [
        " print(autos\n",
        " .select(pl.all()\n",
        " .exclude(['createdOn', 'barrels08'])\n",
        " .name.suffix('auto'))\n",
        " )\n"
      ],
      "metadata": {
        "id": "si7DS5rXB_-f"
      },
      "execution_count": null,
      "outputs": []
    },
    {
      "cell_type": "code",
      "source": [
        "#renaming columns\n",
        "final_cols = ['year', 'make', 'model', 'city_mpg', 'highway_mpg']\n",
        "print(autos.with_columns(pl.col('city08').alias('city_mpg'), highway_mpg=pl.col('highway08')).select(final_cols))"
      ],
      "metadata": {
        "colab": {
          "base_uri": "https://localhost:8080/"
        },
        "id": "_PsnN7KtCXTA",
        "outputId": "3b5c7ad3-b428-4bb4-d4e2-1b339aa8218b"
      },
      "execution_count": 91,
      "outputs": [
        {
          "output_type": "stream",
          "name": "stdout",
          "text": [
            "shape: (48_581, 5)\n",
            "┌──────┬────────────┬─────────────────────┬──────────┬─────────────┐\n",
            "│ year ┆ make       ┆ model               ┆ city_mpg ┆ highway_mpg │\n",
            "│ ---  ┆ ---        ┆ ---                 ┆ ---      ┆ ---         │\n",
            "│ i16  ┆ cat        ┆ cat                 ┆ u8       ┆ u8          │\n",
            "╞══════╪════════════╪═════════════════════╪══════════╪═════════════╡\n",
            "│ 1985 ┆ Alfa Romeo ┆ Spider Veloce 2000  ┆ 19       ┆ 25          │\n",
            "│ 1985 ┆ Ferrari    ┆ Testarossa          ┆ 9        ┆ 14          │\n",
            "│ 1985 ┆ Dodge      ┆ Charger             ┆ 23       ┆ 33          │\n",
            "│ 1985 ┆ Dodge      ┆ B150/B250 Wagon 2WD ┆ 10       ┆ 12          │\n",
            "│ 1993 ┆ Subaru     ┆ Legacy AWD Turbo    ┆ 17       ┆ 23          │\n",
            "│ …    ┆ …          ┆ …                   ┆ …        ┆ …           │\n",
            "│ 1993 ┆ Subaru     ┆ Legacy              ┆ 19       ┆ 26          │\n",
            "│ 1993 ┆ Subaru     ┆ Legacy              ┆ 20       ┆ 28          │\n",
            "│ 1993 ┆ Subaru     ┆ Legacy AWD          ┆ 18       ┆ 24          │\n",
            "│ 1993 ┆ Subaru     ┆ Legacy AWD          ┆ 18       ┆ 24          │\n",
            "│ 1993 ┆ Subaru     ┆ Legacy AWD Turbo    ┆ 16       ┆ 21          │\n",
            "└──────┴────────────┴─────────────────────┴──────────┴─────────────┘\n"
          ]
        }
      ]
    },
    {
      "cell_type": "code",
      "source": [
        "#we can use rename also--accept dict mapping\n",
        "print(autos\n",
        " .rename({'city08':'city_mpg',\n",
        " 'highway08':'highway_mpg'})\n",
        " .select(final_cols))"
      ],
      "metadata": {
        "id": "Y3eN-HWnEVm5"
      },
      "execution_count": null,
      "outputs": []
    },
    {
      "cell_type": "markdown",
      "source": [
        "##Joins"
      ],
      "metadata": {
        "id": "_CmX6EgUEpcg"
      }
    },
    {
      "cell_type": "code",
      "source": [
        "trucks = pl.DataFrame(\n",
        " {'make': ['Ford', 'Tesla', 'Chevy', 'Custom', 'Ford'],\n",
        " 'model': ['F150', 'Cybertruck', 'Silverado', 'HotRod', 'F250'],\n",
        " 'year': [2018, 2024, 2019, 1967, 2017],\n",
        " 'city_mpg': [19, None, 17, 12, 18],\n",
        " })\n",
        "print(trucks)\n"
      ],
      "metadata": {
        "colab": {
          "base_uri": "https://localhost:8080/"
        },
        "id": "jFF9nZk_EpE1",
        "outputId": "3c9119d3-d733-4b13-b1bd-8afd037c83b2"
      },
      "execution_count": 94,
      "outputs": [
        {
          "output_type": "stream",
          "name": "stdout",
          "text": [
            "shape: (5, 4)\n",
            "┌────────┬────────────┬──────┬──────────┐\n",
            "│ make   ┆ model      ┆ year ┆ city_mpg │\n",
            "│ ---    ┆ ---        ┆ ---  ┆ ---      │\n",
            "│ str    ┆ str        ┆ i64  ┆ i64      │\n",
            "╞════════╪════════════╪══════╪══════════╡\n",
            "│ Ford   ┆ F150       ┆ 2018 ┆ 19       │\n",
            "│ Tesla  ┆ Cybertruck ┆ 2024 ┆ null     │\n",
            "│ Chevy  ┆ Silverado  ┆ 2019 ┆ 17       │\n",
            "│ Custom ┆ HotRod     ┆ 1967 ┆ 12       │\n",
            "│ Ford   ┆ F250       ┆ 2017 ┆ 18       │\n",
            "└────────┴────────────┴──────┴──────────┘\n"
          ]
        }
      ]
    },
    {
      "cell_type": "code",
      "source": [
        "manufacturer = pl.DataFrame(\n",
        " {'name': ['Ford', 'Tesla', 'Chevy', 'Toyota'],\n",
        " 'country': ['USA', 'USA', 'USA', 'Japan'],\n",
        " 'founded': [1903, 2003, 1911, 1937],\n",
        " 'employees': [199_000, 48_000, 225_000, 370_000],\n",
        " 'vehicles': [80, 3, 45, 30],\n",
        " })\n",
        "print(manufacturer)"
      ],
      "metadata": {
        "colab": {
          "base_uri": "https://localhost:8080/"
        },
        "id": "SYBePjTJFIGe",
        "outputId": "7f01e7af-0cb8-4bab-bc5d-bef9aac53ca6"
      },
      "execution_count": 95,
      "outputs": [
        {
          "output_type": "stream",
          "name": "stdout",
          "text": [
            "shape: (4, 5)\n",
            "┌────────┬─────────┬─────────┬───────────┬──────────┐\n",
            "│ name   ┆ country ┆ founded ┆ employees ┆ vehicles │\n",
            "│ ---    ┆ ---     ┆ ---     ┆ ---       ┆ ---      │\n",
            "│ str    ┆ str     ┆ i64     ┆ i64       ┆ i64      │\n",
            "╞════════╪═════════╪═════════╪═══════════╪══════════╡\n",
            "│ Ford   ┆ USA     ┆ 1903    ┆ 199000    ┆ 80       │\n",
            "│ Tesla  ┆ USA     ┆ 2003    ┆ 48000     ┆ 3        │\n",
            "│ Chevy  ┆ USA     ┆ 1911    ┆ 225000    ┆ 45       │\n",
            "│ Toyota ┆ Japan   ┆ 1937    ┆ 370000    ┆ 30       │\n",
            "└────────┴─────────┴─────────┴───────────┴──────────┘\n"
          ]
        }
      ]
    },
    {
      "cell_type": "code",
      "source": [
        "print(manufacturer.join(trucks, how='left', left_on='name', right_on='make'))"
      ],
      "metadata": {
        "colab": {
          "base_uri": "https://localhost:8080/"
        },
        "id": "QMcH9JNkFRlR",
        "outputId": "2fa96712-2e93-4452-f560-669241bab20f"
      },
      "execution_count": 96,
      "outputs": [
        {
          "output_type": "stream",
          "name": "stdout",
          "text": [
            "shape: (5, 8)\n",
            "┌────────┬─────────┬─────────┬───────────┬──────────┬────────────┬──────┬──────────┐\n",
            "│ name   ┆ country ┆ founded ┆ employees ┆ vehicles ┆ model      ┆ year ┆ city_mpg │\n",
            "│ ---    ┆ ---     ┆ ---     ┆ ---       ┆ ---      ┆ ---        ┆ ---  ┆ ---      │\n",
            "│ str    ┆ str     ┆ i64     ┆ i64       ┆ i64      ┆ str        ┆ i64  ┆ i64      │\n",
            "╞════════╪═════════╪═════════╪═══════════╪══════════╪════════════╪══════╪══════════╡\n",
            "│ Ford   ┆ USA     ┆ 1903    ┆ 199000    ┆ 80       ┆ F150       ┆ 2018 ┆ 19       │\n",
            "│ Ford   ┆ USA     ┆ 1903    ┆ 199000    ┆ 80       ┆ F250       ┆ 2017 ┆ 18       │\n",
            "│ Tesla  ┆ USA     ┆ 2003    ┆ 48000     ┆ 3        ┆ Cybertruck ┆ 2024 ┆ null     │\n",
            "│ Chevy  ┆ USA     ┆ 1911    ┆ 225000    ┆ 45       ┆ Silverado  ┆ 2019 ┆ 17       │\n",
            "│ Toyota ┆ Japan   ┆ 1937    ┆ 370000    ┆ 30       ┆ null       ┆ null ┆ null     │\n",
            "└────────┴─────────┴─────────┴───────────┴──────────┴────────────┴──────┴──────────┘\n"
          ]
        }
      ]
    },
    {
      "cell_type": "markdown",
      "source": [
        "Polars doesn’t support how='right' in the .join method. Instead, we can\n",
        "use how='left' and then swap the dataframes. (We will also need to swap the\n",
        "left_on and right_on parameters.)\n"
      ],
      "metadata": {
        "id": "kYhSMGPYFi4F"
      }
    },
    {
      "cell_type": "code",
      "source": [
        "print(trucks.join(manufacturer, how='left', left_on='make', right_on='name'))"
      ],
      "metadata": {
        "colab": {
          "base_uri": "https://localhost:8080/"
        },
        "id": "4UEqMRasFj1E",
        "outputId": "4edf4edd-d96a-42ba-b002-bcb984c70fe5"
      },
      "execution_count": 97,
      "outputs": [
        {
          "output_type": "stream",
          "name": "stdout",
          "text": [
            "shape: (5, 8)\n",
            "┌────────┬────────────┬──────┬──────────┬─────────┬─────────┬───────────┬──────────┐\n",
            "│ make   ┆ model      ┆ year ┆ city_mpg ┆ country ┆ founded ┆ employees ┆ vehicles │\n",
            "│ ---    ┆ ---        ┆ ---  ┆ ---      ┆ ---     ┆ ---     ┆ ---       ┆ ---      │\n",
            "│ str    ┆ str        ┆ i64  ┆ i64      ┆ str     ┆ i64     ┆ i64       ┆ i64      │\n",
            "╞════════╪════════════╪══════╪══════════╪═════════╪═════════╪═══════════╪══════════╡\n",
            "│ Ford   ┆ F150       ┆ 2018 ┆ 19       ┆ USA     ┆ 1903    ┆ 199000    ┆ 80       │\n",
            "│ Tesla  ┆ Cybertruck ┆ 2024 ┆ null     ┆ USA     ┆ 2003    ┆ 48000     ┆ 3        │\n",
            "│ Chevy  ┆ Silverado  ┆ 2019 ┆ 17       ┆ USA     ┆ 1911    ┆ 225000    ┆ 45       │\n",
            "│ Custom ┆ HotRod     ┆ 1967 ┆ 12       ┆ null    ┆ null    ┆ null      ┆ null     │\n",
            "│ Ford   ┆ F250       ┆ 2017 ┆ 18       ┆ USA     ┆ 1903    ┆ 199000    ┆ 80       │\n",
            "└────────┴────────────┴──────┴──────────┴─────────┴─────────┴───────────┴──────────┘\n"
          ]
        }
      ]
    }
  ]
}