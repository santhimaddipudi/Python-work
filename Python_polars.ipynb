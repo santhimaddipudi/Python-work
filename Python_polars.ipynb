{
  "nbformat": 4,
  "nbformat_minor": 0,
  "metadata": {
    "colab": {
      "provenance": [],
      "authorship_tag": "ABX9TyPpmC2En4nnL/PTDcVhfgCu",
      "include_colab_link": true
    },
    "kernelspec": {
      "name": "python3",
      "display_name": "Python 3"
    },
    "language_info": {
      "name": "python"
    }
  },
  "cells": [
    {
      "cell_type": "markdown",
      "metadata": {
        "id": "view-in-github",
        "colab_type": "text"
      },
      "source": [
        "<a href=\"https://colab.research.google.com/github/santhimaddipudi/Python-work/blob/master/Python_polars.ipynb\" target=\"_parent\"><img src=\"https://colab.research.google.com/assets/colab-badge.svg\" alt=\"Open In Colab\"/></a>"
      ]
    },
    {
      "cell_type": "code",
      "source": [
        "import pandas as pd\n",
        "df=pd.read_csv(\"/content/sample_data/Iris.csv\")\n",
        "df_filtered = df[df[\"SepalLengthCm\"] > 5].groupby(\"Species\").agg('sum')  # Filter rows where 'SepalLengthCm' is greater than 5\n",
        "df_filtered.head()"
      ],
      "metadata": {
        "colab": {
          "base_uri": "https://localhost:8080/",
          "height": 175
        },
        "id": "Ll4tvdziDTfw",
        "outputId": "b8ac317d-43c6-4925-81ae-628b093ac211"
      },
      "execution_count": 4,
      "outputs": [
        {
          "output_type": "execute_result",
          "data": {
            "text/plain": [
              "                   Id  SepalLengthCm  SepalWidthCm  PetalLengthCm  \\\n",
              "Species                                                             \n",
              "Iris-setosa       564          116.9          81.7           33.2   \n",
              "Iris-versicolor  3562          281.9         131.8          202.9   \n",
              "Iris-virginica   6168          324.5         146.2          273.1   \n",
              "\n",
              "                 PetalWidthCm  \n",
              "Species                        \n",
              "Iris-setosa               6.1  \n",
              "Iris-versicolor          63.3  \n",
              "Iris-virginica           99.6  "
            ],
            "text/html": [
              "\n",
              "  <div id=\"df-715a6d81-d736-4f97-9426-02c00b592f85\" class=\"colab-df-container\">\n",
              "    <div>\n",
              "<style scoped>\n",
              "    .dataframe tbody tr th:only-of-type {\n",
              "        vertical-align: middle;\n",
              "    }\n",
              "\n",
              "    .dataframe tbody tr th {\n",
              "        vertical-align: top;\n",
              "    }\n",
              "\n",
              "    .dataframe thead th {\n",
              "        text-align: right;\n",
              "    }\n",
              "</style>\n",
              "<table border=\"1\" class=\"dataframe\">\n",
              "  <thead>\n",
              "    <tr style=\"text-align: right;\">\n",
              "      <th></th>\n",
              "      <th>Id</th>\n",
              "      <th>SepalLengthCm</th>\n",
              "      <th>SepalWidthCm</th>\n",
              "      <th>PetalLengthCm</th>\n",
              "      <th>PetalWidthCm</th>\n",
              "    </tr>\n",
              "    <tr>\n",
              "      <th>Species</th>\n",
              "      <th></th>\n",
              "      <th></th>\n",
              "      <th></th>\n",
              "      <th></th>\n",
              "      <th></th>\n",
              "    </tr>\n",
              "  </thead>\n",
              "  <tbody>\n",
              "    <tr>\n",
              "      <th>Iris-setosa</th>\n",
              "      <td>564</td>\n",
              "      <td>116.9</td>\n",
              "      <td>81.7</td>\n",
              "      <td>33.2</td>\n",
              "      <td>6.1</td>\n",
              "    </tr>\n",
              "    <tr>\n",
              "      <th>Iris-versicolor</th>\n",
              "      <td>3562</td>\n",
              "      <td>281.9</td>\n",
              "      <td>131.8</td>\n",
              "      <td>202.9</td>\n",
              "      <td>63.3</td>\n",
              "    </tr>\n",
              "    <tr>\n",
              "      <th>Iris-virginica</th>\n",
              "      <td>6168</td>\n",
              "      <td>324.5</td>\n",
              "      <td>146.2</td>\n",
              "      <td>273.1</td>\n",
              "      <td>99.6</td>\n",
              "    </tr>\n",
              "  </tbody>\n",
              "</table>\n",
              "</div>\n",
              "    <div class=\"colab-df-buttons\">\n",
              "\n",
              "  <div class=\"colab-df-container\">\n",
              "    <button class=\"colab-df-convert\" onclick=\"convertToInteractive('df-715a6d81-d736-4f97-9426-02c00b592f85')\"\n",
              "            title=\"Convert this dataframe to an interactive table.\"\n",
              "            style=\"display:none;\">\n",
              "\n",
              "  <svg xmlns=\"http://www.w3.org/2000/svg\" height=\"24px\" viewBox=\"0 -960 960 960\">\n",
              "    <path d=\"M120-120v-720h720v720H120Zm60-500h600v-160H180v160Zm220 220h160v-160H400v160Zm0 220h160v-160H400v160ZM180-400h160v-160H180v160Zm440 0h160v-160H620v160ZM180-180h160v-160H180v160Zm440 0h160v-160H620v160Z\"/>\n",
              "  </svg>\n",
              "    </button>\n",
              "\n",
              "  <style>\n",
              "    .colab-df-container {\n",
              "      display:flex;\n",
              "      gap: 12px;\n",
              "    }\n",
              "\n",
              "    .colab-df-convert {\n",
              "      background-color: #E8F0FE;\n",
              "      border: none;\n",
              "      border-radius: 50%;\n",
              "      cursor: pointer;\n",
              "      display: none;\n",
              "      fill: #1967D2;\n",
              "      height: 32px;\n",
              "      padding: 0 0 0 0;\n",
              "      width: 32px;\n",
              "    }\n",
              "\n",
              "    .colab-df-convert:hover {\n",
              "      background-color: #E2EBFA;\n",
              "      box-shadow: 0px 1px 2px rgba(60, 64, 67, 0.3), 0px 1px 3px 1px rgba(60, 64, 67, 0.15);\n",
              "      fill: #174EA6;\n",
              "    }\n",
              "\n",
              "    .colab-df-buttons div {\n",
              "      margin-bottom: 4px;\n",
              "    }\n",
              "\n",
              "    [theme=dark] .colab-df-convert {\n",
              "      background-color: #3B4455;\n",
              "      fill: #D2E3FC;\n",
              "    }\n",
              "\n",
              "    [theme=dark] .colab-df-convert:hover {\n",
              "      background-color: #434B5C;\n",
              "      box-shadow: 0px 1px 3px 1px rgba(0, 0, 0, 0.15);\n",
              "      filter: drop-shadow(0px 1px 2px rgba(0, 0, 0, 0.3));\n",
              "      fill: #FFFFFF;\n",
              "    }\n",
              "  </style>\n",
              "\n",
              "    <script>\n",
              "      const buttonEl =\n",
              "        document.querySelector('#df-715a6d81-d736-4f97-9426-02c00b592f85 button.colab-df-convert');\n",
              "      buttonEl.style.display =\n",
              "        google.colab.kernel.accessAllowed ? 'block' : 'none';\n",
              "\n",
              "      async function convertToInteractive(key) {\n",
              "        const element = document.querySelector('#df-715a6d81-d736-4f97-9426-02c00b592f85');\n",
              "        const dataTable =\n",
              "          await google.colab.kernel.invokeFunction('convertToInteractive',\n",
              "                                                    [key], {});\n",
              "        if (!dataTable) return;\n",
              "\n",
              "        const docLinkHtml = 'Like what you see? Visit the ' +\n",
              "          '<a target=\"_blank\" href=https://colab.research.google.com/notebooks/data_table.ipynb>data table notebook</a>'\n",
              "          + ' to learn more about interactive tables.';\n",
              "        element.innerHTML = '';\n",
              "        dataTable['output_type'] = 'display_data';\n",
              "        await google.colab.output.renderOutput(dataTable, element);\n",
              "        const docLink = document.createElement('div');\n",
              "        docLink.innerHTML = docLinkHtml;\n",
              "        element.appendChild(docLink);\n",
              "      }\n",
              "    </script>\n",
              "  </div>\n",
              "\n",
              "\n",
              "    <div id=\"df-405014e2-4e6d-4e57-91b5-e5c8fb2fe0e7\">\n",
              "      <button class=\"colab-df-quickchart\" onclick=\"quickchart('df-405014e2-4e6d-4e57-91b5-e5c8fb2fe0e7')\"\n",
              "                title=\"Suggest charts\"\n",
              "                style=\"display:none;\">\n",
              "\n",
              "<svg xmlns=\"http://www.w3.org/2000/svg\" height=\"24px\"viewBox=\"0 0 24 24\"\n",
              "     width=\"24px\">\n",
              "    <g>\n",
              "        <path d=\"M19 3H5c-1.1 0-2 .9-2 2v14c0 1.1.9 2 2 2h14c1.1 0 2-.9 2-2V5c0-1.1-.9-2-2-2zM9 17H7v-7h2v7zm4 0h-2V7h2v10zm4 0h-2v-4h2v4z\"/>\n",
              "    </g>\n",
              "</svg>\n",
              "      </button>\n",
              "\n",
              "<style>\n",
              "  .colab-df-quickchart {\n",
              "      --bg-color: #E8F0FE;\n",
              "      --fill-color: #1967D2;\n",
              "      --hover-bg-color: #E2EBFA;\n",
              "      --hover-fill-color: #174EA6;\n",
              "      --disabled-fill-color: #AAA;\n",
              "      --disabled-bg-color: #DDD;\n",
              "  }\n",
              "\n",
              "  [theme=dark] .colab-df-quickchart {\n",
              "      --bg-color: #3B4455;\n",
              "      --fill-color: #D2E3FC;\n",
              "      --hover-bg-color: #434B5C;\n",
              "      --hover-fill-color: #FFFFFF;\n",
              "      --disabled-bg-color: #3B4455;\n",
              "      --disabled-fill-color: #666;\n",
              "  }\n",
              "\n",
              "  .colab-df-quickchart {\n",
              "    background-color: var(--bg-color);\n",
              "    border: none;\n",
              "    border-radius: 50%;\n",
              "    cursor: pointer;\n",
              "    display: none;\n",
              "    fill: var(--fill-color);\n",
              "    height: 32px;\n",
              "    padding: 0;\n",
              "    width: 32px;\n",
              "  }\n",
              "\n",
              "  .colab-df-quickchart:hover {\n",
              "    background-color: var(--hover-bg-color);\n",
              "    box-shadow: 0 1px 2px rgba(60, 64, 67, 0.3), 0 1px 3px 1px rgba(60, 64, 67, 0.15);\n",
              "    fill: var(--button-hover-fill-color);\n",
              "  }\n",
              "\n",
              "  .colab-df-quickchart-complete:disabled,\n",
              "  .colab-df-quickchart-complete:disabled:hover {\n",
              "    background-color: var(--disabled-bg-color);\n",
              "    fill: var(--disabled-fill-color);\n",
              "    box-shadow: none;\n",
              "  }\n",
              "\n",
              "  .colab-df-spinner {\n",
              "    border: 2px solid var(--fill-color);\n",
              "    border-color: transparent;\n",
              "    border-bottom-color: var(--fill-color);\n",
              "    animation:\n",
              "      spin 1s steps(1) infinite;\n",
              "  }\n",
              "\n",
              "  @keyframes spin {\n",
              "    0% {\n",
              "      border-color: transparent;\n",
              "      border-bottom-color: var(--fill-color);\n",
              "      border-left-color: var(--fill-color);\n",
              "    }\n",
              "    20% {\n",
              "      border-color: transparent;\n",
              "      border-left-color: var(--fill-color);\n",
              "      border-top-color: var(--fill-color);\n",
              "    }\n",
              "    30% {\n",
              "      border-color: transparent;\n",
              "      border-left-color: var(--fill-color);\n",
              "      border-top-color: var(--fill-color);\n",
              "      border-right-color: var(--fill-color);\n",
              "    }\n",
              "    40% {\n",
              "      border-color: transparent;\n",
              "      border-right-color: var(--fill-color);\n",
              "      border-top-color: var(--fill-color);\n",
              "    }\n",
              "    60% {\n",
              "      border-color: transparent;\n",
              "      border-right-color: var(--fill-color);\n",
              "    }\n",
              "    80% {\n",
              "      border-color: transparent;\n",
              "      border-right-color: var(--fill-color);\n",
              "      border-bottom-color: var(--fill-color);\n",
              "    }\n",
              "    90% {\n",
              "      border-color: transparent;\n",
              "      border-bottom-color: var(--fill-color);\n",
              "    }\n",
              "  }\n",
              "</style>\n",
              "\n",
              "      <script>\n",
              "        async function quickchart(key) {\n",
              "          const quickchartButtonEl =\n",
              "            document.querySelector('#' + key + ' button');\n",
              "          quickchartButtonEl.disabled = true;  // To prevent multiple clicks.\n",
              "          quickchartButtonEl.classList.add('colab-df-spinner');\n",
              "          try {\n",
              "            const charts = await google.colab.kernel.invokeFunction(\n",
              "                'suggestCharts', [key], {});\n",
              "          } catch (error) {\n",
              "            console.error('Error during call to suggestCharts:', error);\n",
              "          }\n",
              "          quickchartButtonEl.classList.remove('colab-df-spinner');\n",
              "          quickchartButtonEl.classList.add('colab-df-quickchart-complete');\n",
              "        }\n",
              "        (() => {\n",
              "          let quickchartButtonEl =\n",
              "            document.querySelector('#df-405014e2-4e6d-4e57-91b5-e5c8fb2fe0e7 button');\n",
              "          quickchartButtonEl.style.display =\n",
              "            google.colab.kernel.accessAllowed ? 'block' : 'none';\n",
              "        })();\n",
              "      </script>\n",
              "    </div>\n",
              "\n",
              "    </div>\n",
              "  </div>\n"
            ],
            "application/vnd.google.colaboratory.intrinsic+json": {
              "type": "dataframe",
              "variable_name": "df_filtered",
              "summary": "{\n  \"name\": \"df_filtered\",\n  \"rows\": 3,\n  \"fields\": [\n    {\n      \"column\": \"Species\",\n      \"properties\": {\n        \"dtype\": \"string\",\n        \"num_unique_values\": 3,\n        \"samples\": [\n          \"Iris-setosa\",\n          \"Iris-versicolor\",\n          \"Iris-virginica\"\n        ],\n        \"semantic_type\": \"\",\n        \"description\": \"\"\n      }\n    },\n    {\n      \"column\": \"Id\",\n      \"properties\": {\n        \"dtype\": \"number\",\n        \"std\": 2804,\n        \"min\": 564,\n        \"max\": 6168,\n        \"num_unique_values\": 3,\n        \"samples\": [\n          564,\n          3562,\n          6168\n        ],\n        \"semantic_type\": \"\",\n        \"description\": \"\"\n      }\n    },\n    {\n      \"column\": \"SepalLengthCm\",\n      \"properties\": {\n        \"dtype\": \"number\",\n        \"std\": 109.64907660349903,\n        \"min\": 116.9,\n        \"max\": 324.5,\n        \"num_unique_values\": 3,\n        \"samples\": [\n          116.9,\n          281.9,\n          324.5\n        ],\n        \"semantic_type\": \"\",\n        \"description\": \"\"\n      }\n    },\n    {\n      \"column\": \"SepalWidthCm\",\n      \"properties\": {\n        \"dtype\": \"number\",\n        \"std\": 33.856609399052346,\n        \"min\": 81.7,\n        \"max\": 146.2,\n        \"num_unique_values\": 3,\n        \"samples\": [\n          81.7,\n          131.8,\n          146.2\n        ],\n        \"semantic_type\": \"\",\n        \"description\": \"\"\n      }\n    },\n    {\n      \"column\": \"PetalLengthCm\",\n      \"properties\": {\n        \"dtype\": \"number\",\n        \"std\": 123.34108534196275,\n        \"min\": 33.2,\n        \"max\": 273.1,\n        \"num_unique_values\": 3,\n        \"samples\": [\n          33.2,\n          202.9,\n          273.1\n        ],\n        \"semantic_type\": \"\",\n        \"description\": \"\"\n      }\n    },\n    {\n      \"column\": \"PetalWidthCm\",\n      \"properties\": {\n        \"dtype\": \"number\",\n        \"std\": 47.13770606778965,\n        \"min\": 6.1000000000000005,\n        \"max\": 99.6,\n        \"num_unique_values\": 3,\n        \"samples\": [\n          6.1000000000000005,\n          63.3,\n          99.6\n        ],\n        \"semantic_type\": \"\",\n        \"description\": \"\"\n      }\n    }\n  ]\n}"
            }
          },
          "metadata": {},
          "execution_count": 4
        }
      ]
    },
    {
      "cell_type": "code",
      "source": [
        "import polars as pl\n",
        "pl.__version__"
      ],
      "metadata": {
        "colab": {
          "base_uri": "https://localhost:8080/",
          "height": 35
        },
        "id": "gKI4SXztfWW7",
        "outputId": "ea7c82e9-0a57-47dd-abdb-16545284186e"
      },
      "execution_count": 5,
      "outputs": [
        {
          "output_type": "execute_result",
          "data": {
            "text/plain": [
              "'1.21.0'"
            ],
            "application/vnd.google.colaboratory.intrinsic+json": {
              "type": "string"
            }
          },
          "metadata": {},
          "execution_count": 5
        }
      ]
    },
    {
      "cell_type": "code",
      "source": [
        "#operations that are supported on materialized dataframes but not on lazy dataframes.\n",
        "df_ops = set(x for x in dir(pl.DataFrame()) if not x.startswith('_'))\n",
        "lazy_ops = set(x for x in dir(pl.LazyFrame()) if not x.startswith('_'))\n",
        "print(sorted(df_ops - lazy_ops))"
      ],
      "metadata": {
        "colab": {
          "base_uri": "https://localhost:8080/"
        },
        "id": "ifLz7pPhgbLn",
        "outputId": "297eceb8-6afe-4cf6-d839-092f742b007b"
      },
      "execution_count": 6,
      "outputs": [
        {
          "output_type": "stream",
          "name": "stdout",
          "text": [
            "['corr', 'drop_in_place', 'equals', 'estimated_size', 'extend', 'flags', 'fold', 'get_column', 'get_column_index', 'get_columns', 'glimpse', 'hash_rows', 'height', 'hstack', 'insert_column', 'is_duplicated', 'is_empty', 'is_unique', 'item', 'iter_columns', 'iter_rows', 'iter_slices', 'map_rows', 'max_horizontal', 'mean_horizontal', 'min_horizontal', 'n_chunks', 'n_unique', 'partition_by', 'pivot', 'plot', 'product', 'rechunk', 'replace_column', 'row', 'rows', 'rows_by_key', 'sample', 'shape', 'shrink_to_fit', 'style', 'sum_horizontal', 'to_arrow', 'to_dict', 'to_dicts', 'to_dummies', 'to_init_repr', 'to_jax', 'to_numpy', 'to_pandas', 'to_series', 'to_struct', 'to_torch', 'transpose', 'unstack', 'upsample', 'vstack', 'write_avro', 'write_clipboard', 'write_csv', 'write_database', 'write_delta', 'write_excel', 'write_ipc', 'write_ipc_stream', 'write_json', 'write_ndjson', 'write_parquet']\n"
          ]
        }
      ]
    },
    {
      "cell_type": "code",
      "execution_count": 7,
      "metadata": {
        "colab": {
          "base_uri": "https://localhost:8080/",
          "height": 192
        },
        "id": "i-yNO-nzBsLa",
        "outputId": "79938ce5-22a5-4f73-a92b-ee9afa2333b3"
      },
      "outputs": [
        {
          "output_type": "execute_result",
          "data": {
            "text/plain": [
              "shape: (3, 6)\n",
              "┌─────────────────┬──────┬───────────────┬──────────────┬───────────────┬──────────────┐\n",
              "│ Species         ┆ Id   ┆ SepalLengthCm ┆ SepalWidthCm ┆ PetalLengthCm ┆ PetalWidthCm │\n",
              "│ ---             ┆ ---  ┆ ---           ┆ ---          ┆ ---           ┆ ---          │\n",
              "│ str             ┆ i64  ┆ f64           ┆ f64          ┆ f64           ┆ f64          │\n",
              "╞═════════════════╪══════╪═══════════════╪══════════════╪═══════════════╪══════════════╡\n",
              "│ Iris-virginica  ┆ 6168 ┆ 324.5         ┆ 146.2        ┆ 273.1         ┆ 99.6         │\n",
              "│ Iris-versicolor ┆ 3562 ┆ 281.9         ┆ 131.8        ┆ 202.9         ┆ 63.3         │\n",
              "│ Iris-setosa     ┆ 564  ┆ 116.9         ┆ 81.7         ┆ 33.2          ┆ 6.1          │\n",
              "└─────────────────┴──────┴───────────────┴──────────────┴───────────────┴──────────────┘"
            ],
            "text/html": [
              "<div><style>\n",
              ".dataframe > thead > tr,\n",
              ".dataframe > tbody > tr {\n",
              "  text-align: right;\n",
              "  white-space: pre-wrap;\n",
              "}\n",
              "</style>\n",
              "<small>shape: (3, 6)</small><table border=\"1\" class=\"dataframe\"><thead><tr><th>Species</th><th>Id</th><th>SepalLengthCm</th><th>SepalWidthCm</th><th>PetalLengthCm</th><th>PetalWidthCm</th></tr><tr><td>str</td><td>i64</td><td>f64</td><td>f64</td><td>f64</td><td>f64</td></tr></thead><tbody><tr><td>&quot;Iris-virginica&quot;</td><td>6168</td><td>324.5</td><td>146.2</td><td>273.1</td><td>99.6</td></tr><tr><td>&quot;Iris-versicolor&quot;</td><td>3562</td><td>281.9</td><td>131.8</td><td>202.9</td><td>63.3</td></tr><tr><td>&quot;Iris-setosa&quot;</td><td>564</td><td>116.9</td><td>81.7</td><td>33.2</td><td>6.1</td></tr></tbody></table></div>"
            ]
          },
          "metadata": {},
          "execution_count": 7
        }
      ],
      "source": [
        "import polars as pl\n",
        "#lazy dataframe\n",
        "q = (\n",
        "    pl.scan_csv(\"/content/sample_data/Iris.csv\")\n",
        "    .filter(pl.col(\"SepalLengthCm\") > 5)\n",
        "    .group_by(\"Species\")\n",
        "    .agg(pl.all().sum())\n",
        ")\n",
        "\n",
        "df = q.collect()\n",
        "\n",
        "df"
      ]
    },
    {
      "cell_type": "code",
      "source": [
        "#for lazy dataframe it wont show the data\n",
        "df1=pl.scan_csv(\"/content/sample_data/Iris.csv\").filter(pl.col(\"SepalLengthCm\") > 5)\n",
        "print(df1)"
      ],
      "metadata": {
        "colab": {
          "base_uri": "https://localhost:8080/"
        },
        "id": "Q-z4WwCa-HfC",
        "outputId": "146a5142-3701-422b-c3bb-99b4d586b68b"
      },
      "execution_count": 8,
      "outputs": [
        {
          "output_type": "stream",
          "name": "stdout",
          "text": [
            "naive plan: (run LazyFrame.explain(optimized=True) to see the optimized plan)\n",
            "\n",
            "FILTER [(col(\"SepalLengthCm\")) > (5.0)] FROM\n",
            "  Csv SCAN [/content/sample_data/Iris.csv]\n",
            "  PROJECT */6 COLUMNS\n"
          ]
        }
      ]
    },
    {
      "cell_type": "code",
      "source": [
        "col=pl.col(\"SepalLengthCm\")\n",
        "col_ops = set(x for x in dir(col) if not x.startswith('_'))\n",
        "print(col_ops)"
      ],
      "metadata": {
        "colab": {
          "base_uri": "https://localhost:8080/"
        },
        "id": "RLsRUYWdB6lr",
        "outputId": "4bc8f138-1c51-4b2e-d306-09bffa407d92"
      },
      "execution_count": 9,
      "outputs": [
        {
          "output_type": "stream",
          "name": "stdout",
          "text": [
            "{'any', 'bitwise_and', 'mean', 'cbrt', 'reinterpret', 'tail', 'is_not_null', 'is_infinite', 'cot', 'struct', 'rle_id', 'shuffle', 'rechunk', 'round', 'rolling_mean_by', 'agg_groups', 'bitwise_or', 'arcsinh', 'filter', 'truediv', 'is_finite', 'is_nan', 'hist', 'eq', 'inspect', 'sub', 'dot', 'rolling_min_by', 'add', 'tan', 'repeat_by', 'log10', 'ne_missing', 'rolling_max', 'register_plugin', 'sinh', 'count', 'rolling_median', 'diff', 'where', 'over', 'head', 'product', 'ewm_mean', 'dt', 'cosh', 'ge', 'forward_fill', 'gather_every', 'and_', 'arccosh', 'rolling_sum_by', 'std', 'gt', 'ewm_mean_by', 'quantile', 'abs', 'append', 'rle', 'first', 'degrees', 'bottom_k_by', 'arg_sort', 'arg_min', 'rolling_mean', 'cos', 'floor', 'hash', 'sample', 'shrink_dtype', 'reverse', 'entropy', 'arctanh', 'round_sig_figs', 'clip', 'limit', 'rolling_var_by', 'xor', 'mod', 'peak_max', 'cut', 'deserialize', 'cum_prod', 'is_null', 'is_between', 'n_unique', 'cum_sum', 'bottom_k', 'extend_constant', 'rolling_sum', 'exclude', 'unique_counts', 'rolling_quantile', 'mul', 'arr', 'all', 'interpolate', 'search_sorted', 'map_batches', 'arg_true', 'arcsin', 'cum_count', 'fill_nan', 'radians', 'top_k_by', 'le', 'rolling_max_by', 'sign', 'fill_null', 'bitwise_leading_ones', 'exp', 'is_first_distinct', 'alias', 'neg', 'last', 'cast', 'is_in', 'pipe', 'shift', 'arctan', 'cumulative_eval', 'interpolate_by', 'var', 'reshape', 'is_duplicated', 'is_last_distinct', 'rolling', 'unique', 'eq_missing', 'median', 'is_not_nan', 'bitwise_xor', 'rolling_min', 'list', 'len', 'rolling_std_by', 'index_of', 'slice', 'drop_nulls', 'bitwise_count_ones', 'name', 'nan_min', 'qcut', 'floordiv', 'from_json', 'bitwise_trailing_zeros', 'nan_max', 'bitwise_leading_zeros', 'rolling_median_by', 'ewm_var', 'upper_bound', 'cum_max', 'null_count', 'rank', 'approx_n_unique', 'log', 'meta', 'sqrt', 'is_unique', 'gather', 'replace_strict', 'str', 'get', 'rolling_quantile_by', 'tanh', 'skew', 'bin', 'arg_max', 'not_', 'lt', 'arg_unique', 'log1p', 'top_k', 'value_counts', 'max', 'kurtosis', 'replace', 'ceil', 'rolling_map', 'rolling_var', 'drop_nans', 'min', 'bitwise_trailing_ones', 'mode', 'to_physical', 'sort_by', 'implode', 'sort', 'sum', 'has_nulls', 'peak_min', 'explode', 'cum_min', 'backward_fill', 'flatten', 'rolling_skew', 'map_elements', 'bitwise_count_zeros', 'arccos', 'pow', 'or_', 'rolling_std', 'ewm_std', 'cat', 'set_sorted', 'lower_bound', 'ne', 'pct_change', 'sin'}\n"
          ]
        }
      ]
    },
    {
      "cell_type": "code",
      "source": [
        "df=pd.read_csv(\"/content/sample_data/vehicles.csv\")\n",
        "print(df)"
      ],
      "metadata": {
        "colab": {
          "base_uri": "https://localhost:8080/"
        },
        "id": "-s_mVPDWDycr",
        "outputId": "80bc3cb3-e8cb-418a-9643-d764e2550073"
      },
      "execution_count": 10,
      "outputs": [
        {
          "output_type": "stream",
          "name": "stdout",
          "text": [
            "       barrels08  barrelsA08  charge120  charge240  city08  city08U  cityA08  \\\n",
            "0      14.167143         0.0        0.0        0.0      19      0.0        0   \n",
            "1      27.046364         0.0        0.0        0.0       9      0.0        0   \n",
            "2      11.018889         0.0        0.0        0.0      23      0.0        0   \n",
            "3      27.046364         0.0        0.0        0.0      10      0.0        0   \n",
            "4      15.658421         0.0        0.0        0.0      17      0.0        0   \n",
            "...          ...         ...        ...        ...     ...      ...      ...   \n",
            "48576  13.523182         0.0        0.0        0.0      19      0.0        0   \n",
            "48577  12.935217         0.0        0.0        0.0      20      0.0        0   \n",
            "48578  14.167143         0.0        0.0        0.0      18      0.0        0   \n",
            "48579  14.167143         0.0        0.0        0.0      18      0.0        0   \n",
            "48580  16.528333         0.0        0.0        0.0      16      0.0        0   \n",
            "\n",
            "       cityA08U  cityCD  cityE  ...  mfrCode  c240Dscr  charge240b  c240bDscr  \\\n",
            "0           0.0     0.0    0.0  ...      NaN       NaN         0.0        NaN   \n",
            "1           0.0     0.0    0.0  ...      NaN       NaN         0.0        NaN   \n",
            "2           0.0     0.0    0.0  ...      NaN       NaN         0.0        NaN   \n",
            "3           0.0     0.0    0.0  ...      NaN       NaN         0.0        NaN   \n",
            "4           0.0     0.0    0.0  ...      NaN       NaN         0.0        NaN   \n",
            "...         ...     ...    ...  ...      ...       ...         ...        ...   \n",
            "48576       0.0     0.0    0.0  ...      NaN       NaN         0.0        NaN   \n",
            "48577       0.0     0.0    0.0  ...      NaN       NaN         0.0        NaN   \n",
            "48578       0.0     0.0    0.0  ...      NaN       NaN         0.0        NaN   \n",
            "48579       0.0     0.0    0.0  ...      NaN       NaN         0.0        NaN   \n",
            "48580       0.0     0.0    0.0  ...      NaN       NaN         0.0        NaN   \n",
            "\n",
            "                          createdOn                    modifiedOn  startStop  \\\n",
            "0      Tue Jan 01 00:00:00 EST 2013  Tue Jan 01 00:00:00 EST 2013        NaN   \n",
            "1      Tue Jan 01 00:00:00 EST 2013  Tue Jan 01 00:00:00 EST 2013        NaN   \n",
            "2      Tue Jan 01 00:00:00 EST 2013  Tue Jan 01 00:00:00 EST 2013        NaN   \n",
            "3      Tue Jan 01 00:00:00 EST 2013  Tue Jan 01 00:00:00 EST 2013        NaN   \n",
            "4      Tue Jan 01 00:00:00 EST 2013  Tue Jan 01 00:00:00 EST 2013        NaN   \n",
            "...                             ...                           ...        ...   \n",
            "48576  Tue Jan 01 00:00:00 EST 2013  Tue Jan 01 00:00:00 EST 2013        NaN   \n",
            "48577  Tue Jan 01 00:00:00 EST 2013  Tue Jan 01 00:00:00 EST 2013        NaN   \n",
            "48578  Tue Jan 01 00:00:00 EST 2013  Tue Jan 01 00:00:00 EST 2013        NaN   \n",
            "48579  Tue Jan 01 00:00:00 EST 2013  Tue Jan 01 00:00:00 EST 2013        NaN   \n",
            "48580  Tue Jan 01 00:00:00 EST 2013  Tue Jan 01 00:00:00 EST 2013        NaN   \n",
            "\n",
            "       phevCity  phevHwy  phevComb  \n",
            "0             0        0         0  \n",
            "1             0        0         0  \n",
            "2             0        0         0  \n",
            "3             0        0         0  \n",
            "4             0        0         0  \n",
            "...         ...      ...       ...  \n",
            "48576         0        0         0  \n",
            "48577         0        0         0  \n",
            "48578         0        0         0  \n",
            "48579         0        0         0  \n",
            "48580         0        0         0  \n",
            "\n",
            "[48581 rows x 84 columns]\n"
          ]
        },
        {
          "output_type": "stream",
          "name": "stderr",
          "text": [
            "<ipython-input-10-a126a39993e8>:1: DtypeWarning: Columns (74,75,77) have mixed types. Specify dtype option on import or set low_memory=False.\n",
            "  df=pd.read_csv(\"/content/sample_data/vehicles.csv\")\n"
          ]
        }
      ]
    },
    {
      "cell_type": "code",
      "source": [
        "lazy = pl.scan_csv(\"/content/sample_data/vehicles.csv\", null_values=['NA'])\n",
        "print(lazy)\n",
        "lazy.explain(optimized=True)"
      ],
      "metadata": {
        "colab": {
          "base_uri": "https://localhost:8080/",
          "height": 104
        },
        "id": "mi7rKD6HE6pL",
        "outputId": "f8788931-1aba-4d57-f6d6-b3edad954946"
      },
      "execution_count": 11,
      "outputs": [
        {
          "output_type": "stream",
          "name": "stdout",
          "text": [
            "naive plan: (run LazyFrame.explain(optimized=True) to see the optimized plan)\n",
            "\n",
            "Csv SCAN [/content/sample_data/vehicles.csv]\n",
            "PROJECT */84 COLUMNS\n"
          ]
        },
        {
          "output_type": "execute_result",
          "data": {
            "text/plain": [
              "'Csv SCAN [/content/sample_data/vehicles.csv]\\nPROJECT */84 COLUMNS'"
            ],
            "application/vnd.google.colaboratory.intrinsic+json": {
              "type": "string"
            }
          },
          "metadata": {},
          "execution_count": 11
        }
      ]
    },
    {
      "cell_type": "code",
      "source": [
        "print(lazy\n",
        " .filter((pl.col('year') >= 1990) & (pl.col('year') < 2000))\n",
        " .select(['year','make'])\n",
        " .explain()\n",
        ")"
      ],
      "metadata": {
        "colab": {
          "base_uri": "https://localhost:8080/"
        },
        "id": "jlWmyr-6FUnb",
        "outputId": "288efb4c-1869-4d88-a419-9cc2788fb43d"
      },
      "execution_count": 12,
      "outputs": [
        {
          "output_type": "stream",
          "name": "stdout",
          "text": [
            "simple π 2/2 [\"year\", \"make\"]\n",
            "  Csv SCAN [/content/sample_data/vehicles.csv]\n",
            "  PROJECT 2/84 COLUMNS\n",
            "  SELECTION: [([(col(\"year\")) < (2000)]) & ([(col(\"year\")) >= (1990)])]\n"
          ]
        }
      ]
    },
    {
      "cell_type": "code",
      "source": [
        "print(df.dtypes)"
      ],
      "metadata": {
        "colab": {
          "base_uri": "https://localhost:8080/"
        },
        "id": "ESxh3smjFvab",
        "outputId": "40ee209e-a22d-4e17-ee7a-a61082fe7785"
      },
      "execution_count": 13,
      "outputs": [
        {
          "output_type": "stream",
          "name": "stdout",
          "text": [
            "barrels08     float64\n",
            "barrelsA08    float64\n",
            "charge120     float64\n",
            "charge240     float64\n",
            "city08          int64\n",
            "               ...   \n",
            "modifiedOn     object\n",
            "startStop      object\n",
            "phevCity        int64\n",
            "phevHwy         int64\n",
            "phevComb        int64\n",
            "Length: 84, dtype: object\n"
          ]
        }
      ]
    },
    {
      "cell_type": "code",
      "source": [
        "print(df.info(verbose=True))"
      ],
      "metadata": {
        "id": "lm1hp7BVF1p0"
      },
      "execution_count": null,
      "outputs": []
    },
    {
      "cell_type": "code",
      "source": [
        "cols = ['year', 'make', 'model', 'displ', 'cylinders', 'trany', 'drive', 'VClass', 'fuelType', 'barrels08', 'city08', 'highway08','createdOn']\n",
        "df_polars = pl.from_pandas(df)\n",
        "print(df_polars.select(cols))"
      ],
      "metadata": {
        "colab": {
          "base_uri": "https://localhost:8080/"
        },
        "id": "3jkLLoIMGr_9",
        "outputId": "35639e8f-ac30-42a3-df81-3f6907f41d6b"
      },
      "execution_count": 15,
      "outputs": [
        {
          "output_type": "stream",
          "name": "stdout",
          "text": [
            "shape: (48_581, 13)\n",
            "┌──────┬────────────┬────────────────┬───────┬───┬───────────┬────────┬───────────┬────────────────┐\n",
            "│ year ┆ make       ┆ model          ┆ displ ┆ … ┆ barrels08 ┆ city08 ┆ highway08 ┆ createdOn      │\n",
            "│ ---  ┆ ---        ┆ ---            ┆ ---   ┆   ┆ ---       ┆ ---    ┆ ---       ┆ ---            │\n",
            "│ i64  ┆ str        ┆ str            ┆ f64   ┆   ┆ f64       ┆ i64    ┆ i64       ┆ str            │\n",
            "╞══════╪════════════╪════════════════╪═══════╪═══╪═══════════╪════════╪═══════════╪════════════════╡\n",
            "│ 1985 ┆ Alfa Romeo ┆ Spider Veloce  ┆ 2.0   ┆ … ┆ 14.167143 ┆ 19     ┆ 25        ┆ Tue Jan 01     │\n",
            "│      ┆            ┆ 2000           ┆       ┆   ┆           ┆        ┆           ┆ 00:00:00 EST   │\n",
            "│      ┆            ┆                ┆       ┆   ┆           ┆        ┆           ┆ 2013           │\n",
            "│ 1985 ┆ Ferrari    ┆ Testarossa     ┆ 4.9   ┆ … ┆ 27.046364 ┆ 9      ┆ 14        ┆ Tue Jan 01     │\n",
            "│      ┆            ┆                ┆       ┆   ┆           ┆        ┆           ┆ 00:00:00 EST   │\n",
            "│      ┆            ┆                ┆       ┆   ┆           ┆        ┆           ┆ 2013           │\n",
            "│ 1985 ┆ Dodge      ┆ Charger        ┆ 2.2   ┆ … ┆ 11.018889 ┆ 23     ┆ 33        ┆ Tue Jan 01     │\n",
            "│      ┆            ┆                ┆       ┆   ┆           ┆        ┆           ┆ 00:00:00 EST   │\n",
            "│      ┆            ┆                ┆       ┆   ┆           ┆        ┆           ┆ 2013           │\n",
            "│ 1985 ┆ Dodge      ┆ B150/B250      ┆ 5.2   ┆ … ┆ 27.046364 ┆ 10     ┆ 12        ┆ Tue Jan 01     │\n",
            "│      ┆            ┆ Wagon 2WD      ┆       ┆   ┆           ┆        ┆           ┆ 00:00:00 EST   │\n",
            "│      ┆            ┆                ┆       ┆   ┆           ┆        ┆           ┆ 2013           │\n",
            "│ 1993 ┆ Subaru     ┆ Legacy AWD     ┆ 2.2   ┆ … ┆ 15.658421 ┆ 17     ┆ 23        ┆ Tue Jan 01     │\n",
            "│      ┆            ┆ Turbo          ┆       ┆   ┆           ┆        ┆           ┆ 00:00:00 EST   │\n",
            "│      ┆            ┆                ┆       ┆   ┆           ┆        ┆           ┆ 2013           │\n",
            "│ …    ┆ …          ┆ …              ┆ …     ┆ … ┆ …         ┆ …      ┆ …         ┆ …              │\n",
            "│ 1993 ┆ Subaru     ┆ Legacy         ┆ 2.2   ┆ … ┆ 13.523182 ┆ 19     ┆ 26        ┆ Tue Jan 01     │\n",
            "│      ┆            ┆                ┆       ┆   ┆           ┆        ┆           ┆ 00:00:00 EST   │\n",
            "│      ┆            ┆                ┆       ┆   ┆           ┆        ┆           ┆ 2013           │\n",
            "│ 1993 ┆ Subaru     ┆ Legacy         ┆ 2.2   ┆ … ┆ 12.935217 ┆ 20     ┆ 28        ┆ Tue Jan 01     │\n",
            "│      ┆            ┆                ┆       ┆   ┆           ┆        ┆           ┆ 00:00:00 EST   │\n",
            "│      ┆            ┆                ┆       ┆   ┆           ┆        ┆           ┆ 2013           │\n",
            "│ 1993 ┆ Subaru     ┆ Legacy AWD     ┆ 2.2   ┆ … ┆ 14.167143 ┆ 18     ┆ 24        ┆ Tue Jan 01     │\n",
            "│      ┆            ┆                ┆       ┆   ┆           ┆        ┆           ┆ 00:00:00 EST   │\n",
            "│      ┆            ┆                ┆       ┆   ┆           ┆        ┆           ┆ 2013           │\n",
            "│ 1993 ┆ Subaru     ┆ Legacy AWD     ┆ 2.2   ┆ … ┆ 14.167143 ┆ 18     ┆ 24        ┆ Tue Jan 01     │\n",
            "│      ┆            ┆                ┆       ┆   ┆           ┆        ┆           ┆ 00:00:00 EST   │\n",
            "│      ┆            ┆                ┆       ┆   ┆           ┆        ┆           ┆ 2013           │\n",
            "│ 1993 ┆ Subaru     ┆ Legacy AWD     ┆ 2.2   ┆ … ┆ 16.528333 ┆ 16     ┆ 21        ┆ Tue Jan 01     │\n",
            "│      ┆            ┆ Turbo          ┆       ┆   ┆           ┆        ┆           ┆ 00:00:00 EST   │\n",
            "│      ┆            ┆                ┆       ┆   ┆           ┆        ┆           ┆ 2013           │\n",
            "└──────┴────────────┴────────────────┴───────┴───┴───────────┴────────┴───────────┴────────────────┘\n"
          ]
        }
      ]
    },
    {
      "cell_type": "code",
      "source": [
        "print(df_polars.select(pl.col(cols)))"
      ],
      "metadata": {
        "colab": {
          "base_uri": "https://localhost:8080/"
        },
        "id": "lxZTYv2VHQ4B",
        "outputId": "c9cc495d-9a37-41fa-daa4-0af2b22ebdc4"
      },
      "execution_count": 16,
      "outputs": [
        {
          "output_type": "stream",
          "name": "stdout",
          "text": [
            "shape: (48_581, 13)\n",
            "┌──────┬────────────┬────────────────┬───────┬───┬───────────┬────────┬───────────┬────────────────┐\n",
            "│ year ┆ make       ┆ model          ┆ displ ┆ … ┆ barrels08 ┆ city08 ┆ highway08 ┆ createdOn      │\n",
            "│ ---  ┆ ---        ┆ ---            ┆ ---   ┆   ┆ ---       ┆ ---    ┆ ---       ┆ ---            │\n",
            "│ i64  ┆ str        ┆ str            ┆ f64   ┆   ┆ f64       ┆ i64    ┆ i64       ┆ str            │\n",
            "╞══════╪════════════╪════════════════╪═══════╪═══╪═══════════╪════════╪═══════════╪════════════════╡\n",
            "│ 1985 ┆ Alfa Romeo ┆ Spider Veloce  ┆ 2.0   ┆ … ┆ 14.167143 ┆ 19     ┆ 25        ┆ Tue Jan 01     │\n",
            "│      ┆            ┆ 2000           ┆       ┆   ┆           ┆        ┆           ┆ 00:00:00 EST   │\n",
            "│      ┆            ┆                ┆       ┆   ┆           ┆        ┆           ┆ 2013           │\n",
            "│ 1985 ┆ Ferrari    ┆ Testarossa     ┆ 4.9   ┆ … ┆ 27.046364 ┆ 9      ┆ 14        ┆ Tue Jan 01     │\n",
            "│      ┆            ┆                ┆       ┆   ┆           ┆        ┆           ┆ 00:00:00 EST   │\n",
            "│      ┆            ┆                ┆       ┆   ┆           ┆        ┆           ┆ 2013           │\n",
            "│ 1985 ┆ Dodge      ┆ Charger        ┆ 2.2   ┆ … ┆ 11.018889 ┆ 23     ┆ 33        ┆ Tue Jan 01     │\n",
            "│      ┆            ┆                ┆       ┆   ┆           ┆        ┆           ┆ 00:00:00 EST   │\n",
            "│      ┆            ┆                ┆       ┆   ┆           ┆        ┆           ┆ 2013           │\n",
            "│ 1985 ┆ Dodge      ┆ B150/B250      ┆ 5.2   ┆ … ┆ 27.046364 ┆ 10     ┆ 12        ┆ Tue Jan 01     │\n",
            "│      ┆            ┆ Wagon 2WD      ┆       ┆   ┆           ┆        ┆           ┆ 00:00:00 EST   │\n",
            "│      ┆            ┆                ┆       ┆   ┆           ┆        ┆           ┆ 2013           │\n",
            "│ 1993 ┆ Subaru     ┆ Legacy AWD     ┆ 2.2   ┆ … ┆ 15.658421 ┆ 17     ┆ 23        ┆ Tue Jan 01     │\n",
            "│      ┆            ┆ Turbo          ┆       ┆   ┆           ┆        ┆           ┆ 00:00:00 EST   │\n",
            "│      ┆            ┆                ┆       ┆   ┆           ┆        ┆           ┆ 2013           │\n",
            "│ …    ┆ …          ┆ …              ┆ …     ┆ … ┆ …         ┆ …      ┆ …         ┆ …              │\n",
            "│ 1993 ┆ Subaru     ┆ Legacy         ┆ 2.2   ┆ … ┆ 13.523182 ┆ 19     ┆ 26        ┆ Tue Jan 01     │\n",
            "│      ┆            ┆                ┆       ┆   ┆           ┆        ┆           ┆ 00:00:00 EST   │\n",
            "│      ┆            ┆                ┆       ┆   ┆           ┆        ┆           ┆ 2013           │\n",
            "│ 1993 ┆ Subaru     ┆ Legacy         ┆ 2.2   ┆ … ┆ 12.935217 ┆ 20     ┆ 28        ┆ Tue Jan 01     │\n",
            "│      ┆            ┆                ┆       ┆   ┆           ┆        ┆           ┆ 00:00:00 EST   │\n",
            "│      ┆            ┆                ┆       ┆   ┆           ┆        ┆           ┆ 2013           │\n",
            "│ 1993 ┆ Subaru     ┆ Legacy AWD     ┆ 2.2   ┆ … ┆ 14.167143 ┆ 18     ┆ 24        ┆ Tue Jan 01     │\n",
            "│      ┆            ┆                ┆       ┆   ┆           ┆        ┆           ┆ 00:00:00 EST   │\n",
            "│      ┆            ┆                ┆       ┆   ┆           ┆        ┆           ┆ 2013           │\n",
            "│ 1993 ┆ Subaru     ┆ Legacy AWD     ┆ 2.2   ┆ … ┆ 14.167143 ┆ 18     ┆ 24        ┆ Tue Jan 01     │\n",
            "│      ┆            ┆                ┆       ┆   ┆           ┆        ┆           ┆ 00:00:00 EST   │\n",
            "│      ┆            ┆                ┆       ┆   ┆           ┆        ┆           ┆ 2013           │\n",
            "│ 1993 ┆ Subaru     ┆ Legacy AWD     ┆ 2.2   ┆ … ┆ 16.528333 ┆ 16     ┆ 21        ┆ Tue Jan 01     │\n",
            "│      ┆            ┆ Turbo          ┆       ┆   ┆           ┆        ┆           ┆ 00:00:00 EST   │\n",
            "│      ┆            ┆                ┆       ┆   ┆           ┆        ┆           ┆ 2013           │\n",
            "└──────┴────────────┴────────────────┴───────┴───┴───────────┴────────┴───────────┴────────────────┘\n"
          ]
        }
      ]
    },
    {
      "cell_type": "code",
      "source": [
        "print(df_polars\n",
        " .select(pl.col(cols))\n",
        " .select(pl.col(pl.Int64))\n",
        " .describe())"
      ],
      "metadata": {
        "colab": {
          "base_uri": "https://localhost:8080/"
        },
        "id": "nyUhUjbMHiiM",
        "outputId": "f7ca9de5-bfb3-4a04-c8b9-0d5d5c4df31e"
      },
      "execution_count": 17,
      "outputs": [
        {
          "output_type": "stream",
          "name": "stdout",
          "text": [
            "shape: (9, 4)\n",
            "┌────────────┬─────────────┬───────────┬───────────┐\n",
            "│ statistic  ┆ year        ┆ city08    ┆ highway08 │\n",
            "│ ---        ┆ ---         ┆ ---       ┆ ---       │\n",
            "│ str        ┆ f64         ┆ f64       ┆ f64       │\n",
            "╞════════════╪═════════════╪═══════════╪═══════════╡\n",
            "│ count      ┆ 48581.0     ┆ 48581.0   ┆ 48581.0   │\n",
            "│ null_count ┆ 0.0         ┆ 0.0       ┆ 0.0       │\n",
            "│ mean       ┆ 2004.752413 ┆ 20.131615 ┆ 25.970256 │\n",
            "│ std        ┆ 12.758499   ┆ 13.198585 ┆ 11.439295 │\n",
            "│ min        ┆ 1984.0      ┆ 6.0       ┆ 9.0       │\n",
            "│ 25%        ┆ 1993.0      ┆ 15.0      ┆ 20.0      │\n",
            "│ 50%        ┆ 2006.0      ┆ 18.0      ┆ 24.0      │\n",
            "│ 75%        ┆ 2016.0      ┆ 21.0      ┆ 28.0      │\n",
            "│ max        ┆ 2026.0      ┆ 153.0     ┆ 142.0     │\n",
            "└────────────┴─────────────┴───────────┴───────────┘\n"
          ]
        }
      ]
    },
    {
      "cell_type": "code",
      "source": [
        "#When the with_columns context runs, Polars will read the data from the year column and cast it to a 16-bit integer and cast it to a 16-bit integer\n",
        "print(df_polars\n",
        " .select(pl.col(cols))\n",
        " .with_columns(pl.col('year').cast(pl.Int16),\n",
        "               pl.col('cylinders').cast(pl.UInt8),\n",
        "               pl.col('highway08').cast(pl.UInt8),\n",
        "               pl.col('city08').cast(pl.UInt8)))"
      ],
      "metadata": {
        "id": "qN_u2_4AIhvh"
      },
      "execution_count": null,
      "outputs": []
    },
    {
      "cell_type": "code",
      "source": [
        "#Polars includes a column expression to shrink numeric columns, the shrink_dtype method\n",
        "print(df_polars.select(pl.col(cols).shrink_dtype()))"
      ],
      "metadata": {
        "colab": {
          "base_uri": "https://localhost:8080/"
        },
        "id": "MLHYWEYDJIvS",
        "outputId": "66e63f09-7cbd-4a70-afae-afba3058294b"
      },
      "execution_count": 19,
      "outputs": [
        {
          "output_type": "stream",
          "name": "stdout",
          "text": [
            "shape: (48_581, 13)\n",
            "┌──────┬────────────┬────────────────┬───────┬───┬───────────┬────────┬───────────┬────────────────┐\n",
            "│ year ┆ make       ┆ model          ┆ displ ┆ … ┆ barrels08 ┆ city08 ┆ highway08 ┆ createdOn      │\n",
            "│ ---  ┆ ---        ┆ ---            ┆ ---   ┆   ┆ ---       ┆ ---    ┆ ---       ┆ ---            │\n",
            "│ i16  ┆ str        ┆ str            ┆ f32   ┆   ┆ f32       ┆ i16    ┆ i16       ┆ str            │\n",
            "╞══════╪════════════╪════════════════╪═══════╪═══╪═══════════╪════════╪═══════════╪════════════════╡\n",
            "│ 1985 ┆ Alfa Romeo ┆ Spider Veloce  ┆ 2.0   ┆ … ┆ 14.167143 ┆ 19     ┆ 25        ┆ Tue Jan 01     │\n",
            "│      ┆            ┆ 2000           ┆       ┆   ┆           ┆        ┆           ┆ 00:00:00 EST   │\n",
            "│      ┆            ┆                ┆       ┆   ┆           ┆        ┆           ┆ 2013           │\n",
            "│ 1985 ┆ Ferrari    ┆ Testarossa     ┆ 4.9   ┆ … ┆ 27.046364 ┆ 9      ┆ 14        ┆ Tue Jan 01     │\n",
            "│      ┆            ┆                ┆       ┆   ┆           ┆        ┆           ┆ 00:00:00 EST   │\n",
            "│      ┆            ┆                ┆       ┆   ┆           ┆        ┆           ┆ 2013           │\n",
            "│ 1985 ┆ Dodge      ┆ Charger        ┆ 2.2   ┆ … ┆ 11.018888 ┆ 23     ┆ 33        ┆ Tue Jan 01     │\n",
            "│      ┆            ┆                ┆       ┆   ┆           ┆        ┆           ┆ 00:00:00 EST   │\n",
            "│      ┆            ┆                ┆       ┆   ┆           ┆        ┆           ┆ 2013           │\n",
            "│ 1985 ┆ Dodge      ┆ B150/B250      ┆ 5.2   ┆ … ┆ 27.046364 ┆ 10     ┆ 12        ┆ Tue Jan 01     │\n",
            "│      ┆            ┆ Wagon 2WD      ┆       ┆   ┆           ┆        ┆           ┆ 00:00:00 EST   │\n",
            "│      ┆            ┆                ┆       ┆   ┆           ┆        ┆           ┆ 2013           │\n",
            "│ 1993 ┆ Subaru     ┆ Legacy AWD     ┆ 2.2   ┆ … ┆ 15.658422 ┆ 17     ┆ 23        ┆ Tue Jan 01     │\n",
            "│      ┆            ┆ Turbo          ┆       ┆   ┆           ┆        ┆           ┆ 00:00:00 EST   │\n",
            "│      ┆            ┆                ┆       ┆   ┆           ┆        ┆           ┆ 2013           │\n",
            "│ …    ┆ …          ┆ …              ┆ …     ┆ … ┆ …         ┆ …      ┆ …         ┆ …              │\n",
            "│ 1993 ┆ Subaru     ┆ Legacy         ┆ 2.2   ┆ … ┆ 13.523182 ┆ 19     ┆ 26        ┆ Tue Jan 01     │\n",
            "│      ┆            ┆                ┆       ┆   ┆           ┆        ┆           ┆ 00:00:00 EST   │\n",
            "│      ┆            ┆                ┆       ┆   ┆           ┆        ┆           ┆ 2013           │\n",
            "│ 1993 ┆ Subaru     ┆ Legacy         ┆ 2.2   ┆ … ┆ 12.935218 ┆ 20     ┆ 28        ┆ Tue Jan 01     │\n",
            "│      ┆            ┆                ┆       ┆   ┆           ┆        ┆           ┆ 00:00:00 EST   │\n",
            "│      ┆            ┆                ┆       ┆   ┆           ┆        ┆           ┆ 2013           │\n",
            "│ 1993 ┆ Subaru     ┆ Legacy AWD     ┆ 2.2   ┆ … ┆ 14.167143 ┆ 18     ┆ 24        ┆ Tue Jan 01     │\n",
            "│      ┆            ┆                ┆       ┆   ┆           ┆        ┆           ┆ 00:00:00 EST   │\n",
            "│      ┆            ┆                ┆       ┆   ┆           ┆        ┆           ┆ 2013           │\n",
            "│ 1993 ┆ Subaru     ┆ Legacy AWD     ┆ 2.2   ┆ … ┆ 14.167143 ┆ 18     ┆ 24        ┆ Tue Jan 01     │\n",
            "│      ┆            ┆                ┆       ┆   ┆           ┆        ┆           ┆ 00:00:00 EST   │\n",
            "│      ┆            ┆                ┆       ┆   ┆           ┆        ┆           ┆ 2013           │\n",
            "│ 1993 ┆ Subaru     ┆ Legacy AWD     ┆ 2.2   ┆ … ┆ 16.528334 ┆ 16     ┆ 21        ┆ Tue Jan 01     │\n",
            "│      ┆            ┆ Turbo          ┆       ┆   ┆           ┆        ┆           ┆ 00:00:00 EST   │\n",
            "│      ┆            ┆                ┆       ┆   ┆           ┆        ┆           ┆ 2013           │\n",
            "└──────┴────────────┴────────────────┴───────┴───┴───────────┴────────┴───────────┴────────────────┘\n"
          ]
        }
      ]
    },
    {
      "cell_type": "code",
      "source": [
        "print(df_polars\n",
        ".select(pl.col(cols))\n",
        ".select(pl.col(pl.Float64))\n",
        ".sample(n=10, seed=42)\n",
        ")\n"
      ],
      "metadata": {
        "colab": {
          "base_uri": "https://localhost:8080/"
        },
        "id": "nKdAk96tYLso",
        "outputId": "0289a90f-3dcf-49f8-f210-041a1f2dcf3d"
      },
      "execution_count": 20,
      "outputs": [
        {
          "output_type": "stream",
          "name": "stdout",
          "text": [
            "shape: (10, 3)\n",
            "┌───────┬───────────┬───────────┐\n",
            "│ displ ┆ cylinders ┆ barrels08 │\n",
            "│ ---   ┆ ---       ┆ ---       │\n",
            "│ f64   ┆ f64       ┆ f64       │\n",
            "╞═══════╪═══════════╪═══════════╡\n",
            "│ 3.0   ┆ 6.0       ┆ 17.500588 │\n",
            "│ 5.3   ┆ 8.0       ┆ 21.250714 │\n",
            "│ 2.2   ┆ 4.0       ┆ 15.658421 │\n",
            "│ 2.2   ┆ 4.0       ┆ 12.39625  │\n",
            "│ 3.5   ┆ 6.0       ┆ 15.658421 │\n",
            "│ 5.5   ┆ 8.0       ┆ 18.594375 │\n",
            "│ 2.0   ┆ 4.0       ┆ 12.935217 │\n",
            "│ 2.0   ┆ 4.0       ┆ 13.523182 │\n",
            "│ 4.9   ┆ 6.0       ┆ 21.250714 │\n",
            "│ 4.0   ┆ 8.0       ┆ 17.500588 │\n",
            "└───────┴───────────┴───────────┘\n"
          ]
        }
      ]
    },
    {
      "cell_type": "code",
      "source": [
        "print(df_polars\n",
        " .select(pl.col(cols))\n",
        " .with_columns(pl.col('year').cast(pl.Int16),\n",
        "               pl.col('cylinders').cast(pl.UInt8),\n",
        "               pl.col('highway08').cast(pl.UInt8),\n",
        "               pl.col('city08').cast(pl.UInt8),\n",
        "               pl.col('displ').cast(pl.Float32),\n",
        "               pl.col('barrels08').cast(pl.Float32)\n",
        "               ))"
      ],
      "metadata": {
        "colab": {
          "base_uri": "https://localhost:8080/"
        },
        "id": "_xxlncTCYf63",
        "outputId": "97278394-9ac4-4b00-a1df-e63f69de4fe5"
      },
      "execution_count": 21,
      "outputs": [
        {
          "output_type": "stream",
          "name": "stdout",
          "text": [
            "shape: (48_581, 13)\n",
            "┌──────┬────────────┬────────────────┬───────┬───┬───────────┬────────┬───────────┬────────────────┐\n",
            "│ year ┆ make       ┆ model          ┆ displ ┆ … ┆ barrels08 ┆ city08 ┆ highway08 ┆ createdOn      │\n",
            "│ ---  ┆ ---        ┆ ---            ┆ ---   ┆   ┆ ---       ┆ ---    ┆ ---       ┆ ---            │\n",
            "│ i16  ┆ str        ┆ str            ┆ f32   ┆   ┆ f32       ┆ u8     ┆ u8        ┆ str            │\n",
            "╞══════╪════════════╪════════════════╪═══════╪═══╪═══════════╪════════╪═══════════╪════════════════╡\n",
            "│ 1985 ┆ Alfa Romeo ┆ Spider Veloce  ┆ 2.0   ┆ … ┆ 14.167143 ┆ 19     ┆ 25        ┆ Tue Jan 01     │\n",
            "│      ┆            ┆ 2000           ┆       ┆   ┆           ┆        ┆           ┆ 00:00:00 EST   │\n",
            "│      ┆            ┆                ┆       ┆   ┆           ┆        ┆           ┆ 2013           │\n",
            "│ 1985 ┆ Ferrari    ┆ Testarossa     ┆ 4.9   ┆ … ┆ 27.046364 ┆ 9      ┆ 14        ┆ Tue Jan 01     │\n",
            "│      ┆            ┆                ┆       ┆   ┆           ┆        ┆           ┆ 00:00:00 EST   │\n",
            "│      ┆            ┆                ┆       ┆   ┆           ┆        ┆           ┆ 2013           │\n",
            "│ 1985 ┆ Dodge      ┆ Charger        ┆ 2.2   ┆ … ┆ 11.018888 ┆ 23     ┆ 33        ┆ Tue Jan 01     │\n",
            "│      ┆            ┆                ┆       ┆   ┆           ┆        ┆           ┆ 00:00:00 EST   │\n",
            "│      ┆            ┆                ┆       ┆   ┆           ┆        ┆           ┆ 2013           │\n",
            "│ 1985 ┆ Dodge      ┆ B150/B250      ┆ 5.2   ┆ … ┆ 27.046364 ┆ 10     ┆ 12        ┆ Tue Jan 01     │\n",
            "│      ┆            ┆ Wagon 2WD      ┆       ┆   ┆           ┆        ┆           ┆ 00:00:00 EST   │\n",
            "│      ┆            ┆                ┆       ┆   ┆           ┆        ┆           ┆ 2013           │\n",
            "│ 1993 ┆ Subaru     ┆ Legacy AWD     ┆ 2.2   ┆ … ┆ 15.658422 ┆ 17     ┆ 23        ┆ Tue Jan 01     │\n",
            "│      ┆            ┆ Turbo          ┆       ┆   ┆           ┆        ┆           ┆ 00:00:00 EST   │\n",
            "│      ┆            ┆                ┆       ┆   ┆           ┆        ┆           ┆ 2013           │\n",
            "│ …    ┆ …          ┆ …              ┆ …     ┆ … ┆ …         ┆ …      ┆ …         ┆ …              │\n",
            "│ 1993 ┆ Subaru     ┆ Legacy         ┆ 2.2   ┆ … ┆ 13.523182 ┆ 19     ┆ 26        ┆ Tue Jan 01     │\n",
            "│      ┆            ┆                ┆       ┆   ┆           ┆        ┆           ┆ 00:00:00 EST   │\n",
            "│      ┆            ┆                ┆       ┆   ┆           ┆        ┆           ┆ 2013           │\n",
            "│ 1993 ┆ Subaru     ┆ Legacy         ┆ 2.2   ┆ … ┆ 12.935218 ┆ 20     ┆ 28        ┆ Tue Jan 01     │\n",
            "│      ┆            ┆                ┆       ┆   ┆           ┆        ┆           ┆ 00:00:00 EST   │\n",
            "│      ┆            ┆                ┆       ┆   ┆           ┆        ┆           ┆ 2013           │\n",
            "│ 1993 ┆ Subaru     ┆ Legacy AWD     ┆ 2.2   ┆ … ┆ 14.167143 ┆ 18     ┆ 24        ┆ Tue Jan 01     │\n",
            "│      ┆            ┆                ┆       ┆   ┆           ┆        ┆           ┆ 00:00:00 EST   │\n",
            "│      ┆            ┆                ┆       ┆   ┆           ┆        ┆           ┆ 2013           │\n",
            "│ 1993 ┆ Subaru     ┆ Legacy AWD     ┆ 2.2   ┆ … ┆ 14.167143 ┆ 18     ┆ 24        ┆ Tue Jan 01     │\n",
            "│      ┆            ┆                ┆       ┆   ┆           ┆        ┆           ┆ 00:00:00 EST   │\n",
            "│      ┆            ┆                ┆       ┆   ┆           ┆        ┆           ┆ 2013           │\n",
            "│ 1993 ┆ Subaru     ┆ Legacy AWD     ┆ 2.2   ┆ … ┆ 16.528334 ┆ 16     ┆ 21        ┆ Tue Jan 01     │\n",
            "│      ┆            ┆ Turbo          ┆       ┆   ┆           ┆        ┆           ┆ 00:00:00 EST   │\n",
            "│      ┆            ┆                ┆       ┆   ┆           ┆        ┆           ┆ 2013           │\n",
            "└──────┴────────────┴────────────────┴───────┴───┴───────────┴────────┴───────────┴────────────────┘\n"
          ]
        }
      ]
    },
    {
      "cell_type": "code",
      "source": [
        "print(df_polars\n",
        " .with_columns('trany',\n",
        " is_automatic=pl.col('trany')\n",
        " .str.to_lowercase()\n",
        " .str.contains('automatic'))\n",
        " )"
      ],
      "metadata": {
        "colab": {
          "base_uri": "https://localhost:8080/"
        },
        "id": "TVTsHveQbsK3",
        "outputId": "44b66b36-4e42-4979-b3ad-5ef0402fb855"
      },
      "execution_count": 22,
      "outputs": [
        {
          "output_type": "stream",
          "name": "stdout",
          "text": [
            "shape: (48_581, 85)\n",
            "┌───────────┬────────────┬───────────┬───────────┬───┬──────────┬─────────┬──────────┬─────────────┐\n",
            "│ barrels08 ┆ barrelsA08 ┆ charge120 ┆ charge240 ┆ … ┆ phevCity ┆ phevHwy ┆ phevComb ┆ is_automati │\n",
            "│ ---       ┆ ---        ┆ ---       ┆ ---       ┆   ┆ ---      ┆ ---     ┆ ---      ┆ c           │\n",
            "│ f64       ┆ f64        ┆ f64       ┆ f64       ┆   ┆ i64      ┆ i64     ┆ i64      ┆ ---         │\n",
            "│           ┆            ┆           ┆           ┆   ┆          ┆         ┆          ┆ bool        │\n",
            "╞═══════════╪════════════╪═══════════╪═══════════╪═══╪══════════╪═════════╪══════════╪═════════════╡\n",
            "│ 14.167143 ┆ 0.0        ┆ 0.0       ┆ 0.0       ┆ … ┆ 0        ┆ 0       ┆ 0        ┆ false       │\n",
            "│ 27.046364 ┆ 0.0        ┆ 0.0       ┆ 0.0       ┆ … ┆ 0        ┆ 0       ┆ 0        ┆ false       │\n",
            "│ 11.018889 ┆ 0.0        ┆ 0.0       ┆ 0.0       ┆ … ┆ 0        ┆ 0       ┆ 0        ┆ false       │\n",
            "│ 27.046364 ┆ 0.0        ┆ 0.0       ┆ 0.0       ┆ … ┆ 0        ┆ 0       ┆ 0        ┆ true        │\n",
            "│ 15.658421 ┆ 0.0        ┆ 0.0       ┆ 0.0       ┆ … ┆ 0        ┆ 0       ┆ 0        ┆ false       │\n",
            "│ …         ┆ …          ┆ …         ┆ …         ┆ … ┆ …        ┆ …       ┆ …        ┆ …           │\n",
            "│ 13.523182 ┆ 0.0        ┆ 0.0       ┆ 0.0       ┆ … ┆ 0        ┆ 0       ┆ 0        ┆ true        │\n",
            "│ 12.935217 ┆ 0.0        ┆ 0.0       ┆ 0.0       ┆ … ┆ 0        ┆ 0       ┆ 0        ┆ false       │\n",
            "│ 14.167143 ┆ 0.0        ┆ 0.0       ┆ 0.0       ┆ … ┆ 0        ┆ 0       ┆ 0        ┆ true        │\n",
            "│ 14.167143 ┆ 0.0        ┆ 0.0       ┆ 0.0       ┆ … ┆ 0        ┆ 0       ┆ 0        ┆ false       │\n",
            "│ 16.528333 ┆ 0.0        ┆ 0.0       ┆ 0.0       ┆ … ┆ 0        ┆ 0       ┆ 0        ┆ true        │\n",
            "└───────────┴────────────┴───────────┴───────────┴───┴──────────┴─────────┴──────────┴─────────────┘\n"
          ]
        }
      ]
    },
    {
      "cell_type": "code",
      "source": [
        "print(df_polars.select(pl.col('trany').value_counts(sort=True)))"
      ],
      "metadata": {
        "colab": {
          "base_uri": "https://localhost:8080/"
        },
        "id": "HzPvDG9jb8fm",
        "outputId": "62f42f43-bccc-4db3-b384-9f9f252349f5"
      },
      "execution_count": 23,
      "outputs": [
        {
          "output_type": "stream",
          "name": "stdout",
          "text": [
            "shape: (41, 1)\n",
            "┌───────────────────────────┐\n",
            "│ trany                     │\n",
            "│ ---                       │\n",
            "│ struct[2]                 │\n",
            "╞═══════════════════════════╡\n",
            "│ {\"Automatic 4-spd\",11048} │\n",
            "│ {\"Manual 5-spd\",8392}     │\n",
            "│ {\"Automatic (S8)\",3372}   │\n",
            "│ {\"Automatic (S6)\",3361}   │\n",
            "│ {\"Automatic 3-spd\",3151}  │\n",
            "│ …                         │\n",
            "│ {null,11}                 │\n",
            "│ {\"Automatic (AM-S9)\",6}   │\n",
            "│ {\"Automatic (L4)\",2}      │\n",
            "│ {\"Automatic (L3)\",2}      │\n",
            "│ {\"Automatic (AM-S10)\",2}  │\n",
            "└───────────────────────────┘\n"
          ]
        }
      ]
    },
    {
      "cell_type": "code",
      "source": [
        "print(df_polars\n",
        " .filter(pl.col('trany').is_null())\n",
        " .select('year', 'make', 'model', 'VClass','trany')\n",
        " )\n"
      ],
      "metadata": {
        "colab": {
          "base_uri": "https://localhost:8080/"
        },
        "id": "7kzTs2D0dIOg",
        "outputId": "1668ab4b-7e0c-466c-8532-125787187386"
      },
      "execution_count": 24,
      "outputs": [
        {
          "output_type": "stream",
          "name": "stdout",
          "text": [
            "shape: (11, 5)\n",
            "┌──────┬────────┬────────────────────────┬─────────────────────────────┬───────┐\n",
            "│ year ┆ make   ┆ model                  ┆ VClass                      ┆ trany │\n",
            "│ ---  ┆ ---    ┆ ---                    ┆ ---                         ┆ ---   │\n",
            "│ i64  ┆ str    ┆ str                    ┆ str                         ┆ str   │\n",
            "╞══════╪════════╪════════════════════════╪═════════════════════════════╪═══════╡\n",
            "│ 2000 ┆ Nissan ┆ Altra EV               ┆ Midsize Station Wagons      ┆ null  │\n",
            "│ 2000 ┆ Toyota ┆ RAV4 EV                ┆ Sport Utility Vehicle - 2WD ┆ null  │\n",
            "│ 2001 ┆ Toyota ┆ RAV4 EV                ┆ Sport Utility Vehicle - 2WD ┆ null  │\n",
            "│ 2001 ┆ Ford   ┆ Th!nk                  ┆ Two Seaters                 ┆ null  │\n",
            "│ 2001 ┆ Ford   ┆ Explorer USPS Electric ┆ Sport Utility Vehicle - 2WD ┆ null  │\n",
            "│ …    ┆ …      ┆ …                      ┆ …                           ┆ …     │\n",
            "│ 2002 ┆ Toyota ┆ RAV4 EV                ┆ Sport Utility Vehicle - 2WD ┆ null  │\n",
            "│ 2002 ┆ Ford   ┆ Explorer USPS Electric ┆ Sport Utility Vehicle - 2WD ┆ null  │\n",
            "│ 2003 ┆ Toyota ┆ RAV4 EV                ┆ Sport Utility Vehicle - 2WD ┆ null  │\n",
            "│ 1984 ┆ Ford   ┆ F150 Pickup 2WD        ┆ Standard Pickup Trucks 2WD  ┆ null  │\n",
            "│ 1984 ┆ GMC    ┆ C25 Pickup 2WD         ┆ Standard Pickup Trucks 2WD  ┆ null  │\n",
            "└──────┴────────┴────────────────────────┴─────────────────────────────┴───────┘\n"
          ]
        }
      ]
    },
    {
      "cell_type": "code",
      "source": [
        "#FILL null values in column\n",
        "print(df_polars.select('trany',\n",
        "                       is_automatic=pl.col('trany')\n",
        "                       .str.contains('Automatic').fill_null(True))\n",
        ")\n",
        "\n",
        ""
      ],
      "metadata": {
        "colab": {
          "base_uri": "https://localhost:8080/"
        },
        "id": "klZZnD7qdTVf",
        "outputId": "59fb67de-f2b6-4f59-dacc-4e39160f91fa"
      },
      "execution_count": 25,
      "outputs": [
        {
          "output_type": "stream",
          "name": "stdout",
          "text": [
            "shape: (48_581, 2)\n",
            "┌─────────────────┬──────────────┐\n",
            "│ trany           ┆ is_automatic │\n",
            "│ ---             ┆ ---          │\n",
            "│ str             ┆ bool         │\n",
            "╞═════════════════╪══════════════╡\n",
            "│ Manual 5-spd    ┆ false        │\n",
            "│ Manual 5-spd    ┆ false        │\n",
            "│ Manual 5-spd    ┆ false        │\n",
            "│ Automatic 3-spd ┆ true         │\n",
            "│ Manual 5-spd    ┆ false        │\n",
            "│ …               ┆ …            │\n",
            "│ Automatic 4-spd ┆ true         │\n",
            "│ Manual 5-spd    ┆ false        │\n",
            "│ Automatic 4-spd ┆ true         │\n",
            "│ Manual 5-spd    ┆ false        │\n",
            "│ Automatic 4-spd ┆ true         │\n",
            "└─────────────────┴──────────────┘\n"
          ]
        }
      ]
    },
    {
      "cell_type": "code",
      "source": [
        "#extarct num of gears in trany column and check where it is null\n",
        "print(df_polars\n",
        " .select(num_gears=pl.col('trany')\n",
        " .str.extract(r'(\\d+)')\n",
        " .cast(pl.UInt8))\n",
        " .filter(pl.col('num_gears').is_null())\n",
        ")\n"
      ],
      "metadata": {
        "colab": {
          "base_uri": "https://localhost:8080/"
        },
        "id": "nWRYxYeQd-NO",
        "outputId": "89e29fa3-2ca8-4faa-9f1b-9c763b1e771d"
      },
      "execution_count": 26,
      "outputs": [
        {
          "output_type": "stream",
          "name": "stdout",
          "text": [
            "shape: (1_155, 1)\n",
            "┌───────────┐\n",
            "│ num_gears │\n",
            "│ ---       │\n",
            "│ u8        │\n",
            "╞═══════════╡\n",
            "│ null      │\n",
            "│ null      │\n",
            "│ null      │\n",
            "│ null      │\n",
            "│ null      │\n",
            "│ …         │\n",
            "│ null      │\n",
            "│ null      │\n",
            "│ null      │\n",
            "│ null      │\n",
            "│ null      │\n",
            "└───────────┘\n"
          ]
        }
      ]
    },
    {
      "cell_type": "code",
      "source": [
        "print(df_polars.with_columns(\n",
        "      is_automatic=pl.col('trany')\n",
        "                   .str.contains('Automatic')\n",
        "                   .fill_null(True),\n",
        "      num_gears=pl.col('trany')\n",
        "                   .str.extract(r'(\\d+)')\n",
        "                   .cast(pl.UInt8)\n",
        "                   .fill_null(6)\n",
        " )\n",
        " )\n"
      ],
      "metadata": {
        "colab": {
          "base_uri": "https://localhost:8080/"
        },
        "id": "gG5_oRJUelsR",
        "outputId": "6180943c-8dfc-47c8-9bb0-c4cca9880eb6"
      },
      "execution_count": 27,
      "outputs": [
        {
          "output_type": "stream",
          "name": "stdout",
          "text": [
            "shape: (48_581, 86)\n",
            "┌───────────┬────────────┬───────────┬───────────┬───┬─────────┬──────────┬────────────┬───────────┐\n",
            "│ barrels08 ┆ barrelsA08 ┆ charge120 ┆ charge240 ┆ … ┆ phevHwy ┆ phevComb ┆ is_automat ┆ num_gears │\n",
            "│ ---       ┆ ---        ┆ ---       ┆ ---       ┆   ┆ ---     ┆ ---      ┆ ic         ┆ ---       │\n",
            "│ f64       ┆ f64        ┆ f64       ┆ f64       ┆   ┆ i64     ┆ i64      ┆ ---        ┆ u8        │\n",
            "│           ┆            ┆           ┆           ┆   ┆         ┆          ┆ bool       ┆           │\n",
            "╞═══════════╪════════════╪═══════════╪═══════════╪═══╪═════════╪══════════╪════════════╪═══════════╡\n",
            "│ 14.167143 ┆ 0.0        ┆ 0.0       ┆ 0.0       ┆ … ┆ 0       ┆ 0        ┆ false      ┆ 5         │\n",
            "│ 27.046364 ┆ 0.0        ┆ 0.0       ┆ 0.0       ┆ … ┆ 0       ┆ 0        ┆ false      ┆ 5         │\n",
            "│ 11.018889 ┆ 0.0        ┆ 0.0       ┆ 0.0       ┆ … ┆ 0       ┆ 0        ┆ false      ┆ 5         │\n",
            "│ 27.046364 ┆ 0.0        ┆ 0.0       ┆ 0.0       ┆ … ┆ 0       ┆ 0        ┆ true       ┆ 3         │\n",
            "│ 15.658421 ┆ 0.0        ┆ 0.0       ┆ 0.0       ┆ … ┆ 0       ┆ 0        ┆ false      ┆ 5         │\n",
            "│ …         ┆ …          ┆ …         ┆ …         ┆ … ┆ …       ┆ …        ┆ …          ┆ …         │\n",
            "│ 13.523182 ┆ 0.0        ┆ 0.0       ┆ 0.0       ┆ … ┆ 0       ┆ 0        ┆ true       ┆ 4         │\n",
            "│ 12.935217 ┆ 0.0        ┆ 0.0       ┆ 0.0       ┆ … ┆ 0       ┆ 0        ┆ false      ┆ 5         │\n",
            "│ 14.167143 ┆ 0.0        ┆ 0.0       ┆ 0.0       ┆ … ┆ 0       ┆ 0        ┆ true       ┆ 4         │\n",
            "│ 14.167143 ┆ 0.0        ┆ 0.0       ┆ 0.0       ┆ … ┆ 0       ┆ 0        ┆ false      ┆ 5         │\n",
            "│ 16.528333 ┆ 0.0        ┆ 0.0       ┆ 0.0       ┆ … ┆ 0       ┆ 0        ┆ true       ┆ 4         │\n",
            "└───────────┴────────────┴───────────┴───────────┴───┴─────────┴──────────┴────────────┴───────────┘\n"
          ]
        }
      ]
    },
    {
      "cell_type": "code",
      "source": [
        "#now convert string columns into categorical\n",
        "pl.enable_string_cache()\n",
        "with pl.StringCache():#StringCache context manager to ensure that the categorical mappings are the same across columns\n",
        " print(df_polars\n",
        " .select(pl.col(cols))\n",
        " .with_columns(pl.col('year').cast(pl.Int16),\n",
        "               pl.col('cylinders').cast(pl.UInt8),\n",
        "               pl.col('highway08').cast(pl.UInt8),\n",
        "               pl.col('city08').cast(pl.UInt8),\n",
        "               pl.col('displ').cast(pl.Float32),\n",
        "               pl.col('barrels08').cast(pl.Float32),\n",
        "               pl.col(['make', 'model', 'VClass', 'drive','fuelType']).cast(pl.Categorical),\n",
        "               pl.col('createdOn').str.to_datetime('%a %b %d %H:%M:%S %Z %Y')#convert the createdOn column to a date\n",
        "               ))"
      ],
      "metadata": {
        "colab": {
          "base_uri": "https://localhost:8080/"
        },
        "id": "MYPobZ6UfNcq",
        "outputId": "9fa274fe-bd33-40a4-bfba-70df5ce43f8e"
      },
      "execution_count": 28,
      "outputs": [
        {
          "output_type": "stream",
          "name": "stdout",
          "text": [
            "shape: (48_581, 13)\n",
            "┌──────┬────────────┬────────────────┬───────┬───┬───────────┬────────┬───────────┬────────────────┐\n",
            "│ year ┆ make       ┆ model          ┆ displ ┆ … ┆ barrels08 ┆ city08 ┆ highway08 ┆ createdOn      │\n",
            "│ ---  ┆ ---        ┆ ---            ┆ ---   ┆   ┆ ---       ┆ ---    ┆ ---       ┆ ---            │\n",
            "│ i16  ┆ cat        ┆ cat            ┆ f32   ┆   ┆ f32       ┆ u8     ┆ u8        ┆ datetime[μs]   │\n",
            "╞══════╪════════════╪════════════════╪═══════╪═══╪═══════════╪════════╪═══════════╪════════════════╡\n",
            "│ 1985 ┆ Alfa Romeo ┆ Spider Veloce  ┆ 2.0   ┆ … ┆ 14.167143 ┆ 19     ┆ 25        ┆ 2013-01-01     │\n",
            "│      ┆            ┆ 2000           ┆       ┆   ┆           ┆        ┆           ┆ 00:00:00       │\n",
            "│ 1985 ┆ Ferrari    ┆ Testarossa     ┆ 4.9   ┆ … ┆ 27.046364 ┆ 9      ┆ 14        ┆ 2013-01-01     │\n",
            "│      ┆            ┆                ┆       ┆   ┆           ┆        ┆           ┆ 00:00:00       │\n",
            "│ 1985 ┆ Dodge      ┆ Charger        ┆ 2.2   ┆ … ┆ 11.018888 ┆ 23     ┆ 33        ┆ 2013-01-01     │\n",
            "│      ┆            ┆                ┆       ┆   ┆           ┆        ┆           ┆ 00:00:00       │\n",
            "│ 1985 ┆ Dodge      ┆ B150/B250      ┆ 5.2   ┆ … ┆ 27.046364 ┆ 10     ┆ 12        ┆ 2013-01-01     │\n",
            "│      ┆            ┆ Wagon 2WD      ┆       ┆   ┆           ┆        ┆           ┆ 00:00:00       │\n",
            "│ 1993 ┆ Subaru     ┆ Legacy AWD     ┆ 2.2   ┆ … ┆ 15.658422 ┆ 17     ┆ 23        ┆ 2013-01-01     │\n",
            "│      ┆            ┆ Turbo          ┆       ┆   ┆           ┆        ┆           ┆ 00:00:00       │\n",
            "│ …    ┆ …          ┆ …              ┆ …     ┆ … ┆ …         ┆ …      ┆ …         ┆ …              │\n",
            "│ 1993 ┆ Subaru     ┆ Legacy         ┆ 2.2   ┆ … ┆ 13.523182 ┆ 19     ┆ 26        ┆ 2013-01-01     │\n",
            "│      ┆            ┆                ┆       ┆   ┆           ┆        ┆           ┆ 00:00:00       │\n",
            "│ 1993 ┆ Subaru     ┆ Legacy         ┆ 2.2   ┆ … ┆ 12.935218 ┆ 20     ┆ 28        ┆ 2013-01-01     │\n",
            "│      ┆            ┆                ┆       ┆   ┆           ┆        ┆           ┆ 00:00:00       │\n",
            "│ 1993 ┆ Subaru     ┆ Legacy AWD     ┆ 2.2   ┆ … ┆ 14.167143 ┆ 18     ┆ 24        ┆ 2013-01-01     │\n",
            "│      ┆            ┆                ┆       ┆   ┆           ┆        ┆           ┆ 00:00:00       │\n",
            "│ 1993 ┆ Subaru     ┆ Legacy AWD     ┆ 2.2   ┆ … ┆ 14.167143 ┆ 18     ┆ 24        ┆ 2013-01-01     │\n",
            "│      ┆            ┆                ┆       ┆   ┆           ┆        ┆           ┆ 00:00:00       │\n",
            "│ 1993 ┆ Subaru     ┆ Legacy AWD     ┆ 2.2   ┆ … ┆ 16.528334 ┆ 16     ┆ 21        ┆ 2013-01-01     │\n",
            "│      ┆            ┆ Turbo          ┆       ┆   ┆           ┆        ┆           ┆ 00:00:00       │\n",
            "└──────┴────────────┴────────────────┴───────┴───┴───────────┴────────┴───────────┴────────────────┘\n"
          ]
        }
      ]
    },
    {
      "cell_type": "markdown",
      "source": [
        "##wrap all this with function"
      ],
      "metadata": {
        "id": "KykcZfaIhUEl"
      }
    },
    {
      "cell_type": "code",
      "source": [
        "@pl.StringCache()\n",
        "def tweak_auto(df):\n",
        " cols = ['year', 'make', 'model', 'displ', 'cylinders', 'trany',\n",
        " 'drive', 'VClass', 'fuelType', 'barrels08', 'city08',\n",
        " 'highway08', 'createdOn']\n",
        " return (df.select(pl.col(cols))\n",
        "           .with_columns(pl.col('year').cast(pl.Int16),\n",
        "             pl.col(['cylinders', 'highway08', 'city08']).cast(pl.UInt8),\n",
        "             pl.col(['displ', 'barrels08']).cast(pl.Float32),\n",
        "             pl.col(['make', 'model', 'VClass', 'drive','fuelType']).cast(pl.Categorical),\n",
        "             pl.col('createdOn').str.to_datetime('%a %b %d %H:%M:%S %Z %Y'),\n",
        "         is_automatic=pl.col('trany')\n",
        "                        .str.contains('Automatic')\n",
        "                        .fill_null('Automatic'),\n",
        "         num_gears=pl.col('trany')\n",
        "                     .str.extract(r'(\\d+)')\n",
        "                     .cast(pl.UInt8)\n",
        "                     .fill_null(6))\n",
        " )"
      ],
      "metadata": {
        "id": "WzgepKNMhXLF"
      },
      "execution_count": 29,
      "outputs": []
    },
    {
      "cell_type": "code",
      "source": [
        "print(tweak_auto(df_polars))"
      ],
      "metadata": {
        "colab": {
          "base_uri": "https://localhost:8080/"
        },
        "id": "zAPgE-vghTjS",
        "outputId": "9a773ae3-ae55-43df-919e-29413155bfea"
      },
      "execution_count": 30,
      "outputs": [
        {
          "output_type": "stream",
          "name": "stdout",
          "text": [
            "shape: (48_581, 15)\n",
            "┌──────┬────────────┬──────────────┬───────┬───┬───────────┬─────────────┬─────────────┬───────────┐\n",
            "│ year ┆ make       ┆ model        ┆ displ ┆ … ┆ highway08 ┆ createdOn   ┆ is_automati ┆ num_gears │\n",
            "│ ---  ┆ ---        ┆ ---          ┆ ---   ┆   ┆ ---       ┆ ---         ┆ c           ┆ ---       │\n",
            "│ i16  ┆ cat        ┆ cat          ┆ f32   ┆   ┆ u8        ┆ datetime[μs ┆ ---         ┆ u8        │\n",
            "│      ┆            ┆              ┆       ┆   ┆           ┆ ]           ┆ str         ┆           │\n",
            "╞══════╪════════════╪══════════════╪═══════╪═══╪═══════════╪═════════════╪═════════════╪═══════════╡\n",
            "│ 1985 ┆ Alfa Romeo ┆ Spider       ┆ 2.0   ┆ … ┆ 25        ┆ 2013-01-01  ┆ false       ┆ 5         │\n",
            "│      ┆            ┆ Veloce 2000  ┆       ┆   ┆           ┆ 00:00:00    ┆             ┆           │\n",
            "│ 1985 ┆ Ferrari    ┆ Testarossa   ┆ 4.9   ┆ … ┆ 14        ┆ 2013-01-01  ┆ false       ┆ 5         │\n",
            "│      ┆            ┆              ┆       ┆   ┆           ┆ 00:00:00    ┆             ┆           │\n",
            "│ 1985 ┆ Dodge      ┆ Charger      ┆ 2.2   ┆ … ┆ 33        ┆ 2013-01-01  ┆ false       ┆ 5         │\n",
            "│      ┆            ┆              ┆       ┆   ┆           ┆ 00:00:00    ┆             ┆           │\n",
            "│ 1985 ┆ Dodge      ┆ B150/B250    ┆ 5.2   ┆ … ┆ 12        ┆ 2013-01-01  ┆ true        ┆ 3         │\n",
            "│      ┆            ┆ Wagon 2WD    ┆       ┆   ┆           ┆ 00:00:00    ┆             ┆           │\n",
            "│ 1993 ┆ Subaru     ┆ Legacy AWD   ┆ 2.2   ┆ … ┆ 23        ┆ 2013-01-01  ┆ false       ┆ 5         │\n",
            "│      ┆            ┆ Turbo        ┆       ┆   ┆           ┆ 00:00:00    ┆             ┆           │\n",
            "│ …    ┆ …          ┆ …            ┆ …     ┆ … ┆ …         ┆ …           ┆ …           ┆ …         │\n",
            "│ 1993 ┆ Subaru     ┆ Legacy       ┆ 2.2   ┆ … ┆ 26        ┆ 2013-01-01  ┆ true        ┆ 4         │\n",
            "│      ┆            ┆              ┆       ┆   ┆           ┆ 00:00:00    ┆             ┆           │\n",
            "│ 1993 ┆ Subaru     ┆ Legacy       ┆ 2.2   ┆ … ┆ 28        ┆ 2013-01-01  ┆ false       ┆ 5         │\n",
            "│      ┆            ┆              ┆       ┆   ┆           ┆ 00:00:00    ┆             ┆           │\n",
            "│ 1993 ┆ Subaru     ┆ Legacy AWD   ┆ 2.2   ┆ … ┆ 24        ┆ 2013-01-01  ┆ true        ┆ 4         │\n",
            "│      ┆            ┆              ┆       ┆   ┆           ┆ 00:00:00    ┆             ┆           │\n",
            "│ 1993 ┆ Subaru     ┆ Legacy AWD   ┆ 2.2   ┆ … ┆ 24        ┆ 2013-01-01  ┆ false       ┆ 5         │\n",
            "│      ┆            ┆              ┆       ┆   ┆           ┆ 00:00:00    ┆             ┆           │\n",
            "│ 1993 ┆ Subaru     ┆ Legacy AWD   ┆ 2.2   ┆ … ┆ 21        ┆ 2013-01-01  ┆ true        ┆ 4         │\n",
            "│      ┆            ┆ Turbo        ┆       ┆   ┆           ┆ 00:00:00    ┆             ┆           │\n",
            "└──────┴────────────┴──────────────┴───────┴───┴───────────┴─────────────┴─────────────┴───────────┘\n"
          ]
        }
      ]
    },
    {
      "cell_type": "markdown",
      "source": [
        "#now check the size after all conversions and with out conversions\n"
      ],
      "metadata": {
        "id": "YmMeiqFQhy37"
      }
    },
    {
      "cell_type": "code",
      "source": [
        "tweak_auto(df_polars).estimated_size(unit='mb')"
      ],
      "metadata": {
        "colab": {
          "base_uri": "https://localhost:8080/"
        },
        "id": "X2saGY4Ph3o0",
        "outputId": "bac6fb6c-497c-48b5-df9f-72cddd4670cf"
      },
      "execution_count": 31,
      "outputs": [
        {
          "output_type": "execute_result",
          "data": {
            "text/plain": [
              "2.9714279174804688"
            ]
          },
          "metadata": {},
          "execution_count": 31
        }
      ]
    },
    {
      "cell_type": "code",
      "source": [
        "df_polars.select(pl.col(cols)).estimated_size(unit='mb')"
      ],
      "metadata": {
        "colab": {
          "base_uri": "https://localhost:8080/"
        },
        "id": "AXUX6UWWiQpy",
        "outputId": "fb1a7ebb-c5aa-44ca-98a9-6036ea985bf3"
      },
      "execution_count": 32,
      "outputs": [
        {
          "output_type": "execute_result",
          "data": {
            "text/plain": [
              "7.043133735656738"
            ]
          },
          "metadata": {},
          "execution_count": 32
        }
      ]
    },
    {
      "cell_type": "code",
      "source": [
        "#summary statistics\n",
        "print(tweak_auto(df_polars).describe())"
      ],
      "metadata": {
        "colab": {
          "base_uri": "https://localhost:8080/"
        },
        "id": "g8TCTgaaiWN4",
        "outputId": "2b93dc11-1181-4945-e3e8-6c876afe334c"
      },
      "execution_count": 33,
      "outputs": [
        {
          "output_type": "stream",
          "name": "stdout",
          "text": [
            "shape: (9, 16)\n",
            "┌────────────┬─────────────┬───────┬───────┬───┬───────────┬─────────────┬─────────────┬───────────┐\n",
            "│ statistic  ┆ year        ┆ make  ┆ model ┆ … ┆ highway08 ┆ createdOn   ┆ is_automati ┆ num_gears │\n",
            "│ ---        ┆ ---         ┆ ---   ┆ ---   ┆   ┆ ---       ┆ ---         ┆ c           ┆ ---       │\n",
            "│ str        ┆ f64         ┆ str   ┆ str   ┆   ┆ f64       ┆ str         ┆ ---         ┆ f64       │\n",
            "│            ┆             ┆       ┆       ┆   ┆           ┆             ┆ str         ┆           │\n",
            "╞════════════╪═════════════╪═══════╪═══════╪═══╪═══════════╪═════════════╪═════════════╪═══════════╡\n",
            "│ count      ┆ 48581.0     ┆ 48581 ┆ 48581 ┆ … ┆ 48581.0   ┆ 48581       ┆ 48581       ┆ 48581.0   │\n",
            "│ null_count ┆ 0.0         ┆ 0     ┆ 0     ┆ … ┆ 0.0       ┆ 0           ┆ 0           ┆ 0.0       │\n",
            "│ mean       ┆ 2004.752413 ┆ null  ┆ null  ┆ … ┆ 25.970256 ┆ 2014-12-13  ┆ null        ┆ 5.349231  │\n",
            "│            ┆             ┆       ┆       ┆   ┆           ┆ 09:38:57.13 ┆             ┆           │\n",
            "│            ┆             ┆       ┆       ┆   ┆           ┆ 5917        ┆             ┆           │\n",
            "│ std        ┆ 12.758499   ┆ null  ┆ null  ┆ … ┆ 11.439295 ┆ null        ┆ null        ┆ 1.753752  │\n",
            "│ min        ┆ 1984.0      ┆ null  ┆ null  ┆ … ┆ 9.0       ┆ 2013-01-01  ┆ Automatic   ┆ 1.0       │\n",
            "│            ┆             ┆       ┆       ┆   ┆           ┆ 00:00:00    ┆             ┆           │\n",
            "│ 25%        ┆ 1993.0      ┆ null  ┆ null  ┆ … ┆ 20.0      ┆ 2013-01-01  ┆ null        ┆ 4.0       │\n",
            "│            ┆             ┆       ┆       ┆   ┆           ┆ 00:00:00    ┆             ┆           │\n",
            "│ 50%        ┆ 2006.0      ┆ null  ┆ null  ┆ … ┆ 24.0      ┆ 2013-01-01  ┆ null        ┆ 5.0       │\n",
            "│            ┆             ┆       ┆       ┆   ┆           ┆ 00:00:00    ┆             ┆           │\n",
            "│ 75%        ┆ 2016.0      ┆ null  ┆ null  ┆ … ┆ 28.0      ┆ 2015-08-12  ┆ null        ┆ 6.0       │\n",
            "│            ┆             ┆       ┆       ┆   ┆           ┆ 00:00:00    ┆             ┆           │\n",
            "│ max        ┆ 2026.0      ┆ null  ┆ null  ┆ … ┆ 142.0     ┆ 2025-04-14  ┆ true        ┆ 10.0      │\n",
            "│            ┆             ┆       ┆       ┆   ┆           ┆ 00:00:00    ┆             ┆           │\n",
            "└────────────┴─────────────┴───────┴───────┴───┴───────────┴─────────────┴─────────────┴───────────┘\n"
          ]
        }
      ]
    },
    {
      "cell_type": "code",
      "source": [
        "#.corr method returns a dataframe with the correlation coefficients.However, if a column has missing values, it will return NaN for that column\n",
        "import polars.selectors as cs\n",
        "print(tweak_auto(df_polars)\n",
        " .select(cs.numeric())\n",
        " .corr()\n",
        " .pipe(lambda x: x.insert_column(0, pl.Series('names', x.columns)))\n",
        ")"
      ],
      "metadata": {
        "colab": {
          "base_uri": "https://localhost:8080/"
        },
        "id": "ph1LHE0tjCrc",
        "outputId": "09e9be37-4252-4329-d84b-fc815798ca9b"
      },
      "execution_count": 34,
      "outputs": [
        {
          "output_type": "stream",
          "name": "stdout",
          "text": [
            "shape: (7, 8)\n",
            "┌───────────┬───────────┬───────┬───────────┬───────────┬───────────┬───────────┬───────────┐\n",
            "│ names     ┆ year      ┆ displ ┆ cylinders ┆ barrels08 ┆ city08    ┆ highway08 ┆ num_gears │\n",
            "│ ---       ┆ ---       ┆ ---   ┆ ---       ┆ ---       ┆ ---       ┆ ---       ┆ ---       │\n",
            "│ str       ┆ f64       ┆ f64   ┆ f64       ┆ f64       ┆ f64       ┆ f64       ┆ f64       │\n",
            "╞═══════════╪═══════════╪═══════╪═══════════╪═══════════╪═══════════╪═══════════╪═══════════╡\n",
            "│ year      ┆ 1.0       ┆ NaN   ┆ NaN       ┆ -0.347701 ┆ 0.275523  ┆ 0.318163  ┆ 0.641837  │\n",
            "│ displ     ┆ NaN       ┆ NaN   ┆ NaN       ┆ NaN       ┆ NaN       ┆ NaN       ┆ NaN       │\n",
            "│ cylinders ┆ NaN       ┆ NaN   ┆ NaN       ┆ NaN       ┆ NaN       ┆ NaN       ┆ NaN       │\n",
            "│ barrels08 ┆ -0.347701 ┆ NaN   ┆ NaN       ┆ 1.0       ┆ -0.733175 ┆ -0.813099 ┆ -0.017943 │\n",
            "│ city08    ┆ 0.275523  ┆ NaN   ┆ NaN       ┆ -0.733175 ┆ 1.0       ┆ 0.967449  ┆ -0.252527 │\n",
            "│ highway08 ┆ 0.318163  ┆ NaN   ┆ NaN       ┆ -0.813099 ┆ 0.967449  ┆ 1.0       ┆ -0.176308 │\n",
            "│ num_gears ┆ 0.641837  ┆ NaN   ┆ NaN       ┆ -0.017943 ┆ -0.252527 ┆ -0.176308 ┆ 1.0       │\n",
            "└───────────┴───────────┴───────┴───────────┴───────────┴───────────┴───────────┴───────────┘\n"
          ]
        }
      ]
    },
    {
      "cell_type": "code",
      "source": [
        "raw = pl.read_csv(\"/content/sample_data/vehicles.csv\", null_values=['NA'])\n",
        "autos = tweak_auto(raw)\n",
        "print(autos)\n"
      ],
      "metadata": {
        "colab": {
          "base_uri": "https://localhost:8080/"
        },
        "id": "Pv2fsRJP1cIA",
        "outputId": "a49cb934-f812-4909-ef15-0b466c5e1d33"
      },
      "execution_count": 35,
      "outputs": [
        {
          "output_type": "stream",
          "name": "stdout",
          "text": [
            "shape: (48_581, 15)\n",
            "┌──────┬────────────┬──────────────┬───────┬───┬───────────┬─────────────┬─────────────┬───────────┐\n",
            "│ year ┆ make       ┆ model        ┆ displ ┆ … ┆ highway08 ┆ createdOn   ┆ is_automati ┆ num_gears │\n",
            "│ ---  ┆ ---        ┆ ---          ┆ ---   ┆   ┆ ---       ┆ ---         ┆ c           ┆ ---       │\n",
            "│ i16  ┆ cat        ┆ cat          ┆ f32   ┆   ┆ u8        ┆ datetime[μs ┆ ---         ┆ u8        │\n",
            "│      ┆            ┆              ┆       ┆   ┆           ┆ ]           ┆ str         ┆           │\n",
            "╞══════╪════════════╪══════════════╪═══════╪═══╪═══════════╪═════════════╪═════════════╪═══════════╡\n",
            "│ 1985 ┆ Alfa Romeo ┆ Spider       ┆ 2.0   ┆ … ┆ 25        ┆ 2013-01-01  ┆ false       ┆ 5         │\n",
            "│      ┆            ┆ Veloce 2000  ┆       ┆   ┆           ┆ 00:00:00    ┆             ┆           │\n",
            "│ 1985 ┆ Ferrari    ┆ Testarossa   ┆ 4.9   ┆ … ┆ 14        ┆ 2013-01-01  ┆ false       ┆ 5         │\n",
            "│      ┆            ┆              ┆       ┆   ┆           ┆ 00:00:00    ┆             ┆           │\n",
            "│ 1985 ┆ Dodge      ┆ Charger      ┆ 2.2   ┆ … ┆ 33        ┆ 2013-01-01  ┆ false       ┆ 5         │\n",
            "│      ┆            ┆              ┆       ┆   ┆           ┆ 00:00:00    ┆             ┆           │\n",
            "│ 1985 ┆ Dodge      ┆ B150/B250    ┆ 5.2   ┆ … ┆ 12        ┆ 2013-01-01  ┆ true        ┆ 3         │\n",
            "│      ┆            ┆ Wagon 2WD    ┆       ┆   ┆           ┆ 00:00:00    ┆             ┆           │\n",
            "│ 1993 ┆ Subaru     ┆ Legacy AWD   ┆ 2.2   ┆ … ┆ 23        ┆ 2013-01-01  ┆ false       ┆ 5         │\n",
            "│      ┆            ┆ Turbo        ┆       ┆   ┆           ┆ 00:00:00    ┆             ┆           │\n",
            "│ …    ┆ …          ┆ …            ┆ …     ┆ … ┆ …         ┆ …           ┆ …           ┆ …         │\n",
            "│ 1993 ┆ Subaru     ┆ Legacy       ┆ 2.2   ┆ … ┆ 26        ┆ 2013-01-01  ┆ true        ┆ 4         │\n",
            "│      ┆            ┆              ┆       ┆   ┆           ┆ 00:00:00    ┆             ┆           │\n",
            "│ 1993 ┆ Subaru     ┆ Legacy       ┆ 2.2   ┆ … ┆ 28        ┆ 2013-01-01  ┆ false       ┆ 5         │\n",
            "│      ┆            ┆              ┆       ┆   ┆           ┆ 00:00:00    ┆             ┆           │\n",
            "│ 1993 ┆ Subaru     ┆ Legacy AWD   ┆ 2.2   ┆ … ┆ 24        ┆ 2013-01-01  ┆ true        ┆ 4         │\n",
            "│      ┆            ┆              ┆       ┆   ┆           ┆ 00:00:00    ┆             ┆           │\n",
            "│ 1993 ┆ Subaru     ┆ Legacy AWD   ┆ 2.2   ┆ … ┆ 24        ┆ 2013-01-01  ┆ false       ┆ 5         │\n",
            "│      ┆            ┆              ┆       ┆   ┆           ┆ 00:00:00    ┆             ┆           │\n",
            "│ 1993 ┆ Subaru     ┆ Legacy AWD   ┆ 2.2   ┆ … ┆ 21        ┆ 2013-01-01  ┆ true        ┆ 4         │\n",
            "│      ┆            ┆ Turbo        ┆       ┆   ┆           ┆ 00:00:00    ┆             ┆           │\n",
            "└──────┴────────────┴──────────────┴───────┴───┴───────────┴─────────────┴─────────────┴───────────┘\n"
          ]
        }
      ]
    },
    {
      "cell_type": "code",
      "source": [
        "#Adding new columns\n",
        "print(autos.select(pl.col(['highway08', 'city08']),\n",
        "                   mpg_ratio=(pl.col('highway08') / pl.col('city08')))\n",
        ")"
      ],
      "metadata": {
        "colab": {
          "base_uri": "https://localhost:8080/"
        },
        "id": "Xfuj62OH1uKs",
        "outputId": "8637626f-a65c-4c02-82d1-17a9b0888df0"
      },
      "execution_count": 36,
      "outputs": [
        {
          "output_type": "stream",
          "name": "stdout",
          "text": [
            "shape: (48_581, 3)\n",
            "┌───────────┬────────┬───────────┐\n",
            "│ highway08 ┆ city08 ┆ mpg_ratio │\n",
            "│ ---       ┆ ---    ┆ ---       │\n",
            "│ u8        ┆ u8     ┆ f64       │\n",
            "╞═══════════╪════════╪═══════════╡\n",
            "│ 25        ┆ 19     ┆ 1.315789  │\n",
            "│ 14        ┆ 9      ┆ 1.555556  │\n",
            "│ 33        ┆ 23     ┆ 1.434783  │\n",
            "│ 12        ┆ 10     ┆ 1.2       │\n",
            "│ 23        ┆ 17     ┆ 1.352941  │\n",
            "│ …         ┆ …      ┆ …         │\n",
            "│ 26        ┆ 19     ┆ 1.368421  │\n",
            "│ 28        ┆ 20     ┆ 1.4       │\n",
            "│ 24        ┆ 18     ┆ 1.333333  │\n",
            "│ 24        ┆ 18     ┆ 1.333333  │\n",
            "│ 21        ┆ 16     ┆ 1.3125    │\n",
            "└───────────┴────────┴───────────┘\n"
          ]
        }
      ]
    },
    {
      "cell_type": "code",
      "source": [
        "print(autos.with_columns(mpg_ratio=pl.col('highway08') / pl.col('city08')))"
      ],
      "metadata": {
        "colab": {
          "base_uri": "https://localhost:8080/"
        },
        "id": "qUVDRwQm2D8Z",
        "outputId": "8bbc96ba-1178-474f-b396-1662ee4123f9"
      },
      "execution_count": 37,
      "outputs": [
        {
          "output_type": "stream",
          "name": "stdout",
          "text": [
            "shape: (48_581, 16)\n",
            "┌──────┬────────────┬──────────────┬───────┬───┬─────────────┬─────────────┬───────────┬───────────┐\n",
            "│ year ┆ make       ┆ model        ┆ displ ┆ … ┆ createdOn   ┆ is_automati ┆ num_gears ┆ mpg_ratio │\n",
            "│ ---  ┆ ---        ┆ ---          ┆ ---   ┆   ┆ ---         ┆ c           ┆ ---       ┆ ---       │\n",
            "│ i16  ┆ cat        ┆ cat          ┆ f32   ┆   ┆ datetime[μs ┆ ---         ┆ u8        ┆ f64       │\n",
            "│      ┆            ┆              ┆       ┆   ┆ ]           ┆ str         ┆           ┆           │\n",
            "╞══════╪════════════╪══════════════╪═══════╪═══╪═════════════╪═════════════╪═══════════╪═══════════╡\n",
            "│ 1985 ┆ Alfa Romeo ┆ Spider       ┆ 2.0   ┆ … ┆ 2013-01-01  ┆ false       ┆ 5         ┆ 1.315789  │\n",
            "│      ┆            ┆ Veloce 2000  ┆       ┆   ┆ 00:00:00    ┆             ┆           ┆           │\n",
            "│ 1985 ┆ Ferrari    ┆ Testarossa   ┆ 4.9   ┆ … ┆ 2013-01-01  ┆ false       ┆ 5         ┆ 1.555556  │\n",
            "│      ┆            ┆              ┆       ┆   ┆ 00:00:00    ┆             ┆           ┆           │\n",
            "│ 1985 ┆ Dodge      ┆ Charger      ┆ 2.2   ┆ … ┆ 2013-01-01  ┆ false       ┆ 5         ┆ 1.434783  │\n",
            "│      ┆            ┆              ┆       ┆   ┆ 00:00:00    ┆             ┆           ┆           │\n",
            "│ 1985 ┆ Dodge      ┆ B150/B250    ┆ 5.2   ┆ … ┆ 2013-01-01  ┆ true        ┆ 3         ┆ 1.2       │\n",
            "│      ┆            ┆ Wagon 2WD    ┆       ┆   ┆ 00:00:00    ┆             ┆           ┆           │\n",
            "│ 1993 ┆ Subaru     ┆ Legacy AWD   ┆ 2.2   ┆ … ┆ 2013-01-01  ┆ false       ┆ 5         ┆ 1.352941  │\n",
            "│      ┆            ┆ Turbo        ┆       ┆   ┆ 00:00:00    ┆             ┆           ┆           │\n",
            "│ …    ┆ …          ┆ …            ┆ …     ┆ … ┆ …           ┆ …           ┆ …         ┆ …         │\n",
            "│ 1993 ┆ Subaru     ┆ Legacy       ┆ 2.2   ┆ … ┆ 2013-01-01  ┆ true        ┆ 4         ┆ 1.368421  │\n",
            "│      ┆            ┆              ┆       ┆   ┆ 00:00:00    ┆             ┆           ┆           │\n",
            "│ 1993 ┆ Subaru     ┆ Legacy       ┆ 2.2   ┆ … ┆ 2013-01-01  ┆ false       ┆ 5         ┆ 1.4       │\n",
            "│      ┆            ┆              ┆       ┆   ┆ 00:00:00    ┆             ┆           ┆           │\n",
            "│ 1993 ┆ Subaru     ┆ Legacy AWD   ┆ 2.2   ┆ … ┆ 2013-01-01  ┆ true        ┆ 4         ┆ 1.333333  │\n",
            "│      ┆            ┆              ┆       ┆   ┆ 00:00:00    ┆             ┆           ┆           │\n",
            "│ 1993 ┆ Subaru     ┆ Legacy AWD   ┆ 2.2   ┆ … ┆ 2013-01-01  ┆ false       ┆ 5         ┆ 1.333333  │\n",
            "│      ┆            ┆              ┆       ┆   ┆ 00:00:00    ┆             ┆           ┆           │\n",
            "│ 1993 ┆ Subaru     ┆ Legacy AWD   ┆ 2.2   ┆ … ┆ 2013-01-01  ┆ true        ┆ 4         ┆ 1.3125    │\n",
            "│      ┆            ┆ Turbo        ┆       ┆   ┆ 00:00:00    ┆             ┆           ┆           │\n",
            "└──────┴────────────┴──────────────┴───────┴───┴─────────────┴─────────────┴───────────┴───────────┘\n"
          ]
        }
      ]
    },
    {
      "cell_type": "code",
      "source": [
        "#drop column from dataframe\n",
        "print(autos.drop('createdOn').columns)"
      ],
      "metadata": {
        "colab": {
          "base_uri": "https://localhost:8080/"
        },
        "id": "xk871IqdBNQL",
        "outputId": "ccd39e06-5be1-4e4e-c8b2-d817b3033feb"
      },
      "execution_count": 38,
      "outputs": [
        {
          "output_type": "stream",
          "name": "stdout",
          "text": [
            "['year', 'make', 'model', 'displ', 'cylinders', 'trany', 'drive', 'VClass', 'fuelType', 'barrels08', 'city08', 'highway08', 'is_automatic', 'num_gears']\n"
          ]
        }
      ]
    },
    {
      "cell_type": "code",
      "source": [
        " print(autos\n",
        " .select(pl.all()\n",
        " .exclude(['createdOn', 'barrels08'])\n",
        " .name.suffix('auto'))\n",
        " )\n"
      ],
      "metadata": {
        "colab": {
          "base_uri": "https://localhost:8080/"
        },
        "id": "si7DS5rXB_-f",
        "outputId": "2defea58-8fd2-4537-febb-219dfe4c2054"
      },
      "execution_count": 39,
      "outputs": [
        {
          "output_type": "stream",
          "name": "stdout",
          "text": [
            "shape: (48_581, 13)\n",
            "┌──────────┬───────────┬───────────┬───────────┬───┬───────────┬───────────┬───────────┬───────────┐\n",
            "│ yearauto ┆ makeauto  ┆ modelauto ┆ displauto ┆ … ┆ city08aut ┆ highway08 ┆ is_automa ┆ num_gears │\n",
            "│ ---      ┆ ---       ┆ ---       ┆ ---       ┆   ┆ o         ┆ auto      ┆ ticauto   ┆ auto      │\n",
            "│ i16      ┆ cat       ┆ cat       ┆ f32       ┆   ┆ ---       ┆ ---       ┆ ---       ┆ ---       │\n",
            "│          ┆           ┆           ┆           ┆   ┆ u8        ┆ u8        ┆ str       ┆ u8        │\n",
            "╞══════════╪═══════════╪═══════════╪═══════════╪═══╪═══════════╪═══════════╪═══════════╪═══════════╡\n",
            "│ 1985     ┆ Alfa      ┆ Spider    ┆ 2.0       ┆ … ┆ 19        ┆ 25        ┆ false     ┆ 5         │\n",
            "│          ┆ Romeo     ┆ Veloce    ┆           ┆   ┆           ┆           ┆           ┆           │\n",
            "│          ┆           ┆ 2000      ┆           ┆   ┆           ┆           ┆           ┆           │\n",
            "│ 1985     ┆ Ferrari   ┆ Testaross ┆ 4.9       ┆ … ┆ 9         ┆ 14        ┆ false     ┆ 5         │\n",
            "│          ┆           ┆ a         ┆           ┆   ┆           ┆           ┆           ┆           │\n",
            "│ 1985     ┆ Dodge     ┆ Charger   ┆ 2.2       ┆ … ┆ 23        ┆ 33        ┆ false     ┆ 5         │\n",
            "│ 1985     ┆ Dodge     ┆ B150/B250 ┆ 5.2       ┆ … ┆ 10        ┆ 12        ┆ true      ┆ 3         │\n",
            "│          ┆           ┆ Wagon 2WD ┆           ┆   ┆           ┆           ┆           ┆           │\n",
            "│ 1993     ┆ Subaru    ┆ Legacy    ┆ 2.2       ┆ … ┆ 17        ┆ 23        ┆ false     ┆ 5         │\n",
            "│          ┆           ┆ AWD Turbo ┆           ┆   ┆           ┆           ┆           ┆           │\n",
            "│ …        ┆ …         ┆ …         ┆ …         ┆ … ┆ …         ┆ …         ┆ …         ┆ …         │\n",
            "│ 1993     ┆ Subaru    ┆ Legacy    ┆ 2.2       ┆ … ┆ 19        ┆ 26        ┆ true      ┆ 4         │\n",
            "│ 1993     ┆ Subaru    ┆ Legacy    ┆ 2.2       ┆ … ┆ 20        ┆ 28        ┆ false     ┆ 5         │\n",
            "│ 1993     ┆ Subaru    ┆ Legacy    ┆ 2.2       ┆ … ┆ 18        ┆ 24        ┆ true      ┆ 4         │\n",
            "│          ┆           ┆ AWD       ┆           ┆   ┆           ┆           ┆           ┆           │\n",
            "│ 1993     ┆ Subaru    ┆ Legacy    ┆ 2.2       ┆ … ┆ 18        ┆ 24        ┆ false     ┆ 5         │\n",
            "│          ┆           ┆ AWD       ┆           ┆   ┆           ┆           ┆           ┆           │\n",
            "│ 1993     ┆ Subaru    ┆ Legacy    ┆ 2.2       ┆ … ┆ 16        ┆ 21        ┆ true      ┆ 4         │\n",
            "│          ┆           ┆ AWD Turbo ┆           ┆   ┆           ┆           ┆           ┆           │\n",
            "└──────────┴───────────┴───────────┴───────────┴───┴───────────┴───────────┴───────────┴───────────┘\n"
          ]
        }
      ]
    },
    {
      "cell_type": "code",
      "source": [
        "#renaming columns\n",
        "final_cols = ['year', 'make', 'model', 'city_mpg', 'highway_mpg']\n",
        "print(autos.with_columns(pl.col('city08').alias('city_mpg'), highway_mpg=pl.col('highway08')).select(final_cols))"
      ],
      "metadata": {
        "colab": {
          "base_uri": "https://localhost:8080/"
        },
        "id": "_PsnN7KtCXTA",
        "outputId": "1b56fbe8-a2af-4594-bcfa-d9bd573a8c25"
      },
      "execution_count": 40,
      "outputs": [
        {
          "output_type": "stream",
          "name": "stdout",
          "text": [
            "shape: (48_581, 5)\n",
            "┌──────┬────────────┬─────────────────────┬──────────┬─────────────┐\n",
            "│ year ┆ make       ┆ model               ┆ city_mpg ┆ highway_mpg │\n",
            "│ ---  ┆ ---        ┆ ---                 ┆ ---      ┆ ---         │\n",
            "│ i16  ┆ cat        ┆ cat                 ┆ u8       ┆ u8          │\n",
            "╞══════╪════════════╪═════════════════════╪══════════╪═════════════╡\n",
            "│ 1985 ┆ Alfa Romeo ┆ Spider Veloce 2000  ┆ 19       ┆ 25          │\n",
            "│ 1985 ┆ Ferrari    ┆ Testarossa          ┆ 9        ┆ 14          │\n",
            "│ 1985 ┆ Dodge      ┆ Charger             ┆ 23       ┆ 33          │\n",
            "│ 1985 ┆ Dodge      ┆ B150/B250 Wagon 2WD ┆ 10       ┆ 12          │\n",
            "│ 1993 ┆ Subaru     ┆ Legacy AWD Turbo    ┆ 17       ┆ 23          │\n",
            "│ …    ┆ …          ┆ …                   ┆ …        ┆ …           │\n",
            "│ 1993 ┆ Subaru     ┆ Legacy              ┆ 19       ┆ 26          │\n",
            "│ 1993 ┆ Subaru     ┆ Legacy              ┆ 20       ┆ 28          │\n",
            "│ 1993 ┆ Subaru     ┆ Legacy AWD          ┆ 18       ┆ 24          │\n",
            "│ 1993 ┆ Subaru     ┆ Legacy AWD          ┆ 18       ┆ 24          │\n",
            "│ 1993 ┆ Subaru     ┆ Legacy AWD Turbo    ┆ 16       ┆ 21          │\n",
            "└──────┴────────────┴─────────────────────┴──────────┴─────────────┘\n"
          ]
        }
      ]
    },
    {
      "cell_type": "code",
      "source": [
        "#we can use rename also--accept dict mapping\n",
        "print(autos\n",
        " .rename({'city08':'city_mpg',\n",
        " 'highway08':'highway_mpg'})\n",
        " .select(final_cols))"
      ],
      "metadata": {
        "colab": {
          "base_uri": "https://localhost:8080/"
        },
        "id": "Y3eN-HWnEVm5",
        "outputId": "dd976914-0315-4a6d-8cb2-05f4352f8284"
      },
      "execution_count": 41,
      "outputs": [
        {
          "output_type": "stream",
          "name": "stdout",
          "text": [
            "shape: (48_581, 5)\n",
            "┌──────┬────────────┬─────────────────────┬──────────┬─────────────┐\n",
            "│ year ┆ make       ┆ model               ┆ city_mpg ┆ highway_mpg │\n",
            "│ ---  ┆ ---        ┆ ---                 ┆ ---      ┆ ---         │\n",
            "│ i16  ┆ cat        ┆ cat                 ┆ u8       ┆ u8          │\n",
            "╞══════╪════════════╪═════════════════════╪══════════╪═════════════╡\n",
            "│ 1985 ┆ Alfa Romeo ┆ Spider Veloce 2000  ┆ 19       ┆ 25          │\n",
            "│ 1985 ┆ Ferrari    ┆ Testarossa          ┆ 9        ┆ 14          │\n",
            "│ 1985 ┆ Dodge      ┆ Charger             ┆ 23       ┆ 33          │\n",
            "│ 1985 ┆ Dodge      ┆ B150/B250 Wagon 2WD ┆ 10       ┆ 12          │\n",
            "│ 1993 ┆ Subaru     ┆ Legacy AWD Turbo    ┆ 17       ┆ 23          │\n",
            "│ …    ┆ …          ┆ …                   ┆ …        ┆ …           │\n",
            "│ 1993 ┆ Subaru     ┆ Legacy              ┆ 19       ┆ 26          │\n",
            "│ 1993 ┆ Subaru     ┆ Legacy              ┆ 20       ┆ 28          │\n",
            "│ 1993 ┆ Subaru     ┆ Legacy AWD          ┆ 18       ┆ 24          │\n",
            "│ 1993 ┆ Subaru     ┆ Legacy AWD          ┆ 18       ┆ 24          │\n",
            "│ 1993 ┆ Subaru     ┆ Legacy AWD Turbo    ┆ 16       ┆ 21          │\n",
            "└──────┴────────────┴─────────────────────┴──────────┴─────────────┘\n"
          ]
        }
      ]
    },
    {
      "cell_type": "markdown",
      "source": [
        "##Joins"
      ],
      "metadata": {
        "id": "_CmX6EgUEpcg"
      }
    },
    {
      "cell_type": "code",
      "source": [
        "trucks = pl.DataFrame(\n",
        " {'make': ['Ford', 'Tesla', 'Chevy', 'Custom', 'Ford'],\n",
        " 'model': ['F150', 'Cybertruck', 'Silverado', 'HotRod', 'F250'],\n",
        " 'year': [2018, 2024, 2019, 1967, 2017],\n",
        " 'city_mpg': [19, None, 17, 12, 18],\n",
        " })\n",
        "print(trucks)\n"
      ],
      "metadata": {
        "colab": {
          "base_uri": "https://localhost:8080/"
        },
        "id": "jFF9nZk_EpE1",
        "outputId": "06c01767-f6a3-40c9-b7e4-1a9748e7c9e9"
      },
      "execution_count": 42,
      "outputs": [
        {
          "output_type": "stream",
          "name": "stdout",
          "text": [
            "shape: (5, 4)\n",
            "┌────────┬────────────┬──────┬──────────┐\n",
            "│ make   ┆ model      ┆ year ┆ city_mpg │\n",
            "│ ---    ┆ ---        ┆ ---  ┆ ---      │\n",
            "│ str    ┆ str        ┆ i64  ┆ i64      │\n",
            "╞════════╪════════════╪══════╪══════════╡\n",
            "│ Ford   ┆ F150       ┆ 2018 ┆ 19       │\n",
            "│ Tesla  ┆ Cybertruck ┆ 2024 ┆ null     │\n",
            "│ Chevy  ┆ Silverado  ┆ 2019 ┆ 17       │\n",
            "│ Custom ┆ HotRod     ┆ 1967 ┆ 12       │\n",
            "│ Ford   ┆ F250       ┆ 2017 ┆ 18       │\n",
            "└────────┴────────────┴──────┴──────────┘\n"
          ]
        }
      ]
    },
    {
      "cell_type": "code",
      "source": [
        "manufacturer = pl.DataFrame(\n",
        " {'name': ['Ford', 'Tesla', 'Chevy', 'Toyota'],\n",
        " 'country': ['USA', 'USA', 'USA', 'Japan'],\n",
        " 'founded': [1903, 2003, 1911, 1937],\n",
        " 'employees': [199_000, 48_000, 225_000, 370_000],\n",
        " 'vehicles': [80, 3, 45, 30],\n",
        " })\n",
        "print(manufacturer)"
      ],
      "metadata": {
        "colab": {
          "base_uri": "https://localhost:8080/"
        },
        "id": "SYBePjTJFIGe",
        "outputId": "446213a4-d318-4b9e-df71-00b9d3abc30e"
      },
      "execution_count": 43,
      "outputs": [
        {
          "output_type": "stream",
          "name": "stdout",
          "text": [
            "shape: (4, 5)\n",
            "┌────────┬─────────┬─────────┬───────────┬──────────┐\n",
            "│ name   ┆ country ┆ founded ┆ employees ┆ vehicles │\n",
            "│ ---    ┆ ---     ┆ ---     ┆ ---       ┆ ---      │\n",
            "│ str    ┆ str     ┆ i64     ┆ i64       ┆ i64      │\n",
            "╞════════╪═════════╪═════════╪═══════════╪══════════╡\n",
            "│ Ford   ┆ USA     ┆ 1903    ┆ 199000    ┆ 80       │\n",
            "│ Tesla  ┆ USA     ┆ 2003    ┆ 48000     ┆ 3        │\n",
            "│ Chevy  ┆ USA     ┆ 1911    ┆ 225000    ┆ 45       │\n",
            "│ Toyota ┆ Japan   ┆ 1937    ┆ 370000    ┆ 30       │\n",
            "└────────┴─────────┴─────────┴───────────┴──────────┘\n"
          ]
        }
      ]
    },
    {
      "cell_type": "code",
      "source": [
        "print(manufacturer.join(trucks, how='left', left_on='name', right_on='make'))"
      ],
      "metadata": {
        "colab": {
          "base_uri": "https://localhost:8080/"
        },
        "id": "QMcH9JNkFRlR",
        "outputId": "ed3e0128-4048-4ac0-9504-c434eeee14cf"
      },
      "execution_count": 44,
      "outputs": [
        {
          "output_type": "stream",
          "name": "stdout",
          "text": [
            "shape: (5, 8)\n",
            "┌────────┬─────────┬─────────┬───────────┬──────────┬────────────┬──────┬──────────┐\n",
            "│ name   ┆ country ┆ founded ┆ employees ┆ vehicles ┆ model      ┆ year ┆ city_mpg │\n",
            "│ ---    ┆ ---     ┆ ---     ┆ ---       ┆ ---      ┆ ---        ┆ ---  ┆ ---      │\n",
            "│ str    ┆ str     ┆ i64     ┆ i64       ┆ i64      ┆ str        ┆ i64  ┆ i64      │\n",
            "╞════════╪═════════╪═════════╪═══════════╪══════════╪════════════╪══════╪══════════╡\n",
            "│ Ford   ┆ USA     ┆ 1903    ┆ 199000    ┆ 80       ┆ F150       ┆ 2018 ┆ 19       │\n",
            "│ Ford   ┆ USA     ┆ 1903    ┆ 199000    ┆ 80       ┆ F250       ┆ 2017 ┆ 18       │\n",
            "│ Tesla  ┆ USA     ┆ 2003    ┆ 48000     ┆ 3        ┆ Cybertruck ┆ 2024 ┆ null     │\n",
            "│ Chevy  ┆ USA     ┆ 1911    ┆ 225000    ┆ 45       ┆ Silverado  ┆ 2019 ┆ 17       │\n",
            "│ Toyota ┆ Japan   ┆ 1937    ┆ 370000    ┆ 30       ┆ null       ┆ null ┆ null     │\n",
            "└────────┴─────────┴─────────┴───────────┴──────────┴────────────┴──────┴──────────┘\n"
          ]
        }
      ]
    },
    {
      "cell_type": "markdown",
      "source": [
        "Polars doesn’t support how='right' in the .join method. Instead, we can\n",
        "use how='left' and then swap the dataframes. (We will also need to swap the\n",
        "left_on and right_on parameters.)\n"
      ],
      "metadata": {
        "id": "kYhSMGPYFi4F"
      }
    },
    {
      "cell_type": "code",
      "source": [
        "print(trucks.join(manufacturer, how='left', left_on='make', right_on='name'))"
      ],
      "metadata": {
        "colab": {
          "base_uri": "https://localhost:8080/"
        },
        "id": "4UEqMRasFj1E",
        "outputId": "aba43bab-8a31-4241-bcb0-b75d9d1d7ed1"
      },
      "execution_count": 45,
      "outputs": [
        {
          "output_type": "stream",
          "name": "stdout",
          "text": [
            "shape: (5, 8)\n",
            "┌────────┬────────────┬──────┬──────────┬─────────┬─────────┬───────────┬──────────┐\n",
            "│ make   ┆ model      ┆ year ┆ city_mpg ┆ country ┆ founded ┆ employees ┆ vehicles │\n",
            "│ ---    ┆ ---        ┆ ---  ┆ ---      ┆ ---     ┆ ---     ┆ ---       ┆ ---      │\n",
            "│ str    ┆ str        ┆ i64  ┆ i64      ┆ str     ┆ i64     ┆ i64       ┆ i64      │\n",
            "╞════════╪════════════╪══════╪══════════╪═════════╪═════════╪═══════════╪══════════╡\n",
            "│ Ford   ┆ F150       ┆ 2018 ┆ 19       ┆ USA     ┆ 1903    ┆ 199000    ┆ 80       │\n",
            "│ Tesla  ┆ Cybertruck ┆ 2024 ┆ null     ┆ USA     ┆ 2003    ┆ 48000     ┆ 3        │\n",
            "│ Chevy  ┆ Silverado  ┆ 2019 ┆ 17       ┆ USA     ┆ 1911    ┆ 225000    ┆ 45       │\n",
            "│ Custom ┆ HotRod     ┆ 1967 ┆ 12       ┆ null    ┆ null    ┆ null      ┆ null     │\n",
            "│ Ford   ┆ F250       ┆ 2017 ┆ 18       ┆ USA     ┆ 1903    ┆ 199000    ┆ 80       │\n",
            "└────────┴────────────┴──────┴──────────┴─────────┴─────────┴───────────┴──────────┘\n"
          ]
        }
      ]
    },
    {
      "cell_type": "code",
      "source": [
        "##inner join--it is default join\n",
        "print(manufacturer.join(trucks, left_on='name', right_on='make'))"
      ],
      "metadata": {
        "colab": {
          "base_uri": "https://localhost:8080/"
        },
        "id": "JbIeHQu7GHWi",
        "outputId": "f04ae11c-9428-4179-e982-250146ba35ec"
      },
      "execution_count": 46,
      "outputs": [
        {
          "output_type": "stream",
          "name": "stdout",
          "text": [
            "shape: (4, 8)\n",
            "┌───────┬─────────┬─────────┬───────────┬──────────┬────────────┬──────┬──────────┐\n",
            "│ name  ┆ country ┆ founded ┆ employees ┆ vehicles ┆ model      ┆ year ┆ city_mpg │\n",
            "│ ---   ┆ ---     ┆ ---     ┆ ---       ┆ ---      ┆ ---        ┆ ---  ┆ ---      │\n",
            "│ str   ┆ str     ┆ i64     ┆ i64       ┆ i64      ┆ str        ┆ i64  ┆ i64      │\n",
            "╞═══════╪═════════╪═════════╪═══════════╪══════════╪════════════╪══════╪══════════╡\n",
            "│ Ford  ┆ USA     ┆ 1903    ┆ 199000    ┆ 80       ┆ F150       ┆ 2018 ┆ 19       │\n",
            "│ Tesla ┆ USA     ┆ 2003    ┆ 48000     ┆ 3        ┆ Cybertruck ┆ 2024 ┆ null     │\n",
            "│ Chevy ┆ USA     ┆ 1911    ┆ 225000    ┆ 45       ┆ Silverado  ┆ 2019 ┆ 17       │\n",
            "│ Ford  ┆ USA     ┆ 1903    ┆ 199000    ┆ 80       ┆ F250       ┆ 2017 ┆ 18       │\n",
            "└───────┴─────────┴─────────┴───────────┴──────────┴────────────┴──────┴──────────┘\n"
          ]
        }
      ]
    },
    {
      "cell_type": "code",
      "source": [
        "##outer join\n",
        "print(manufacturer.join(trucks, how='outer', left_on='name', right_on='make'))"
      ],
      "metadata": {
        "colab": {
          "base_uri": "https://localhost:8080/"
        },
        "id": "EIZU_AgTGTMP",
        "outputId": "652f2fde-cc02-45a0-84cf-92ae965c0dbf"
      },
      "execution_count": 47,
      "outputs": [
        {
          "output_type": "stream",
          "name": "stdout",
          "text": [
            "shape: (6, 9)\n",
            "┌────────┬─────────┬─────────┬───────────┬───┬────────┬────────────┬──────┬──────────┐\n",
            "│ name   ┆ country ┆ founded ┆ employees ┆ … ┆ make   ┆ model      ┆ year ┆ city_mpg │\n",
            "│ ---    ┆ ---     ┆ ---     ┆ ---       ┆   ┆ ---    ┆ ---        ┆ ---  ┆ ---      │\n",
            "│ str    ┆ str     ┆ i64     ┆ i64       ┆   ┆ str    ┆ str        ┆ i64  ┆ i64      │\n",
            "╞════════╪═════════╪═════════╪═══════════╪═══╪════════╪════════════╪══════╪══════════╡\n",
            "│ Ford   ┆ USA     ┆ 1903    ┆ 199000    ┆ … ┆ Ford   ┆ F150       ┆ 2018 ┆ 19       │\n",
            "│ Tesla  ┆ USA     ┆ 2003    ┆ 48000     ┆ … ┆ Tesla  ┆ Cybertruck ┆ 2024 ┆ null     │\n",
            "│ Chevy  ┆ USA     ┆ 1911    ┆ 225000    ┆ … ┆ Chevy  ┆ Silverado  ┆ 2019 ┆ 17       │\n",
            "│ null   ┆ null    ┆ null    ┆ null      ┆ … ┆ Custom ┆ HotRod     ┆ 1967 ┆ 12       │\n",
            "│ Ford   ┆ USA     ┆ 1903    ┆ 199000    ┆ … ┆ Ford   ┆ F250       ┆ 2017 ┆ 18       │\n",
            "│ Toyota ┆ Japan   ┆ 1937    ┆ 370000    ┆ … ┆ null   ┆ null       ┆ null ┆ null     │\n",
            "└────────┴─────────┴─────────┴───────────┴───┴────────┴────────────┴──────┴──────────┘\n"
          ]
        },
        {
          "output_type": "stream",
          "name": "stderr",
          "text": [
            "<ipython-input-47-dcaebdaff23b>:2: DeprecationWarning: Use of `how='outer'` should be replaced with `how='full'`.\n",
            "  print(manufacturer.join(trucks, how='outer', left_on='name', right_on='make'))\n"
          ]
        }
      ]
    },
    {
      "cell_type": "code",
      "source": [
        "#semi join\n",
        "print(manufacturer.join(trucks, how='semi', left_on='name', right_on='make'))"
      ],
      "metadata": {
        "colab": {
          "base_uri": "https://localhost:8080/"
        },
        "id": "4ZI6_0lFJaSf",
        "outputId": "78cebb51-1ebd-404c-e385-ecc3400c65f6"
      },
      "execution_count": 48,
      "outputs": [
        {
          "output_type": "stream",
          "name": "stdout",
          "text": [
            "shape: (3, 5)\n",
            "┌───────┬─────────┬─────────┬───────────┬──────────┐\n",
            "│ name  ┆ country ┆ founded ┆ employees ┆ vehicles │\n",
            "│ ---   ┆ ---     ┆ ---     ┆ ---       ┆ ---      │\n",
            "│ str   ┆ str     ┆ i64     ┆ i64       ┆ i64      │\n",
            "╞═══════╪═════════╪═════════╪═══════════╪══════════╡\n",
            "│ Ford  ┆ USA     ┆ 1903    ┆ 199000    ┆ 80       │\n",
            "│ Tesla ┆ USA     ┆ 2003    ┆ 48000     ┆ 3        │\n",
            "│ Chevy ┆ USA     ┆ 1911    ┆ 225000    ┆ 45       │\n",
            "└───────┴─────────┴─────────┴───────────┴──────────┘\n"
          ]
        }
      ]
    },
    {
      "cell_type": "code",
      "source": [
        "#cross join\n",
        "print(manufacturer.join(trucks, how='cross'))"
      ],
      "metadata": {
        "colab": {
          "base_uri": "https://localhost:8080/"
        },
        "id": "JV-tDd2aJmlw",
        "outputId": "8f78e8b4-d0f6-4d1b-dd6e-604ff789e1c9"
      },
      "execution_count": 49,
      "outputs": [
        {
          "output_type": "stream",
          "name": "stdout",
          "text": [
            "shape: (20, 9)\n",
            "┌────────┬─────────┬─────────┬───────────┬───┬────────┬────────────┬──────┬──────────┐\n",
            "│ name   ┆ country ┆ founded ┆ employees ┆ … ┆ make   ┆ model      ┆ year ┆ city_mpg │\n",
            "│ ---    ┆ ---     ┆ ---     ┆ ---       ┆   ┆ ---    ┆ ---        ┆ ---  ┆ ---      │\n",
            "│ str    ┆ str     ┆ i64     ┆ i64       ┆   ┆ str    ┆ str        ┆ i64  ┆ i64      │\n",
            "╞════════╪═════════╪═════════╪═══════════╪═══╪════════╪════════════╪══════╪══════════╡\n",
            "│ Ford   ┆ USA     ┆ 1903    ┆ 199000    ┆ … ┆ Ford   ┆ F150       ┆ 2018 ┆ 19       │\n",
            "│ Ford   ┆ USA     ┆ 1903    ┆ 199000    ┆ … ┆ Tesla  ┆ Cybertruck ┆ 2024 ┆ null     │\n",
            "│ Ford   ┆ USA     ┆ 1903    ┆ 199000    ┆ … ┆ Chevy  ┆ Silverado  ┆ 2019 ┆ 17       │\n",
            "│ Ford   ┆ USA     ┆ 1903    ┆ 199000    ┆ … ┆ Custom ┆ HotRod     ┆ 1967 ┆ 12       │\n",
            "│ Ford   ┆ USA     ┆ 1903    ┆ 199000    ┆ … ┆ Ford   ┆ F250       ┆ 2017 ┆ 18       │\n",
            "│ …      ┆ …       ┆ …       ┆ …         ┆ … ┆ …      ┆ …          ┆ …    ┆ …        │\n",
            "│ Toyota ┆ Japan   ┆ 1937    ┆ 370000    ┆ … ┆ Ford   ┆ F150       ┆ 2018 ┆ 19       │\n",
            "│ Toyota ┆ Japan   ┆ 1937    ┆ 370000    ┆ … ┆ Tesla  ┆ Cybertruck ┆ 2024 ┆ null     │\n",
            "│ Toyota ┆ Japan   ┆ 1937    ┆ 370000    ┆ … ┆ Chevy  ┆ Silverado  ┆ 2019 ┆ 17       │\n",
            "│ Toyota ┆ Japan   ┆ 1937    ┆ 370000    ┆ … ┆ Custom ┆ HotRod     ┆ 1967 ┆ 12       │\n",
            "│ Toyota ┆ Japan   ┆ 1937    ┆ 370000    ┆ … ┆ Ford   ┆ F250       ┆ 2017 ┆ 18       │\n",
            "└────────┴─────────┴─────────┴───────────┴───┴────────┴────────────┴──────┴──────────┘\n"
          ]
        }
      ]
    },
    {
      "cell_type": "code",
      "source": [
        "#anti-join- keeps all of the rows from the left dataframe that don’t have amatch in the right dataframe\n",
        "print(trucks.join(manufacturer, how='anti', left_on='make', right_on='name'))"
      ],
      "metadata": {
        "colab": {
          "base_uri": "https://localhost:8080/"
        },
        "id": "g8QQjDh8Ju2Z",
        "outputId": "3dc796a5-3823-4ad1-cda4-8b7488f6f581"
      },
      "execution_count": 50,
      "outputs": [
        {
          "output_type": "stream",
          "name": "stdout",
          "text": [
            "shape: (1, 4)\n",
            "┌────────┬────────┬──────┬──────────┐\n",
            "│ make   ┆ model  ┆ year ┆ city_mpg │\n",
            "│ ---    ┆ ---    ┆ ---  ┆ ---      │\n",
            "│ str    ┆ str    ┆ i64  ┆ i64      │\n",
            "╞════════╪════════╪══════╪══════════╡\n",
            "│ Custom ┆ HotRod ┆ 1967 ┆ 12       │\n",
            "└────────┴────────┴──────┴──────────┘\n"
          ]
        }
      ]
    },
    {
      "cell_type": "code",
      "source": [
        "#validating join types\n",
        "print(manufacturer.join(trucks, left_on='name', right_on='make', validate='1:m'))"
      ],
      "metadata": {
        "colab": {
          "base_uri": "https://localhost:8080/"
        },
        "id": "rbhlIgWJKLkY",
        "outputId": "036a157b-8868-462e-f3e8-e89bc77a2988"
      },
      "execution_count": 51,
      "outputs": [
        {
          "output_type": "stream",
          "name": "stdout",
          "text": [
            "shape: (4, 8)\n",
            "┌───────┬─────────┬─────────┬───────────┬──────────┬────────────┬──────┬──────────┐\n",
            "│ name  ┆ country ┆ founded ┆ employees ┆ vehicles ┆ model      ┆ year ┆ city_mpg │\n",
            "│ ---   ┆ ---     ┆ ---     ┆ ---       ┆ ---      ┆ ---        ┆ ---  ┆ ---      │\n",
            "│ str   ┆ str     ┆ i64     ┆ i64       ┆ i64      ┆ str        ┆ i64  ┆ i64      │\n",
            "╞═══════╪═════════╪═════════╪═══════════╪══════════╪════════════╪══════╪══════════╡\n",
            "│ Ford  ┆ USA     ┆ 1903    ┆ 199000    ┆ 80       ┆ F150       ┆ 2018 ┆ 19       │\n",
            "│ Tesla ┆ USA     ┆ 2003    ┆ 48000     ┆ 3        ┆ Cybertruck ┆ 2024 ┆ null     │\n",
            "│ Chevy ┆ USA     ┆ 1911    ┆ 225000    ┆ 45       ┆ Silverado  ┆ 2019 ┆ 17       │\n",
            "│ Ford  ┆ USA     ┆ 1903    ┆ 199000    ┆ 80       ┆ F250       ┆ 2017 ┆ 18       │\n",
            "└───────┴─────────┴─────────┴───────────┴──────────┴────────────┴──────┴──────────┘\n"
          ]
        }
      ]
    },
    {
      "cell_type": "code",
      "source": [
        "print(trucks.filter(pl.col('make').is_duplicated()))"
      ],
      "metadata": {
        "colab": {
          "base_uri": "https://localhost:8080/"
        },
        "id": "9dBvWxzQODlc",
        "outputId": "86b7077a-5978-4bd6-c443-a4c26ee741cf"
      },
      "execution_count": 52,
      "outputs": [
        {
          "output_type": "stream",
          "name": "stdout",
          "text": [
            "shape: (2, 4)\n",
            "┌──────┬───────┬──────┬──────────┐\n",
            "│ make ┆ model ┆ year ┆ city_mpg │\n",
            "│ ---  ┆ ---   ┆ ---  ┆ ---      │\n",
            "│ str  ┆ str   ┆ i64  ┆ i64      │\n",
            "╞══════╪═══════╪══════╪══════════╡\n",
            "│ Ford ┆ F150  ┆ 2018 ┆ 19       │\n",
            "│ Ford ┆ F250  ┆ 2017 ┆ 18       │\n",
            "└──────┴───────┴──────┴──────────┘\n"
          ]
        }
      ]
    },
    {
      "cell_type": "code",
      "source": [
        " #filter out the top 5 car manufacturers\n",
        " top_n = (autos\n",
        " .group_by('make')\n",
        " .agg(pl.col('city08').count())\n",
        " .sort('city08')\n",
        " .tail(5)\n",
        " )\n",
        " print(top_n)"
      ],
      "metadata": {
        "colab": {
          "base_uri": "https://localhost:8080/"
        },
        "id": "a43U_RbfP5T9",
        "outputId": "904ef254-622f-4b09-9177-4f8c0b0cf679"
      },
      "execution_count": 53,
      "outputs": [
        {
          "output_type": "stream",
          "name": "stdout",
          "text": [
            "shape: (5, 2)\n",
            "┌───────────┬────────┐\n",
            "│ make      ┆ city08 │\n",
            "│ ---       ┆ ---    │\n",
            "│ cat       ┆ u32    │\n",
            "╞═══════════╪════════╡\n",
            "│ BMW       ┆ 2545   │\n",
            "│ Dodge     ┆ 2703   │\n",
            "│ GMC       ┆ 2836   │\n",
            "│ Ford      ┆ 3867   │\n",
            "│ Chevrolet ┆ 4490   │\n",
            "└───────────┴────────┘\n"
          ]
        }
      ]
    },
    {
      "cell_type": "code",
      "source": [
        "#pivot\n",
        "print(autos\n",
        " .filter(pl.col('make').is_in(top_n['make']))\n",
        " .sort('year')\n",
        " .pivot(on='make', index='year', values='city08',\n",
        " aggregate_function='median',maintain_order=True)#indicate that results should be in the order of the index column by using maintain_order=True\n",
        ")"
      ],
      "metadata": {
        "colab": {
          "base_uri": "https://localhost:8080/"
        },
        "id": "lnOeRdnbQlWF",
        "outputId": "de561134-1e15-4dbb-ab1f-1bbf76b4a62b"
      },
      "execution_count": 56,
      "outputs": [
        {
          "output_type": "stream",
          "name": "stdout",
          "text": [
            "shape: (42, 6)\n",
            "┌──────┬───────────┬──────┬──────┬───────┬──────┐\n",
            "│ year ┆ Chevrolet ┆ Ford ┆ BMW  ┆ Dodge ┆ GMC  │\n",
            "│ ---  ┆ ---       ┆ ---  ┆ ---  ┆ ---   ┆ ---  │\n",
            "│ i16  ┆ f64       ┆ f64  ┆ f64  ┆ f64   ┆ f64  │\n",
            "╞══════╪═══════════╪══════╪══════╪═══════╪══════╡\n",
            "│ 1984 ┆ 16.0      ┆ 14.5 ┆ 18.0 ┆ 18.0  ┆ 15.0 │\n",
            "│ 1985 ┆ 15.0      ┆ 15.0 ┆ 18.0 ┆ 17.0  ┆ 15.0 │\n",
            "│ 1986 ┆ 15.0      ┆ 16.0 ┆ 15.0 ┆ 14.5  ┆ 15.0 │\n",
            "│ 1987 ┆ 15.0      ┆ 15.0 ┆ 15.0 ┆ 15.0  ┆ 15.0 │\n",
            "│ 1988 ┆ 15.0      ┆ 15.0 ┆ 15.0 ┆ 14.0  ┆ 15.0 │\n",
            "│ …    ┆ …         ┆ …    ┆ …    ┆ …     ┆ …    │\n",
            "│ 2021 ┆ 16.0      ┆ 20.0 ┆ 21.0 ┆ 15.0  ┆ 15.0 │\n",
            "│ 2022 ┆ 16.0      ┆ 20.0 ┆ 21.0 ┆ 15.0  ┆ 15.0 │\n",
            "│ 2023 ┆ 17.0      ┆ 19.0 ┆ 22.0 ┆ 15.0  ┆ 16.0 │\n",
            "│ 2024 ┆ 17.0      ┆ 19.0 ┆ 23.0 ┆ 21.0  ┆ 17.0 │\n",
            "│ 2025 ┆ 17.0      ┆ 19.5 ┆ 25.0 ┆ 18.0  ┆ 17.0 │\n",
            "└──────┴───────────┴──────┴──────┴───────┴──────┘\n"
          ]
        }
      ]
    },
    {
      "cell_type": "code",
      "source": [
        "pivoted=autos.filter(pl.col('make').is_in(top_n['make'])).sort('year').pivot(on='make', index='year', values='city08',\n",
        "                          aggregate_function='median',maintain_order=True)"
      ],
      "metadata": {
        "id": "HUjPtByZ6qfy"
      },
      "execution_count": 62,
      "outputs": []
    },
    {
      "cell_type": "code",
      "source": [
        "#unpivot\n",
        "print(pivoted.unpivot(index='year', on=['Chevrolet', 'Ford', 'GMC', 'Dodge'],\n",
        "       variable_name='make',value_name='median_city_mpg'))#variable_name and value_name parameters can be used to give names for melted columns\n"
      ],
      "metadata": {
        "colab": {
          "base_uri": "https://localhost:8080/"
        },
        "id": "JPogFinY7U6b",
        "outputId": "9bcf759b-3358-4cb1-a372-4e038062877b"
      },
      "execution_count": 70,
      "outputs": [
        {
          "output_type": "stream",
          "name": "stdout",
          "text": [
            "shape: (168, 3)\n",
            "┌──────┬───────────┬─────────────────┐\n",
            "│ year ┆ make      ┆ median_city_mpg │\n",
            "│ ---  ┆ ---       ┆ ---             │\n",
            "│ i16  ┆ str       ┆ f64             │\n",
            "╞══════╪═══════════╪═════════════════╡\n",
            "│ 1984 ┆ Chevrolet ┆ 16.0            │\n",
            "│ 1985 ┆ Chevrolet ┆ 15.0            │\n",
            "│ 1986 ┆ Chevrolet ┆ 15.0            │\n",
            "│ 1987 ┆ Chevrolet ┆ 15.0            │\n",
            "│ 1988 ┆ Chevrolet ┆ 15.0            │\n",
            "│ …    ┆ …         ┆ …               │\n",
            "│ 2021 ┆ Dodge     ┆ 15.0            │\n",
            "│ 2022 ┆ Dodge     ┆ 15.0            │\n",
            "│ 2023 ┆ Dodge     ┆ 15.0            │\n",
            "│ 2024 ┆ Dodge     ┆ 21.0            │\n",
            "│ 2025 ┆ Dodge     ┆ 18.0            │\n",
            "└──────┴───────────┴─────────────────┘\n"
          ]
        }
      ]
    },
    {
      "cell_type": "code",
      "source": [
        "#In Polars, a struct is a single column that contains a sequence of values (the collection of columns that are combined)\n",
        "#below combines two columns\n",
        "print(autos\n",
        " .select(pl.struct(pl.col('year'), pl.col('model')))\n",
        " )\n"
      ],
      "metadata": {
        "colab": {
          "base_uri": "https://localhost:8080/"
        },
        "id": "9OSVHVM18bh6",
        "outputId": "1328373e-3c90-41e2-eb12-02d6e964a856"
      },
      "execution_count": 71,
      "outputs": [
        {
          "output_type": "stream",
          "name": "stdout",
          "text": [
            "shape: (48_581, 1)\n",
            "┌──────────────────────────────┐\n",
            "│ year                         │\n",
            "│ ---                          │\n",
            "│ struct[2]                    │\n",
            "╞══════════════════════════════╡\n",
            "│ {1985,\"Spider Veloce 2000\"}  │\n",
            "│ {1985,\"Testarossa\"}          │\n",
            "│ {1985,\"Charger\"}             │\n",
            "│ {1985,\"B150/B250 Wagon 2WD\"} │\n",
            "│ {1993,\"Legacy AWD Turbo\"}    │\n",
            "│ …                            │\n",
            "│ {1993,\"Legacy\"}              │\n",
            "│ {1993,\"Legacy\"}              │\n",
            "│ {1993,\"Legacy AWD\"}          │\n",
            "│ {1993,\"Legacy AWD\"}          │\n",
            "│ {1993,\"Legacy AWD Turbo\"}    │\n",
            "└──────────────────────────────┘\n"
          ]
        }
      ]
    },
    {
      "cell_type": "code",
      "source": [
        "#below combines two columns and check there is any duplicates\n",
        "print(autos\n",
        " .select(pl.struct(pl.col('year'), pl.col('model')).is_duplicated())\n",
        " )"
      ],
      "metadata": {
        "colab": {
          "base_uri": "https://localhost:8080/"
        },
        "id": "cJhGr7_m8qxi",
        "outputId": "a547c5c2-c76f-48a2-b338-5a745bb69f0a"
      },
      "execution_count": 72,
      "outputs": [
        {
          "output_type": "stream",
          "name": "stdout",
          "text": [
            "shape: (48_581, 1)\n",
            "┌───────┐\n",
            "│ year  │\n",
            "│ ---   │\n",
            "│ bool  │\n",
            "╞═══════╡\n",
            "│ false │\n",
            "│ false │\n",
            "│ true  │\n",
            "│ true  │\n",
            "│ true  │\n",
            "│ …     │\n",
            "│ true  │\n",
            "│ true  │\n",
            "│ true  │\n",
            "│ true  │\n",
            "│ true  │\n",
            "└───────┘\n"
          ]
        }
      ]
    },
    {
      "cell_type": "code",
      "source": [
        "#we can see those combination dupliactes using filter\n",
        "print(autos\n",
        " .filter(pl.struct(pl.col('year'), pl.col('model')).is_duplicated())\n",
        " )"
      ],
      "metadata": {
        "colab": {
          "base_uri": "https://localhost:8080/"
        },
        "id": "b_fPS4aW8_ZZ",
        "outputId": "d1f3b410-24d5-4720-f467-2df50b629dfa"
      },
      "execution_count": 74,
      "outputs": [
        {
          "output_type": "stream",
          "name": "stdout",
          "text": [
            "shape: (35_143, 15)\n",
            "┌──────┬────────┬────────────┬───────┬───┬───────────┬──────────────┬──────────────┬───────────┐\n",
            "│ year ┆ make   ┆ model      ┆ displ ┆ … ┆ highway08 ┆ createdOn    ┆ is_automatic ┆ num_gears │\n",
            "│ ---  ┆ ---    ┆ ---        ┆ ---   ┆   ┆ ---       ┆ ---          ┆ ---          ┆ ---       │\n",
            "│ i16  ┆ cat    ┆ cat        ┆ f32   ┆   ┆ u8        ┆ datetime[μs] ┆ str          ┆ u8        │\n",
            "╞══════╪════════╪════════════╪═══════╪═══╪═══════════╪══════════════╪══════════════╪═══════════╡\n",
            "│ 1985 ┆ Dodge  ┆ Charger    ┆ 2.2   ┆ … ┆ 33        ┆ 2013-01-01   ┆ false        ┆ 5         │\n",
            "│      ┆        ┆            ┆       ┆   ┆           ┆ 00:00:00     ┆              ┆           │\n",
            "│ 1985 ┆ Dodge  ┆ B150/B250  ┆ 5.2   ┆ … ┆ 12        ┆ 2013-01-01   ┆ true         ┆ 3         │\n",
            "│      ┆        ┆ Wagon 2WD  ┆       ┆   ┆           ┆ 00:00:00     ┆              ┆           │\n",
            "│ 1993 ┆ Subaru ┆ Legacy AWD ┆ 2.2   ┆ … ┆ 23        ┆ 2013-01-01   ┆ false        ┆ 5         │\n",
            "│      ┆        ┆ Turbo      ┆       ┆   ┆           ┆ 00:00:00     ┆              ┆           │\n",
            "│ 1993 ┆ Subaru ┆ Loyale     ┆ 1.8   ┆ … ┆ 24        ┆ 2013-01-01   ┆ true         ┆ 3         │\n",
            "│      ┆        ┆            ┆       ┆   ┆           ┆ 00:00:00     ┆              ┆           │\n",
            "│ 1993 ┆ Subaru ┆ Loyale     ┆ 1.8   ┆ … ┆ 29        ┆ 2013-01-01   ┆ false        ┆ 5         │\n",
            "│      ┆        ┆            ┆       ┆   ┆           ┆ 00:00:00     ┆              ┆           │\n",
            "│ …    ┆ …      ┆ …          ┆ …     ┆ … ┆ …         ┆ …            ┆ …            ┆ …         │\n",
            "│ 1993 ┆ Subaru ┆ Legacy     ┆ 2.2   ┆ … ┆ 26        ┆ 2013-01-01   ┆ true         ┆ 4         │\n",
            "│      ┆        ┆            ┆       ┆   ┆           ┆ 00:00:00     ┆              ┆           │\n",
            "│ 1993 ┆ Subaru ┆ Legacy     ┆ 2.2   ┆ … ┆ 28        ┆ 2013-01-01   ┆ false        ┆ 5         │\n",
            "│      ┆        ┆            ┆       ┆   ┆           ┆ 00:00:00     ┆              ┆           │\n",
            "│ 1993 ┆ Subaru ┆ Legacy AWD ┆ 2.2   ┆ … ┆ 24        ┆ 2013-01-01   ┆ true         ┆ 4         │\n",
            "│      ┆        ┆            ┆       ┆   ┆           ┆ 00:00:00     ┆              ┆           │\n",
            "│ 1993 ┆ Subaru ┆ Legacy AWD ┆ 2.2   ┆ … ┆ 24        ┆ 2013-01-01   ┆ false        ┆ 5         │\n",
            "│      ┆        ┆            ┆       ┆   ┆           ┆ 00:00:00     ┆              ┆           │\n",
            "│ 1993 ┆ Subaru ┆ Legacy AWD ┆ 2.2   ┆ … ┆ 21        ┆ 2013-01-01   ┆ true         ┆ 4         │\n",
            "│      ┆        ┆ Turbo      ┆       ┆   ┆           ┆ 00:00:00     ┆              ┆           │\n",
            "└──────┴────────┴────────────┴───────┴───┴───────────┴──────────────┴──────────────┴───────────┘\n"
          ]
        }
      ]
    },
    {
      "cell_type": "markdown",
      "source": [
        "#handling nulls and NaN values and filing null values"
      ],
      "metadata": {
        "id": "TiS8_UaP97EV"
      }
    },
    {
      "cell_type": "code",
      "source": [
        "missing_df = pl.DataFrame({'val': [-1.1, 0, 2.3, None, 5.7, 7]})\n",
        "print(missing_df)"
      ],
      "metadata": {
        "colab": {
          "base_uri": "https://localhost:8080/"
        },
        "id": "Z0jDXH4o9_Ng",
        "outputId": "0762da0c-88e8-4b19-e16f-76bf07ffcba8"
      },
      "execution_count": 75,
      "outputs": [
        {
          "output_type": "stream",
          "name": "stdout",
          "text": [
            "shape: (6, 1)\n",
            "┌──────┐\n",
            "│ val  │\n",
            "│ ---  │\n",
            "│ f64  │\n",
            "╞══════╡\n",
            "│ -1.1 │\n",
            "│ 0.0  │\n",
            "│ 2.3  │\n",
            "│ null │\n",
            "│ 5.7  │\n",
            "│ 7.0  │\n",
            "└──────┘\n"
          ]
        }
      ]
    },
    {
      "cell_type": "code",
      "source": [
        "print(missing_df\n",
        " .with_columns(val2=pl.col('val')/pl.col('val'))\n",
        " .with_columns(is_null2=pl.col('val2').is_null(),\n",
        " is_nan2=pl.col('val2').is_nan(),\n",
        " is_finite2=pl.col('val2').is_finite(),\n",
        " interpolate=pl.col('val2').interpolate()\n",
        " )\n",
        " )\n"
      ],
      "metadata": {
        "colab": {
          "base_uri": "https://localhost:8080/"
        },
        "id": "KkmKA_Iy-FGC",
        "outputId": "a748a1f5-c55e-477b-f0cd-1cd6bd477195"
      },
      "execution_count": 76,
      "outputs": [
        {
          "output_type": "stream",
          "name": "stdout",
          "text": [
            "shape: (6, 6)\n",
            "┌──────┬──────┬──────────┬─────────┬────────────┬─────────────┐\n",
            "│ val  ┆ val2 ┆ is_null2 ┆ is_nan2 ┆ is_finite2 ┆ interpolate │\n",
            "│ ---  ┆ ---  ┆ ---      ┆ ---     ┆ ---        ┆ ---         │\n",
            "│ f64  ┆ f64  ┆ bool     ┆ bool    ┆ bool       ┆ f64         │\n",
            "╞══════╪══════╪══════════╪═════════╪════════════╪═════════════╡\n",
            "│ -1.1 ┆ 1.0  ┆ false    ┆ false   ┆ true       ┆ 1.0         │\n",
            "│ 0.0  ┆ NaN  ┆ false    ┆ true    ┆ false      ┆ NaN         │\n",
            "│ 2.3  ┆ 1.0  ┆ false    ┆ false   ┆ true       ┆ 1.0         │\n",
            "│ null ┆ null ┆ true     ┆ null    ┆ null       ┆ 1.0         │\n",
            "│ 5.7  ┆ 1.0  ┆ false    ┆ false   ┆ true       ┆ 1.0         │\n",
            "│ 7.0  ┆ 1.0  ┆ false    ┆ false   ┆ true       ┆ 1.0         │\n",
            "└──────┴──────┴──────────┴─────────┴────────────┴─────────────┘\n"
          ]
        }
      ]
    },
    {
      "cell_type": "code",
      "source": [
        "#fill_null method replace null values\n",
        "print(missing_df\n",
        ".with_columns(\n",
        " forward=pl.col('val').fill_null(strategy='forward'),\n",
        " backward=pl.col('val').fill_null(strategy='backward'),\n",
        " min=pl.col('val').fill_null(strategy='min'),\n",
        " max=pl.col('val').fill_null(strategy='max')\n",
        " )\n",
        " )\n"
      ],
      "metadata": {
        "colab": {
          "base_uri": "https://localhost:8080/"
        },
        "id": "t5DqUL1S-NN4",
        "outputId": "f478bed2-92a3-4bca-9d5e-20f2dc96c7b9"
      },
      "execution_count": 77,
      "outputs": [
        {
          "output_type": "stream",
          "name": "stdout",
          "text": [
            "shape: (6, 5)\n",
            "┌──────┬─────────┬──────────┬──────┬──────┐\n",
            "│ val  ┆ forward ┆ backward ┆ min  ┆ max  │\n",
            "│ ---  ┆ ---     ┆ ---      ┆ ---  ┆ ---  │\n",
            "│ f64  ┆ f64     ┆ f64      ┆ f64  ┆ f64  │\n",
            "╞══════╪═════════╪══════════╪══════╪══════╡\n",
            "│ -1.1 ┆ -1.1    ┆ -1.1     ┆ -1.1 ┆ -1.1 │\n",
            "│ 0.0  ┆ 0.0     ┆ 0.0      ┆ 0.0  ┆ 0.0  │\n",
            "│ 2.3  ┆ 2.3     ┆ 2.3      ┆ 2.3  ┆ 2.3  │\n",
            "│ null ┆ 2.3     ┆ 5.7      ┆ -1.1 ┆ 7.0  │\n",
            "│ 5.7  ┆ 5.7     ┆ 5.7      ┆ 5.7  ┆ 5.7  │\n",
            "│ 7.0  ┆ 7.0     ┆ 7.0      ┆ 7.0  ┆ 7.0  │\n",
            "└──────┴─────────┴──────────┴──────┴──────┘\n"
          ]
        }
      ]
    },
    {
      "cell_type": "code",
      "source": [
        "#selectors module to select the numeric columns\n",
        "import polars.selectors as cs\n",
        "print(autos.select(cs.numeric().is_null().sum()))\n",
        "#You can also perform set operations on the selectors"
      ],
      "metadata": {
        "colab": {
          "base_uri": "https://localhost:8080/"
        },
        "id": "VLTh-ET3AV9E",
        "outputId": "f8ae84d9-f96b-4885-f6a1-78f571e9add6"
      },
      "execution_count": 81,
      "outputs": [
        {
          "output_type": "stream",
          "name": "stdout",
          "text": [
            "shape: (1, 7)\n",
            "┌──────┬───────┬───────────┬───────────┬────────┬───────────┬───────────┐\n",
            "│ year ┆ displ ┆ cylinders ┆ barrels08 ┆ city08 ┆ highway08 ┆ num_gears │\n",
            "│ ---  ┆ ---   ┆ ---       ┆ ---       ┆ ---    ┆ ---       ┆ ---       │\n",
            "│ u32  ┆ u32   ┆ u32       ┆ u32       ┆ u32    ┆ u32       ┆ u32       │\n",
            "╞══════╪═══════╪═══════════╪═══════════╪════════╪═══════════╪═══════════╡\n",
            "│ 0    ┆ 1088  ┆ 1090      ┆ 0         ┆ 0      ┆ 0         ┆ 0         │\n",
            "└──────┴───────┴───────────┴───────────┴────────┴───────────┴───────────┘\n"
          ]
        }
      ]
    },
    {
      "cell_type": "code",
      "source": [
        "# if you want to select all columns that are not dates orbooleans, use this code\n",
        "no_dates_or_bools = (cs.all() - cs.date() - cs.boolean())\n",
        "print(no_dates_or_bools)\n",
        "print(cs.expand_selector(autos, no_dates_or_bools))\n"
      ],
      "metadata": {
        "colab": {
          "base_uri": "https://localhost:8080/"
        },
        "id": "ATOwNHv9Atmy",
        "outputId": "19a99eec-a170-4b92-9c5f-06c4196eb33d"
      },
      "execution_count": 83,
      "outputs": [
        {
          "output_type": "stream",
          "name": "stdout",
          "text": [
            "selector\n",
            "('year', 'make', 'model', 'displ', 'cylinders', 'trany', 'drive', 'VClass', 'fuelType', 'barrels08', 'city08', 'highway08', 'createdOn', 'is_automatic', 'num_gears')\n"
          ]
        }
      ]
    },
    {
      "cell_type": "code",
      "source": [
        "mean_displ = (pl.col('displ')\n",
        " .mean().over(['year', 'make'])\n",
        " .fill_null(0)\n",
        " .alias('mean_displ')\n",
        " )\n",
        "print(autos\n",
        " .with_columns(mean_displ)\n",
        " .filter(pl.col('displ').is_null())\n",
        " .select(['year', 'make', 'displ', 'mean_displ'])\n",
        " )\n"
      ],
      "metadata": {
        "colab": {
          "base_uri": "https://localhost:8080/"
        },
        "id": "UqfjZyUdB-E8",
        "outputId": "f0229b5d-0340-47b0-e295-ea8c49bedeeb"
      },
      "execution_count": 85,
      "outputs": [
        {
          "output_type": "stream",
          "name": "stdout",
          "text": [
            "shape: (1_088, 4)\n",
            "┌──────┬────────┬───────┬────────────┐\n",
            "│ year ┆ make   ┆ displ ┆ mean_displ │\n",
            "│ ---  ┆ ---    ┆ ---   ┆ ---        │\n",
            "│ i16  ┆ cat    ┆ f32   ┆ f32        │\n",
            "╞══════╪════════╪═══════╪════════════╡\n",
            "│ 2000 ┆ Nissan ┆ null  ┆ 2.836      │\n",
            "│ 2000 ┆ Toyota ┆ null  ┆ 2.644444   │\n",
            "│ 2001 ┆ Toyota ┆ null  ┆ 2.736538   │\n",
            "│ 2001 ┆ Ford   ┆ null  ┆ 3.837362   │\n",
            "│ 2001 ┆ Ford   ┆ null  ┆ 3.837362   │\n",
            "│ …    ┆ …      ┆ …     ┆ …          │\n",
            "│ 2025 ┆ Audi   ┆ null  ┆ 2.726471   │\n",
            "│ 2025 ┆ Dodge  ┆ null  ┆ 4.014286   │\n",
            "│ 2025 ┆ Dodge  ┆ null  ┆ 4.014286   │\n",
            "│ 2025 ┆ Tesla  ┆ null  ┆ 0.0        │\n",
            "│ 2025 ┆ Toyota ┆ null  ┆ 2.439743   │\n",
            "└──────┴────────┴───────┴────────────┘\n"
          ]
        }
      ]
    },
    {
      "cell_type": "code",
      "source": [
        "print(autos\n",
        " .with_columns(pl.col('displ').fill_null(mean_displ))\n",
        " .select(['year', 'make', 'model', 'displ'])\n",
        " .filter(pl.col('make')=='Tesla')\n",
        " )\n"
      ],
      "metadata": {
        "colab": {
          "base_uri": "https://localhost:8080/"
        },
        "id": "CfTH1AzhCP7a",
        "outputId": "26ff91cf-f8e5-4b74-c839-9677df821e51"
      },
      "execution_count": 88,
      "outputs": [
        {
          "output_type": "stream",
          "name": "stdout",
          "text": [
            "shape: (160, 4)\n",
            "┌──────┬───────┬─────────────────────────────────┬───────┐\n",
            "│ year ┆ make  ┆ model                           ┆ displ │\n",
            "│ ---  ┆ ---   ┆ ---                             ┆ ---   │\n",
            "│ i16  ┆ cat   ┆ cat                             ┆ f32   │\n",
            "╞══════╪═══════╪═════════════════════════════════╪═══════╡\n",
            "│ 2012 ┆ Tesla ┆ Model S                         ┆ 0.0   │\n",
            "│ 2013 ┆ Tesla ┆ Model S (60 kW-hr battery pack… ┆ 0.0   │\n",
            "│ 2013 ┆ Tesla ┆ Model S (85 kW-hr battery pack… ┆ 0.0   │\n",
            "│ 2013 ┆ Tesla ┆ Model S (40 kW-hr battery pack… ┆ 0.0   │\n",
            "│ 2014 ┆ Tesla ┆ Model S (85 kW-hr battery pack… ┆ 0.0   │\n",
            "│ …    ┆ …     ┆ …                               ┆ …     │\n",
            "│ 2025 ┆ Tesla ┆ Model Y Long Range RWD          ┆ 0.0   │\n",
            "│ 2025 ┆ Tesla ┆ Model Y Performance AWD         ┆ 0.0   │\n",
            "│ 2024 ┆ Tesla ┆ Model 3 Long Range RWD          ┆ 0.0   │\n",
            "│ 2024 ┆ Tesla ┆ Model 3 Performance AWD         ┆ 0.0   │\n",
            "│ 2025 ┆ Tesla ┆ Model 3 Performance AWD         ┆ 0.0   │\n",
            "└──────┴───────┴─────────────────────────────────┴───────┘\n"
          ]
        }
      ]
    },
    {
      "cell_type": "code",
      "source": [
        "#make a  function that standardizes a column.\n",
        "def standardize_pl(col):\n",
        "   return (col - col.mean()) / col.std()\n",
        "print(autos\n",
        " .select(city08_standardized=standardize_pl(pl.col('city08'))))"
      ],
      "metadata": {
        "colab": {
          "base_uri": "https://localhost:8080/"
        },
        "id": "1ETjbyPoLJG0",
        "outputId": "7ced6473-1fb1-4a67-b739-9f8b04229b98"
      },
      "execution_count": 91,
      "outputs": [
        {
          "output_type": "stream",
          "name": "stdout",
          "text": [
            "shape: (48_581, 1)\n",
            "┌─────────────────────┐\n",
            "│ city08_standardized │\n",
            "│ ---                 │\n",
            "│ f64                 │\n",
            "╞═════════════════════╡\n",
            "│ -0.085738           │\n",
            "│ -0.843395           │\n",
            "│ 0.217325            │\n",
            "│ -0.767629           │\n",
            "│ -0.237269           │\n",
            "│ …                   │\n",
            "│ -0.085738           │\n",
            "│ -0.009972           │\n",
            "│ -0.161503           │\n",
            "│ -0.161503           │\n",
            "│ -0.313035           │\n",
            "└─────────────────────┘\n"
          ]
        }
      ]
    }
  ]
}