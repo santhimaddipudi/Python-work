{
  "nbformat": 4,
  "nbformat_minor": 0,
  "metadata": {
    "colab": {
      "provenance": [],
      "authorship_tag": "ABX9TyOEUmkbti6WgBBrfIkDcJrv",
      "include_colab_link": true
    },
    "kernelspec": {
      "name": "python3",
      "display_name": "Python 3"
    },
    "language_info": {
      "name": "python"
    }
  },
  "cells": [
    {
      "cell_type": "markdown",
      "metadata": {
        "id": "view-in-github",
        "colab_type": "text"
      },
      "source": [
        "<a href=\"https://colab.research.google.com/github/santhimaddipudi/Python-work/blob/master/Polars_2.ipynb\" target=\"_parent\"><img src=\"https://colab.research.google.com/assets/colab-badge.svg\" alt=\"Open In Colab\"/></a>"
      ]
    },
    {
      "cell_type": "markdown",
      "source": [
        "##String Manipulation"
      ],
      "metadata": {
        "id": "5DcB-sESNSHs"
      }
    },
    {
      "cell_type": "code",
      "source": [
        "url = 'https://github.com/mattharrison/datasets/raw/' \\\n",
        "  'master/data/__mharrison__2020-2021.csv'\n",
        "import polars as pl\n",
        "raw=pl.read_csv(url)\n",
        "print(raw)\n"
      ],
      "metadata": {
        "id": "PKLcI4LMNWxI"
      },
      "execution_count": null,
      "outputs": []
    },
    {
      "cell_type": "code",
      "source": [
        "#select only few columns\n",
        "def tweak_twit(df):\n",
        "          return (df .select(['Tweet id', 'Tweet permalink', 'Tweet text', 'time',\n",
        "                              'impressions', 'engagements', 'engagement rate',\n",
        "                              'retweets', 'replies', 'likes', 'user profile clicks'])\n",
        "                 )\n",
        "twit = tweak_twit(raw)\n",
        "print(twit)"
      ],
      "metadata": {
        "id": "MJzRymOiN9bc"
      },
      "execution_count": null,
      "outputs": []
    },
    {
      "cell_type": "code",
      "source": [
        "#.str accessor, much like Pandas. This accessor provides access to string manipulation methods\n",
        "col = pl.col('Tweet permalink')\n",
        "print([m for m in dir(col.str) if not m.startswith('_')])"
      ],
      "metadata": {
        "colab": {
          "base_uri": "https://localhost:8080/"
        },
        "id": "Thd9paEEPx0K",
        "outputId": "a2259b41-4454-4496-a5a7-f823683f41a0"
      },
      "execution_count": 7,
      "outputs": [
        {
          "output_type": "stream",
          "name": "stdout",
          "text": [
            "['concat', 'contains', 'contains_any', 'count_matches', 'decode', 'encode', 'ends_with', 'escape_regex', 'explode', 'extract', 'extract_all', 'extract_groups', 'extract_many', 'find', 'find_many', 'head', 'join', 'json_decode', 'json_path_match', 'len_bytes', 'len_chars', 'normalize', 'pad_end', 'pad_start', 'replace', 'replace_all', 'replace_many', 'reverse', 'slice', 'split', 'split_exact', 'splitn', 'starts_with', 'strip_chars', 'strip_chars_end', 'strip_chars_start', 'strip_prefix', 'strip_suffix', 'strptime', 'tail', 'to_date', 'to_datetime', 'to_decimal', 'to_integer', 'to_lowercase', 'to_time', 'to_titlecase', 'to_uppercase', 'zfill']\n"
          ]
        }
      ]
    },
    {
      "cell_type": "code",
      "source": [
        "#links don’t start with the correct prefix in the column\n",
        "col = pl.col('Tweet permalink')\n",
        "print(twit.filter(~col.str.starts_with('https://twitter.com/')))"
      ],
      "metadata": {
        "colab": {
          "base_uri": "https://localhost:8080/"
        },
        "id": "B160PwNdQUZu",
        "outputId": "235d94e6-635c-4a1c-c049-c974259466ba"
      },
      "execution_count": 8,
      "outputs": [
        {
          "output_type": "stream",
          "name": "stdout",
          "text": [
            "shape: (0, 11)\n",
            "┌──────────┬───────────┬────────────┬──────┬───┬──────────┬─────────┬───────┬──────────────────────┐\n",
            "│ Tweet id ┆ Tweet     ┆ Tweet text ┆ time ┆ … ┆ retweets ┆ replies ┆ likes ┆ user profile clicks  │\n",
            "│ ---      ┆ permalink ┆ ---        ┆ ---  ┆   ┆ ---      ┆ ---     ┆ ---   ┆ ---                  │\n",
            "│ i64      ┆ ---       ┆ str        ┆ str  ┆   ┆ f64      ┆ f64     ┆ f64   ┆ f64                  │\n",
            "│          ┆ str       ┆            ┆      ┆   ┆          ┆         ┆       ┆                      │\n",
            "╞══════════╪═══════════╪════════════╪══════╪═══╪══════════╪═════════╪═══════╪══════════════════════╡\n",
            "└──────────┴───────────┴────────────┴──────┴───┴──────────┴─────────┴───────┴──────────────────────┘\n"
          ]
        }
      ]
    },
    {
      "cell_type": "code",
      "source": [
        "print('https://metasnake.com/effective-polars'.split('/'))"
      ],
      "metadata": {
        "colab": {
          "base_uri": "https://localhost:8080/"
        },
        "id": "fsUgerl8QiD0",
        "outputId": "0237fa93-2b57-424c-fdd3-adc17f298287"
      },
      "execution_count": 9,
      "outputs": [
        {
          "output_type": "stream",
          "name": "stdout",
          "text": [
            "['https:', '', 'metasnake.com', 'effective-polars']\n"
          ]
        }
      ]
    },
    {
      "cell_type": "code",
      "source": [
        "print(twit.select(pl.col('Tweet permalink').str.split('/').list.get(3)))"
      ],
      "metadata": {
        "id": "2QnK7rdWQnPt"
      },
      "execution_count": null,
      "outputs": []
    },
    {
      "cell_type": "code",
      "source": [
        "print(twit.select(col.str.split('/').list.len()))"
      ],
      "metadata": {
        "colab": {
          "base_uri": "https://localhost:8080/"
        },
        "id": "YtPD33OPRqqz",
        "outputId": "028060c7-7239-40a9-bac7-59b4db6cada5"
      },
      "execution_count": 20,
      "outputs": [
        {
          "output_type": "stream",
          "name": "stdout",
          "text": [
            "shape: (5_791, 1)\n",
            "┌─────────────────┐\n",
            "│ Tweet permalink │\n",
            "│ ---             │\n",
            "│ u32             │\n",
            "╞═════════════════╡\n",
            "│ 6               │\n",
            "│ 6               │\n",
            "│ 6               │\n",
            "│ 6               │\n",
            "│ 6               │\n",
            "│ …               │\n",
            "│ 6               │\n",
            "│ 6               │\n",
            "│ 6               │\n",
            "│ 6               │\n",
            "│ 6               │\n",
            "└─────────────────┘\n"
          ]
        }
      ]
    },
    {
      "cell_type": "code",
      "source": [
        "#.list.to_struct method converts each list into a struct.\n",
        "#unnest method to convert the struct into columns\n",
        "print(twit\n",
        " .select(col.str.split('/')\n",
        " .list.to_struct())\n",
        " .unnest('Tweet permalink')\n",
        " )"
      ],
      "metadata": {
        "colab": {
          "base_uri": "https://localhost:8080/"
        },
        "id": "zx79-hLVxa0n",
        "outputId": "0b8489fc-ece7-46f0-8d2f-493ecfdc069c"
      },
      "execution_count": 10,
      "outputs": [
        {
          "output_type": "stream",
          "name": "stdout",
          "text": [
            "shape: (5_791, 6)\n",
            "┌─────────┬─────────┬─────────────┬───────────────┬─────────┬─────────────────────┐\n",
            "│ field_0 ┆ field_1 ┆ field_2     ┆ field_3       ┆ field_4 ┆ field_5             │\n",
            "│ ---     ┆ ---     ┆ ---         ┆ ---           ┆ ---     ┆ ---                 │\n",
            "│ str     ┆ str     ┆ str         ┆ str           ┆ str     ┆ str                 │\n",
            "╞═════════╪═════════╪═════════════╪═══════════════╪═════════╪═════════════════════╡\n",
            "│ https:  ┆         ┆ twitter.com ┆ __mharrison__ ┆ status  ┆ 1212580517905780737 │\n",
            "│ https:  ┆         ┆ twitter.com ┆ __mharrison__ ┆ status  ┆ 1212582494828036097 │\n",
            "│ https:  ┆         ┆ twitter.com ┆ __mharrison__ ┆ status  ┆ 1212613735698690049 │\n",
            "│ https:  ┆         ┆ twitter.com ┆ __mharrison__ ┆ status  ┆ 1212911749617242113 │\n",
            "│ https:  ┆         ┆ twitter.com ┆ __mharrison__ ┆ status  ┆ 1212920556028252160 │\n",
            "│ …       ┆ …       ┆ …           ┆ …             ┆ …       ┆ …                   │\n",
            "│ https:  ┆         ┆ twitter.com ┆ __mharrison__ ┆ status  ┆ 1475300661851934721 │\n",
            "│ https:  ┆         ┆ twitter.com ┆ __mharrison__ ┆ status  ┆ 1475518143690801156 │\n",
            "│ https:  ┆         ┆ twitter.com ┆ __mharrison__ ┆ status  ┆ 1475891441243025408 │\n",
            "│ https:  ┆         ┆ twitter.com ┆ __mharrison__ ┆ status  ┆ 1476453819751878656 │\n",
            "│ https:  ┆         ┆ twitter.com ┆ __mharrison__ ┆ status  ┆ 1477024722051158018 │\n",
            "└─────────┴─────────┴─────────────┴───────────────┴─────────┴─────────────────────┘\n"
          ]
        },
        {
          "output_type": "stream",
          "name": "stderr",
          "text": [
            "<ipython-input-10-40fa60258701>:3: UserWarning: `to_struct()` should be passed a list of field names to avoid query errors in subsequent operations (e.g. <struct operation> not supported for dtype Unknown)\n",
            "  .list.to_struct())\n"
          ]
        }
      ]
    },
    {
      "cell_type": "code",
      "source": [
        "#Extract username with regular expression\n",
        "regex = r'^https:\\/\\/twitter\\.com\\/([a-zA-Z0-9_]+)\\/status\\/(\\d+)$'\n",
        "print(twit.select(user=col.str.extract(regex, group_index=1))\n",
        ")"
      ],
      "metadata": {
        "colab": {
          "base_uri": "https://localhost:8080/"
        },
        "id": "Wl6PKltIyQHv",
        "outputId": "3819451e-25f2-480e-b7d0-4e6ea3cd4882"
      },
      "execution_count": 11,
      "outputs": [
        {
          "output_type": "stream",
          "name": "stdout",
          "text": [
            "shape: (5_791, 1)\n",
            "┌───────────────┐\n",
            "│ user          │\n",
            "│ ---           │\n",
            "│ str           │\n",
            "╞═══════════════╡\n",
            "│ __mharrison__ │\n",
            "│ __mharrison__ │\n",
            "│ __mharrison__ │\n",
            "│ __mharrison__ │\n",
            "│ __mharrison__ │\n",
            "│ …             │\n",
            "│ __mharrison__ │\n",
            "│ __mharrison__ │\n",
            "│ __mharrison__ │\n",
            "│ __mharrison__ │\n",
            "│ __mharrison__ │\n",
            "└───────────────┘\n"
          ]
        }
      ]
    },
    {
      "cell_type": "code",
      "source": [
        "#Get word count from tweet text\n",
        "tweet_col = pl.col('Tweet text')\n",
        "print(twit\n",
        " .with_columns(word_count=tweet_col.str.split(' ').list.len()))"
      ],
      "metadata": {
        "id": "9_f3DaWvzh25"
      },
      "execution_count": null,
      "outputs": []
    },
    {
      "cell_type": "code",
      "source": [
        "print(twit\n",
        " .with_columns(upper=tweet_col.str.to_titlecase()))#Convert strings to title case"
      ],
      "metadata": {
        "colab": {
          "base_uri": "https://localhost:8080/"
        },
        "id": "9X52TrXd2I5-",
        "outputId": "8c6b0716-6ddf-4b79-bf5c-203b289f2fdb"
      },
      "execution_count": 17,
      "outputs": [
        {
          "output_type": "stream",
          "name": "stdout",
          "text": [
            "shape: (5_791, 12)\n",
            "┌────────────┬────────────┬────────────┬────────────┬───┬─────────┬───────┬────────────┬───────────┐\n",
            "│ Tweet id   ┆ Tweet      ┆ Tweet text ┆ time       ┆ … ┆ replies ┆ likes ┆ user       ┆ upper     │\n",
            "│ ---        ┆ permalink  ┆ ---        ┆ ---        ┆   ┆ ---     ┆ ---   ┆ profile    ┆ ---       │\n",
            "│ i64        ┆ ---        ┆ str        ┆ str        ┆   ┆ f64     ┆ f64   ┆ clicks     ┆ str       │\n",
            "│            ┆ str        ┆            ┆            ┆   ┆         ┆       ┆ ---        ┆           │\n",
            "│            ┆            ┆            ┆            ┆   ┆         ┆       ┆ f64        ┆           │\n",
            "╞════════════╪════════════╪════════════╪════════════╪═══╪═════════╪═══════╪════════════╪═══════════╡\n",
            "│ 1212580517 ┆ https://tw ┆ Sounds     ┆ 2020-01-02 ┆ … ┆ 0.0     ┆ 3.0   ┆ 3.0        ┆ Sounds    │\n",
            "│ 905780737  ┆ itter.com/ ┆ like a     ┆ 03:44:00+0 ┆   ┆         ┆       ┆            ┆ Like A    │\n",
            "│            ┆ __mharriso ┆ great      ┆ 0:00       ┆   ┆         ┆       ┆            ┆ Great     │\n",
            "│            ┆ …          ┆ topic!     ┆            ┆   ┆         ┆       ┆            ┆ Topic!    │\n",
            "│            ┆            ┆ htt…       ┆            ┆   ┆         ┆       ┆            ┆ Htt…      │\n",
            "│ 1212582494 ┆ https://tw ┆ @FogleBird ┆ 2020-01-02 ┆ … ┆ 0.0     ┆ 1.0   ┆ 1.0        ┆ @Foglebir │\n",
            "│ 828036097  ┆ itter.com/ ┆ Looks like ┆ 03:52:00+0 ┆   ┆         ┆       ┆            ┆ d Looks   │\n",
            "│            ┆ __mharriso ┆ SLC. I c…  ┆ 0:00       ┆   ┆         ┆       ┆            ┆ Like Slc. │\n",
            "│            ┆ …          ┆            ┆            ┆   ┆         ┆       ┆            ┆ I C…      │\n",
            "│ 1212613735 ┆ https://tw ┆ @afilina   ┆ 2020-01-02 ┆ … ┆ 0.0     ┆ 1.0   ┆ 2.0        ┆ @Afilina  │\n",
            "│ 698690049  ┆ itter.com/ ┆ That's     ┆ 05:56:00+0 ┆   ┆         ┆       ┆            ┆ That'S    │\n",
            "│            ┆ __mharriso ┆ really     ┆ 0:00       ┆   ┆         ┆       ┆            ┆ Really    │\n",
            "│            ┆ …          ┆ amount …   ┆            ┆   ┆         ┆       ┆            ┆ Amount …  │\n",
            "│ 1212911749 ┆ https://tw ┆ @randal_ol ┆ 2020-01-03 ┆ … ┆ 1.0     ┆ 5.0   ┆ 7.0        ┆ @Randal_O │\n",
            "│ 617242113  ┆ itter.com/ ┆ son I use  ┆ 01:41:00+0 ┆   ┆         ┆       ┆            ┆ lson I    │\n",
            "│            ┆ __mharriso ┆ anaconda   ┆ 0:00       ┆   ┆         ┆       ┆            ┆ Use       │\n",
            "│            ┆ …          ┆ w…         ┆            ┆   ┆         ┆       ┆            ┆ Anaconda  │\n",
            "│            ┆            ┆            ┆            ┆   ┆         ┆       ┆            ┆ W…        │\n",
            "│ 1212920556 ┆ https://tw ┆ @AlSweigar ┆ 2020-01-03 ┆ … ┆ 0.0     ┆ 1.0   ┆ 0.0        ┆ @Alsweiga │\n",
            "│ 028252160  ┆ itter.com/ ┆ t          ┆ 02:16:00+0 ┆   ┆         ┆       ┆            ┆ rt        │\n",
            "│            ┆ __mharriso ┆ Sometimes  ┆ 0:00       ┆   ┆         ┆       ┆            ┆ Sometimes │\n",
            "│            ┆ …          ┆ the stud…  ┆            ┆   ┆         ┆       ┆            ┆ The Stud… │\n",
            "│ …          ┆ …          ┆ …          ┆ …          ┆ … ┆ …       ┆ …     ┆ …          ┆ …         │\n",
            "│ 1475300661 ┆ https://tw ┆ @allison_h ┆ 2021-12-27 ┆ … ┆ 0.0     ┆ 0.0   ┆ 0.0        ┆ @Allison_ │\n",
            "│ 851934721  ┆ itter.com/ ┆ orst       ┆ 03:01:00+0 ┆   ┆         ┆       ┆            ┆ Horst     │\n",
            "│            ┆ __mharriso ┆ That's     ┆ 0:00       ┆   ┆         ┆       ┆            ┆ That'S    │\n",
            "│            ┆ …          ┆ awesome!   ┆            ┆   ┆         ┆       ┆            ┆ Awesome!  │\n",
            "│ 1475518143 ┆ https://tw ┆ @willmcgug ┆ 2021-12-27 ┆ … ┆ 0.0     ┆ 3.0   ┆ 1.0        ┆ @Willmcgu │\n",
            "│ 690801156  ┆ itter.com/ ┆ an You     ┆ 17:25:00+0 ┆   ┆         ┆       ┆            ┆ gan You   │\n",
            "│            ┆ __mharriso ┆ need to    ┆ 0:00       ┆   ┆         ┆       ┆            ┆ Need To   │\n",
            "│            ┆ …          ┆ find …     ┆            ┆   ┆         ┆       ┆            ┆ Find …    │\n",
            "│ 1475891441 ┆ https://tw ┆ @posco     ┆ 2021-12-28 ┆ … ┆ 0.0     ┆ 4.0   ┆ 4.0        ┆ @Posco    │\n",
            "│ 243025408  ┆ itter.com/ ┆ Visiting   ┆ 18:08:00+0 ┆   ┆         ┆       ┆            ┆ Visiting  │\n",
            "│            ┆ __mharriso ┆ Hawaii for ┆ 0:00       ┆   ┆         ┆       ┆            ┆ Hawaii    │\n",
            "│            ┆ …          ┆ the…       ┆            ┆   ┆         ┆       ┆            ┆ For The…  │\n",
            "│ 1476453819 ┆ https://tw ┆ @johndsaun ┆ 2021-12-30 ┆ … ┆ 0.0     ┆ 2.0   ┆ 4.0        ┆ @Johndsau │\n",
            "│ 751878656  ┆ itter.com/ ┆ ders My    ┆ 07:23:00+0 ┆   ┆         ┆       ┆            ┆ nders My  │\n",
            "│            ┆ __mharriso ┆ son just   ┆ 0:00       ┆   ┆         ┆       ┆            ┆ Son Just  │\n",
            "│            ┆ …          ┆ bui…       ┆            ┆   ┆         ┆       ┆            ┆ Bui…      │\n",
            "│ 1477024722 ┆ https://tw ┆ @tunguz    ┆ 2021-12-31 ┆ … ┆ 3.0     ┆ 23.0  ┆ 8.0        ┆ @Tunguz   │\n",
            "│ 051158018  ┆ itter.com/ ┆ Xgboost    ┆ 21:11:00+0 ┆   ┆         ┆       ┆            ┆ Xgboost   │\n",
            "│            ┆ __mharriso ┆            ┆ 0:00       ┆   ┆         ┆       ┆            ┆           │\n",
            "│            ┆ …          ┆            ┆            ┆   ┆         ┆       ┆            ┆           │\n",
            "└────────────┴────────────┴────────────┴────────────┴───┴─────────┴───────┴────────────┴───────────┘\n"
          ]
        }
      ]
    },
    {
      "cell_type": "markdown",
      "source": [
        "##Aggregation with Polars"
      ],
      "metadata": {
        "id": "T4NeYo2-22xy"
      }
    },
    {
      "cell_type": "code",
      "source": [
        "import pandas as pd\n",
        "df=pd.read_csv(\"/content/sample_data/vehicles.csv\")\n",
        "df_polars = pl.from_pandas(df)"
      ],
      "metadata": {
        "colab": {
          "base_uri": "https://localhost:8080/"
        },
        "id": "yCBujjxE24Gh",
        "outputId": "02526c49-5af7-49fc-9436-dae7eb6c18ab"
      },
      "execution_count": 19,
      "outputs": [
        {
          "output_type": "stream",
          "name": "stderr",
          "text": [
            "<ipython-input-19-8d0bdcca8851>:2: DtypeWarning: Columns (74,75,77) have mixed types. Specify dtype option on import or set low_memory=False.\n",
            "  df=pd.read_csv(\"/content/sample_data/vehicles.csv\")\n"
          ]
        }
      ]
    },
    {
      "cell_type": "code",
      "source": [
        "col = pl.col('make')\n",
        "print(sorted(att for att in dir(col) if not att.startswith('_')))"
      ],
      "metadata": {
        "colab": {
          "base_uri": "https://localhost:8080/"
        },
        "id": "NHH2YO8w3eps",
        "outputId": "93d6663b-a616-4c9c-e910-b1c11bd10be7"
      },
      "execution_count": 20,
      "outputs": [
        {
          "output_type": "stream",
          "name": "stdout",
          "text": [
            "['abs', 'add', 'agg_groups', 'alias', 'all', 'and_', 'any', 'append', 'approx_n_unique', 'arccos', 'arccosh', 'arcsin', 'arcsinh', 'arctan', 'arctanh', 'arg_max', 'arg_min', 'arg_sort', 'arg_true', 'arg_unique', 'arr', 'backward_fill', 'bin', 'bitwise_and', 'bitwise_count_ones', 'bitwise_count_zeros', 'bitwise_leading_ones', 'bitwise_leading_zeros', 'bitwise_or', 'bitwise_trailing_ones', 'bitwise_trailing_zeros', 'bitwise_xor', 'bottom_k', 'bottom_k_by', 'cast', 'cat', 'cbrt', 'ceil', 'clip', 'cos', 'cosh', 'cot', 'count', 'cum_count', 'cum_max', 'cum_min', 'cum_prod', 'cum_sum', 'cumulative_eval', 'cut', 'degrees', 'deserialize', 'diff', 'dot', 'drop_nans', 'drop_nulls', 'dt', 'entropy', 'eq', 'eq_missing', 'ewm_mean', 'ewm_mean_by', 'ewm_std', 'ewm_var', 'exclude', 'exp', 'explode', 'extend_constant', 'fill_nan', 'fill_null', 'filter', 'first', 'flatten', 'floor', 'floordiv', 'forward_fill', 'from_json', 'gather', 'gather_every', 'ge', 'get', 'gt', 'has_nulls', 'hash', 'head', 'hist', 'implode', 'index_of', 'inspect', 'interpolate', 'interpolate_by', 'is_between', 'is_duplicated', 'is_finite', 'is_first_distinct', 'is_in', 'is_infinite', 'is_last_distinct', 'is_nan', 'is_not_nan', 'is_not_null', 'is_null', 'is_unique', 'kurtosis', 'last', 'le', 'len', 'limit', 'list', 'log', 'log10', 'log1p', 'lower_bound', 'lt', 'map_batches', 'map_elements', 'max', 'mean', 'median', 'meta', 'min', 'mod', 'mode', 'mul', 'n_unique', 'name', 'nan_max', 'nan_min', 'ne', 'ne_missing', 'neg', 'not_', 'null_count', 'or_', 'over', 'pct_change', 'peak_max', 'peak_min', 'pipe', 'pow', 'product', 'qcut', 'quantile', 'radians', 'rank', 'rechunk', 'register_plugin', 'reinterpret', 'repeat_by', 'replace', 'replace_strict', 'reshape', 'reverse', 'rle', 'rle_id', 'rolling', 'rolling_map', 'rolling_max', 'rolling_max_by', 'rolling_mean', 'rolling_mean_by', 'rolling_median', 'rolling_median_by', 'rolling_min', 'rolling_min_by', 'rolling_quantile', 'rolling_quantile_by', 'rolling_skew', 'rolling_std', 'rolling_std_by', 'rolling_sum', 'rolling_sum_by', 'rolling_var', 'rolling_var_by', 'round', 'round_sig_figs', 'sample', 'search_sorted', 'set_sorted', 'shift', 'shrink_dtype', 'shuffle', 'sign', 'sin', 'sinh', 'skew', 'slice', 'sort', 'sort_by', 'sqrt', 'std', 'str', 'struct', 'sub', 'sum', 'tail', 'tan', 'tanh', 'to_physical', 'top_k', 'top_k_by', 'truediv', 'unique', 'unique_counts', 'upper_bound', 'value_counts', 'var', 'where', 'xor']\n"
          ]
        }
      ]
    },
    {
      "cell_type": "code",
      "source": [
        "df_polars"
      ],
      "metadata": {
        "colab": {
          "base_uri": "https://localhost:8080/",
          "height": 1000
        },
        "id": "ef7HZ07L4mf6",
        "outputId": "ea041039-c842-4546-b8be-829c26aeb50f"
      },
      "execution_count": 24,
      "outputs": [
        {
          "output_type": "execute_result",
          "data": {
            "text/plain": [
              "shape: (48_581, 84)\n",
              "┌───────────┬────────────┬───────────┬───────────┬───┬───────────┬──────────┬─────────┬──────────┐\n",
              "│ barrels08 ┆ barrelsA08 ┆ charge120 ┆ charge240 ┆ … ┆ startStop ┆ phevCity ┆ phevHwy ┆ phevComb │\n",
              "│ ---       ┆ ---        ┆ ---       ┆ ---       ┆   ┆ ---       ┆ ---      ┆ ---     ┆ ---      │\n",
              "│ f64       ┆ f64        ┆ f64       ┆ f64       ┆   ┆ str       ┆ i64      ┆ i64     ┆ i64      │\n",
              "╞═══════════╪════════════╪═══════════╪═══════════╪═══╪═══════════╪══════════╪═════════╪══════════╡\n",
              "│ 14.167143 ┆ 0.0        ┆ 0.0       ┆ 0.0       ┆ … ┆ null      ┆ 0        ┆ 0       ┆ 0        │\n",
              "│ 27.046364 ┆ 0.0        ┆ 0.0       ┆ 0.0       ┆ … ┆ null      ┆ 0        ┆ 0       ┆ 0        │\n",
              "│ 11.018889 ┆ 0.0        ┆ 0.0       ┆ 0.0       ┆ … ┆ null      ┆ 0        ┆ 0       ┆ 0        │\n",
              "│ 27.046364 ┆ 0.0        ┆ 0.0       ┆ 0.0       ┆ … ┆ null      ┆ 0        ┆ 0       ┆ 0        │\n",
              "│ 15.658421 ┆ 0.0        ┆ 0.0       ┆ 0.0       ┆ … ┆ null      ┆ 0        ┆ 0       ┆ 0        │\n",
              "│ …         ┆ …          ┆ …         ┆ …         ┆ … ┆ …         ┆ …        ┆ …       ┆ …        │\n",
              "│ 13.523182 ┆ 0.0        ┆ 0.0       ┆ 0.0       ┆ … ┆ null      ┆ 0        ┆ 0       ┆ 0        │\n",
              "│ 12.935217 ┆ 0.0        ┆ 0.0       ┆ 0.0       ┆ … ┆ null      ┆ 0        ┆ 0       ┆ 0        │\n",
              "│ 14.167143 ┆ 0.0        ┆ 0.0       ┆ 0.0       ┆ … ┆ null      ┆ 0        ┆ 0       ┆ 0        │\n",
              "│ 14.167143 ┆ 0.0        ┆ 0.0       ┆ 0.0       ┆ … ┆ null      ┆ 0        ┆ 0       ┆ 0        │\n",
              "│ 16.528333 ┆ 0.0        ┆ 0.0       ┆ 0.0       ┆ … ┆ null      ┆ 0        ┆ 0       ┆ 0        │\n",
              "└───────────┴────────────┴───────────┴───────────┴───┴───────────┴──────────┴─────────┴──────────┘"
            ],
            "text/html": [
              "<div><style>\n",
              ".dataframe > thead > tr,\n",
              ".dataframe > tbody > tr {\n",
              "  text-align: right;\n",
              "  white-space: pre-wrap;\n",
              "}\n",
              "</style>\n",
              "<small>shape: (48_581, 84)</small><table border=\"1\" class=\"dataframe\"><thead><tr><th>barrels08</th><th>barrelsA08</th><th>charge120</th><th>charge240</th><th>city08</th><th>city08U</th><th>cityA08</th><th>cityA08U</th><th>cityCD</th><th>cityE</th><th>cityUF</th><th>co2</th><th>co2A</th><th>co2TailpipeAGpm</th><th>co2TailpipeGpm</th><th>comb08</th><th>comb08U</th><th>combA08</th><th>combA08U</th><th>combE</th><th>combinedCD</th><th>combinedUF</th><th>cylinders</th><th>displ</th><th>drive</th><th>engId</th><th>eng_dscr</th><th>feScore</th><th>fuelCost08</th><th>fuelCostA08</th><th>fuelType</th><th>fuelType1</th><th>ghgScore</th><th>ghgScoreA</th><th>highway08</th><th>highway08U</th><th>highwayA08</th><th>&hellip;</th><th>model</th><th>mpgData</th><th>phevBlended</th><th>pv2</th><th>pv4</th><th>range</th><th>rangeCity</th><th>rangeCityA</th><th>rangeHwy</th><th>rangeHwyA</th><th>trany</th><th>UCity</th><th>UCityA</th><th>UHighway</th><th>UHighwayA</th><th>VClass</th><th>year</th><th>youSaveSpend</th><th>baseModel</th><th>guzzler</th><th>trans_dscr</th><th>tCharger</th><th>sCharger</th><th>atvType</th><th>fuelType2</th><th>rangeA</th><th>evMotor</th><th>mfrCode</th><th>c240Dscr</th><th>charge240b</th><th>c240bDscr</th><th>createdOn</th><th>modifiedOn</th><th>startStop</th><th>phevCity</th><th>phevHwy</th><th>phevComb</th></tr><tr><td>f64</td><td>f64</td><td>f64</td><td>f64</td><td>i64</td><td>f64</td><td>i64</td><td>f64</td><td>f64</td><td>f64</td><td>f64</td><td>i64</td><td>i64</td><td>f64</td><td>f64</td><td>i64</td><td>f64</td><td>i64</td><td>f64</td><td>f64</td><td>f64</td><td>f64</td><td>f64</td><td>f64</td><td>str</td><td>i64</td><td>str</td><td>i64</td><td>i64</td><td>i64</td><td>str</td><td>str</td><td>i64</td><td>i64</td><td>i64</td><td>f64</td><td>i64</td><td>&hellip;</td><td>str</td><td>str</td><td>bool</td><td>i64</td><td>i64</td><td>i64</td><td>f64</td><td>f64</td><td>f64</td><td>f64</td><td>str</td><td>f64</td><td>f64</td><td>f64</td><td>f64</td><td>str</td><td>i64</td><td>i64</td><td>str</td><td>str</td><td>str</td><td>str</td><td>str</td><td>str</td><td>str</td><td>str</td><td>str</td><td>str</td><td>str</td><td>f64</td><td>str</td><td>str</td><td>str</td><td>str</td><td>i64</td><td>i64</td><td>i64</td></tr></thead><tbody><tr><td>14.167143</td><td>0.0</td><td>0.0</td><td>0.0</td><td>19</td><td>0.0</td><td>0</td><td>0.0</td><td>0.0</td><td>0.0</td><td>0.0</td><td>-1</td><td>-1</td><td>0.0</td><td>423.190476</td><td>21</td><td>0.0</td><td>0</td><td>0.0</td><td>0.0</td><td>0.0</td><td>0.0</td><td>4.0</td><td>2.0</td><td>&quot;Rear-Wheel Drive&quot;</td><td>9011</td><td>&quot;(FFS)&quot;</td><td>-1</td><td>2300</td><td>0</td><td>&quot;Regular&quot;</td><td>&quot;Regular Gasoline&quot;</td><td>-1</td><td>-1</td><td>25</td><td>0.0</td><td>0</td><td>&hellip;</td><td>&quot;Spider Veloce 2000&quot;</td><td>&quot;Y&quot;</td><td>false</td><td>0</td><td>0</td><td>0</td><td>0.0</td><td>0.0</td><td>0.0</td><td>0.0</td><td>&quot;Manual 5-spd&quot;</td><td>23.3333</td><td>0.0</td><td>35.0</td><td>0.0</td><td>&quot;Two Seaters&quot;</td><td>1985</td><td>-2750</td><td>&quot;Spider&quot;</td><td>null</td><td>null</td><td>null</td><td>null</td><td>null</td><td>null</td><td>null</td><td>null</td><td>null</td><td>null</td><td>0.0</td><td>null</td><td>&quot;Tue Jan 01 00:00:00 EST 2013&quot;</td><td>&quot;Tue Jan 01 00:00:00 EST 2013&quot;</td><td>null</td><td>0</td><td>0</td><td>0</td></tr><tr><td>27.046364</td><td>0.0</td><td>0.0</td><td>0.0</td><td>9</td><td>0.0</td><td>0</td><td>0.0</td><td>0.0</td><td>0.0</td><td>0.0</td><td>-1</td><td>-1</td><td>0.0</td><td>807.909091</td><td>11</td><td>0.0</td><td>0</td><td>0.0</td><td>0.0</td><td>0.0</td><td>0.0</td><td>12.0</td><td>4.9</td><td>&quot;Rear-Wheel Drive&quot;</td><td>22020</td><td>&quot;(GUZZLER)&quot;</td><td>-1</td><td>4400</td><td>0</td><td>&quot;Regular&quot;</td><td>&quot;Regular Gasoline&quot;</td><td>-1</td><td>-1</td><td>14</td><td>0.0</td><td>0</td><td>&hellip;</td><td>&quot;Testarossa&quot;</td><td>&quot;N&quot;</td><td>false</td><td>0</td><td>0</td><td>0</td><td>0.0</td><td>0.0</td><td>0.0</td><td>0.0</td><td>&quot;Manual 5-spd&quot;</td><td>11.0</td><td>0.0</td><td>19.0</td><td>0.0</td><td>&quot;Two Seaters&quot;</td><td>1985</td><td>-13250</td><td>&quot;Testarossa&quot;</td><td>&quot;T&quot;</td><td>null</td><td>null</td><td>null</td><td>null</td><td>null</td><td>null</td><td>null</td><td>null</td><td>null</td><td>0.0</td><td>null</td><td>&quot;Tue Jan 01 00:00:00 EST 2013&quot;</td><td>&quot;Tue Jan 01 00:00:00 EST 2013&quot;</td><td>null</td><td>0</td><td>0</td><td>0</td></tr><tr><td>11.018889</td><td>0.0</td><td>0.0</td><td>0.0</td><td>23</td><td>0.0</td><td>0</td><td>0.0</td><td>0.0</td><td>0.0</td><td>0.0</td><td>-1</td><td>-1</td><td>0.0</td><td>329.148148</td><td>27</td><td>0.0</td><td>0</td><td>0.0</td><td>0.0</td><td>0.0</td><td>0.0</td><td>4.0</td><td>2.2</td><td>&quot;Front-Wheel Drive&quot;</td><td>2100</td><td>&quot;(FFS)&quot;</td><td>-1</td><td>1800</td><td>0</td><td>&quot;Regular&quot;</td><td>&quot;Regular Gasoline&quot;</td><td>-1</td><td>-1</td><td>33</td><td>0.0</td><td>0</td><td>&hellip;</td><td>&quot;Charger&quot;</td><td>&quot;Y&quot;</td><td>false</td><td>0</td><td>0</td><td>0</td><td>0.0</td><td>0.0</td><td>0.0</td><td>0.0</td><td>&quot;Manual 5-spd&quot;</td><td>29.0</td><td>0.0</td><td>47.0</td><td>0.0</td><td>&quot;Subcompact Cars&quot;</td><td>1985</td><td>-250</td><td>&quot;Charger&quot;</td><td>null</td><td>&quot;SIL&quot;</td><td>null</td><td>null</td><td>null</td><td>null</td><td>null</td><td>null</td><td>null</td><td>null</td><td>0.0</td><td>null</td><td>&quot;Tue Jan 01 00:00:00 EST 2013&quot;</td><td>&quot;Tue Jan 01 00:00:00 EST 2013&quot;</td><td>null</td><td>0</td><td>0</td><td>0</td></tr><tr><td>27.046364</td><td>0.0</td><td>0.0</td><td>0.0</td><td>10</td><td>0.0</td><td>0</td><td>0.0</td><td>0.0</td><td>0.0</td><td>0.0</td><td>-1</td><td>-1</td><td>0.0</td><td>807.909091</td><td>11</td><td>0.0</td><td>0</td><td>0.0</td><td>0.0</td><td>0.0</td><td>0.0</td><td>8.0</td><td>5.2</td><td>&quot;Rear-Wheel Drive&quot;</td><td>2850</td><td>null</td><td>-1</td><td>4400</td><td>0</td><td>&quot;Regular&quot;</td><td>&quot;Regular Gasoline&quot;</td><td>-1</td><td>-1</td><td>12</td><td>0.0</td><td>0</td><td>&hellip;</td><td>&quot;B150/B250 Wagon 2WD&quot;</td><td>&quot;N&quot;</td><td>false</td><td>0</td><td>0</td><td>0</td><td>0.0</td><td>0.0</td><td>0.0</td><td>0.0</td><td>&quot;Automatic 3-spd&quot;</td><td>12.2222</td><td>0.0</td><td>16.6667</td><td>0.0</td><td>&quot;Vans&quot;</td><td>1985</td><td>-13250</td><td>&quot;B150/B250 Wagon&quot;</td><td>null</td><td>null</td><td>null</td><td>null</td><td>null</td><td>null</td><td>null</td><td>null</td><td>null</td><td>null</td><td>0.0</td><td>null</td><td>&quot;Tue Jan 01 00:00:00 EST 2013&quot;</td><td>&quot;Tue Jan 01 00:00:00 EST 2013&quot;</td><td>null</td><td>0</td><td>0</td><td>0</td></tr><tr><td>15.658421</td><td>0.0</td><td>0.0</td><td>0.0</td><td>17</td><td>0.0</td><td>0</td><td>0.0</td><td>0.0</td><td>0.0</td><td>0.0</td><td>-1</td><td>-1</td><td>0.0</td><td>467.736842</td><td>19</td><td>0.0</td><td>0</td><td>0.0</td><td>0.0</td><td>0.0</td><td>0.0</td><td>4.0</td><td>2.2</td><td>&quot;4-Wheel or All-Wheel Drive&quot;</td><td>66031</td><td>&quot;(FFS,TRBO)&quot;</td><td>-1</td><td>3300</td><td>0</td><td>&quot;Premium&quot;</td><td>&quot;Premium Gasoline&quot;</td><td>-1</td><td>-1</td><td>23</td><td>0.0</td><td>0</td><td>&hellip;</td><td>&quot;Legacy AWD Turbo&quot;</td><td>&quot;N&quot;</td><td>false</td><td>0</td><td>90</td><td>0</td><td>0.0</td><td>0.0</td><td>0.0</td><td>0.0</td><td>&quot;Manual 5-spd&quot;</td><td>21.0</td><td>0.0</td><td>32.0</td><td>0.0</td><td>&quot;Compact Cars&quot;</td><td>1993</td><td>-7750</td><td>&quot;Legacy/Outback&quot;</td><td>null</td><td>null</td><td>&quot;T&quot;</td><td>null</td><td>null</td><td>null</td><td>null</td><td>null</td><td>null</td><td>null</td><td>0.0</td><td>null</td><td>&quot;Tue Jan 01 00:00:00 EST 2013&quot;</td><td>&quot;Tue Jan 01 00:00:00 EST 2013&quot;</td><td>null</td><td>0</td><td>0</td><td>0</td></tr><tr><td>&hellip;</td><td>&hellip;</td><td>&hellip;</td><td>&hellip;</td><td>&hellip;</td><td>&hellip;</td><td>&hellip;</td><td>&hellip;</td><td>&hellip;</td><td>&hellip;</td><td>&hellip;</td><td>&hellip;</td><td>&hellip;</td><td>&hellip;</td><td>&hellip;</td><td>&hellip;</td><td>&hellip;</td><td>&hellip;</td><td>&hellip;</td><td>&hellip;</td><td>&hellip;</td><td>&hellip;</td><td>&hellip;</td><td>&hellip;</td><td>&hellip;</td><td>&hellip;</td><td>&hellip;</td><td>&hellip;</td><td>&hellip;</td><td>&hellip;</td><td>&hellip;</td><td>&hellip;</td><td>&hellip;</td><td>&hellip;</td><td>&hellip;</td><td>&hellip;</td><td>&hellip;</td><td>&hellip;</td><td>&hellip;</td><td>&hellip;</td><td>&hellip;</td><td>&hellip;</td><td>&hellip;</td><td>&hellip;</td><td>&hellip;</td><td>&hellip;</td><td>&hellip;</td><td>&hellip;</td><td>&hellip;</td><td>&hellip;</td><td>&hellip;</td><td>&hellip;</td><td>&hellip;</td><td>&hellip;</td><td>&hellip;</td><td>&hellip;</td><td>&hellip;</td><td>&hellip;</td><td>&hellip;</td><td>&hellip;</td><td>&hellip;</td><td>&hellip;</td><td>&hellip;</td><td>&hellip;</td><td>&hellip;</td><td>&hellip;</td><td>&hellip;</td><td>&hellip;</td><td>&hellip;</td><td>&hellip;</td><td>&hellip;</td><td>&hellip;</td><td>&hellip;</td><td>&hellip;</td><td>&hellip;</td></tr><tr><td>13.523182</td><td>0.0</td><td>0.0</td><td>0.0</td><td>19</td><td>0.0</td><td>0</td><td>0.0</td><td>0.0</td><td>0.0</td><td>0.0</td><td>-1</td><td>-1</td><td>0.0</td><td>403.954545</td><td>22</td><td>0.0</td><td>0</td><td>0.0</td><td>0.0</td><td>0.0</td><td>0.0</td><td>4.0</td><td>2.2</td><td>&quot;Front-Wheel Drive&quot;</td><td>66030</td><td>&quot;(FFS)&quot;</td><td>-1</td><td>2200</td><td>0</td><td>&quot;Regular&quot;</td><td>&quot;Regular Gasoline&quot;</td><td>-1</td><td>-1</td><td>26</td><td>0.0</td><td>0</td><td>&hellip;</td><td>&quot;Legacy&quot;</td><td>&quot;N&quot;</td><td>false</td><td>0</td><td>90</td><td>0</td><td>0.0</td><td>0.0</td><td>0.0</td><td>0.0</td><td>&quot;Automatic 4-spd&quot;</td><td>24.0</td><td>0.0</td><td>37.0</td><td>0.0</td><td>&quot;Compact Cars&quot;</td><td>1993</td><td>-2250</td><td>&quot;Legacy/Outback&quot;</td><td>null</td><td>&quot;CLKUP&quot;</td><td>null</td><td>null</td><td>null</td><td>null</td><td>null</td><td>null</td><td>null</td><td>null</td><td>0.0</td><td>null</td><td>&quot;Tue Jan 01 00:00:00 EST 2013&quot;</td><td>&quot;Tue Jan 01 00:00:00 EST 2013&quot;</td><td>null</td><td>0</td><td>0</td><td>0</td></tr><tr><td>12.935217</td><td>0.0</td><td>0.0</td><td>0.0</td><td>20</td><td>0.0</td><td>0</td><td>0.0</td><td>0.0</td><td>0.0</td><td>0.0</td><td>-1</td><td>-1</td><td>0.0</td><td>386.391304</td><td>23</td><td>0.0</td><td>0</td><td>0.0</td><td>0.0</td><td>0.0</td><td>0.0</td><td>4.0</td><td>2.2</td><td>&quot;Front-Wheel Drive&quot;</td><td>66030</td><td>&quot;(FFS)&quot;</td><td>-1</td><td>2100</td><td>0</td><td>&quot;Regular&quot;</td><td>&quot;Regular Gasoline&quot;</td><td>-1</td><td>-1</td><td>28</td><td>0.0</td><td>0</td><td>&hellip;</td><td>&quot;Legacy&quot;</td><td>&quot;N&quot;</td><td>false</td><td>0</td><td>90</td><td>0</td><td>0.0</td><td>0.0</td><td>0.0</td><td>0.0</td><td>&quot;Manual 5-spd&quot;</td><td>25.0</td><td>0.0</td><td>39.0</td><td>0.0</td><td>&quot;Compact Cars&quot;</td><td>1993</td><td>-1750</td><td>&quot;Legacy/Outback&quot;</td><td>null</td><td>null</td><td>null</td><td>null</td><td>null</td><td>null</td><td>null</td><td>null</td><td>null</td><td>null</td><td>0.0</td><td>null</td><td>&quot;Tue Jan 01 00:00:00 EST 2013&quot;</td><td>&quot;Tue Jan 01 00:00:00 EST 2013&quot;</td><td>null</td><td>0</td><td>0</td><td>0</td></tr><tr><td>14.167143</td><td>0.0</td><td>0.0</td><td>0.0</td><td>18</td><td>0.0</td><td>0</td><td>0.0</td><td>0.0</td><td>0.0</td><td>0.0</td><td>-1</td><td>-1</td><td>0.0</td><td>423.190476</td><td>21</td><td>0.0</td><td>0</td><td>0.0</td><td>0.0</td><td>0.0</td><td>0.0</td><td>4.0</td><td>2.2</td><td>&quot;4-Wheel or All-Wheel Drive&quot;</td><td>66030</td><td>&quot;(FFS)&quot;</td><td>-1</td><td>2300</td><td>0</td><td>&quot;Regular&quot;</td><td>&quot;Regular Gasoline&quot;</td><td>-1</td><td>-1</td><td>24</td><td>0.0</td><td>0</td><td>&hellip;</td><td>&quot;Legacy AWD&quot;</td><td>&quot;Y&quot;</td><td>false</td><td>0</td><td>90</td><td>0</td><td>0.0</td><td>0.0</td><td>0.0</td><td>0.0</td><td>&quot;Automatic 4-spd&quot;</td><td>23.0</td><td>0.0</td><td>34.0</td><td>0.0</td><td>&quot;Compact Cars&quot;</td><td>1993</td><td>-2750</td><td>&quot;Legacy/Outback&quot;</td><td>null</td><td>&quot;CLKUP&quot;</td><td>null</td><td>null</td><td>null</td><td>null</td><td>null</td><td>null</td><td>null</td><td>null</td><td>0.0</td><td>null</td><td>&quot;Tue Jan 01 00:00:00 EST 2013&quot;</td><td>&quot;Tue Jan 01 00:00:00 EST 2013&quot;</td><td>null</td><td>0</td><td>0</td><td>0</td></tr><tr><td>14.167143</td><td>0.0</td><td>0.0</td><td>0.0</td><td>18</td><td>0.0</td><td>0</td><td>0.0</td><td>0.0</td><td>0.0</td><td>0.0</td><td>-1</td><td>-1</td><td>0.0</td><td>423.190476</td><td>21</td><td>0.0</td><td>0</td><td>0.0</td><td>0.0</td><td>0.0</td><td>0.0</td><td>4.0</td><td>2.2</td><td>&quot;4-Wheel or All-Wheel Drive&quot;</td><td>66030</td><td>&quot;(FFS)&quot;</td><td>-1</td><td>2300</td><td>0</td><td>&quot;Regular&quot;</td><td>&quot;Regular Gasoline&quot;</td><td>-1</td><td>-1</td><td>24</td><td>0.0</td><td>0</td><td>&hellip;</td><td>&quot;Legacy AWD&quot;</td><td>&quot;Y&quot;</td><td>false</td><td>0</td><td>90</td><td>0</td><td>0.0</td><td>0.0</td><td>0.0</td><td>0.0</td><td>&quot;Manual 5-spd&quot;</td><td>23.0</td><td>0.0</td><td>34.0</td><td>0.0</td><td>&quot;Compact Cars&quot;</td><td>1993</td><td>-2750</td><td>&quot;Legacy/Outback&quot;</td><td>null</td><td>null</td><td>null</td><td>null</td><td>null</td><td>null</td><td>null</td><td>null</td><td>null</td><td>null</td><td>0.0</td><td>null</td><td>&quot;Tue Jan 01 00:00:00 EST 2013&quot;</td><td>&quot;Tue Jan 01 00:00:00 EST 2013&quot;</td><td>null</td><td>0</td><td>0</td><td>0</td></tr><tr><td>16.528333</td><td>0.0</td><td>0.0</td><td>0.0</td><td>16</td><td>0.0</td><td>0</td><td>0.0</td><td>0.0</td><td>0.0</td><td>0.0</td><td>-1</td><td>-1</td><td>0.0</td><td>493.722222</td><td>18</td><td>0.0</td><td>0</td><td>0.0</td><td>0.0</td><td>0.0</td><td>0.0</td><td>4.0</td><td>2.2</td><td>&quot;4-Wheel or All-Wheel Drive&quot;</td><td>66031</td><td>&quot;(FFS,TRBO)&quot;</td><td>-1</td><td>3500</td><td>0</td><td>&quot;Premium&quot;</td><td>&quot;Premium Gasoline&quot;</td><td>-1</td><td>-1</td><td>21</td><td>0.0</td><td>0</td><td>&hellip;</td><td>&quot;Legacy AWD Turbo&quot;</td><td>&quot;N&quot;</td><td>false</td><td>0</td><td>90</td><td>0</td><td>0.0</td><td>0.0</td><td>0.0</td><td>0.0</td><td>&quot;Automatic 4-spd&quot;</td><td>20.0</td><td>0.0</td><td>29.0</td><td>0.0</td><td>&quot;Compact Cars&quot;</td><td>1993</td><td>-8750</td><td>&quot;Legacy/Outback&quot;</td><td>null</td><td>&quot;CLKUP&quot;</td><td>&quot;T&quot;</td><td>null</td><td>null</td><td>null</td><td>null</td><td>null</td><td>null</td><td>null</td><td>0.0</td><td>null</td><td>&quot;Tue Jan 01 00:00:00 EST 2013&quot;</td><td>&quot;Tue Jan 01 00:00:00 EST 2013&quot;</td><td>null</td><td>0</td><td>0</td><td>0</td></tr></tbody></table></div>"
            ]
          },
          "metadata": {},
          "execution_count": 24
        }
      ]
    },
    {
      "cell_type": "code",
      "source": [
        "print(df_polars.select(mean_ba=pl.col.barrels08.mean(),\n",
        "                       std_ba=pl.col.barrels08.std(),\n",
        "                      var_ba=pl.col.barrels08.var(),\n",
        "                      q99_ba=pl.col.barrels08.quantile(.99)\n",
        " ))"
      ],
      "metadata": {
        "colab": {
          "base_uri": "https://localhost:8080/"
        },
        "id": "W_J0NX8I4AJv",
        "outputId": "bc0e2526-5c06-4028-de19-ede6c869267c"
      },
      "execution_count": 27,
      "outputs": [
        {
          "output_type": "stream",
          "name": "stdout",
          "text": [
            "shape: (1, 4)\n",
            "┌───────────┬──────────┬───────────┬───────────┐\n",
            "│ mean_ba   ┆ std_ba   ┆ var_ba    ┆ q99_ba    │\n",
            "│ ---       ┆ ---      ┆ ---       ┆ ---       │\n",
            "│ f64       ┆ f64      ┆ f64       ┆ f64       │\n",
            "╞═══════════╪══════════╪═══════════╪═══════════╡\n",
            "│ 15.049851 ┆ 4.623639 ┆ 21.378037 ┆ 27.046364 │\n",
            "└───────────┴──────────┴───────────┴───────────┘\n"
          ]
        }
      ]
    },
    {
      "cell_type": "code",
      "source": [
        "#One feature of Polars is the ability to have typed lists in a column\n",
        "tests = pl.DataFrame({'name':['Tom', 'Sally', 'Jose'],\n",
        " 'test1':[99, 98, 95],\n",
        " 'test2':[92, None, 99],\n",
        " 'test3':[91, 93, 95],\n",
        " 'test4':[94, 92, 99]})\n",
        "print(tests)"
      ],
      "metadata": {
        "colab": {
          "base_uri": "https://localhost:8080/"
        },
        "id": "mJJ8_1UW9UyD",
        "outputId": "a66b8cb5-f496-4afb-9fbc-957cf4aaf080"
      },
      "execution_count": 28,
      "outputs": [
        {
          "output_type": "stream",
          "name": "stdout",
          "text": [
            "shape: (3, 5)\n",
            "┌───────┬───────┬───────┬───────┬───────┐\n",
            "│ name  ┆ test1 ┆ test2 ┆ test3 ┆ test4 │\n",
            "│ ---   ┆ ---   ┆ ---   ┆ ---   ┆ ---   │\n",
            "│ str   ┆ i64   ┆ i64   ┆ i64   ┆ i64   │\n",
            "╞═══════╪═══════╪═══════╪═══════╪═══════╡\n",
            "│ Tom   ┆ 99    ┆ 92    ┆ 91    ┆ 94    │\n",
            "│ Sally ┆ 98    ┆ null  ┆ 93    ┆ 92    │\n",
            "│ Jose  ┆ 95    ┆ 99    ┆ 95    ┆ 99    │\n",
            "└───────┴───────┴───────┴───────┴───────┘\n"
          ]
        }
      ]
    },
    {
      "cell_type": "code",
      "source": [
        "import polars.selectors as cs\n",
        "print(tests\n",
        " .select(scores=pl.concat_list(cs.matches(r'test\\d+')))#combine the test scores into a list with the pl.concat_list function\n",
        " .with_columns(sorted_scores=pl.col('scores').list.sort())#sort the scores\n",
        " .with_columns(slice_scores=pl.col('sorted_scores').list.slice(2,4))#remove 2 lowest scores\n",
        " .with_columns(sum_scores=pl.col('slice_scores').list.sum())#sum up the list to get the sum of final score\n",
        " )"
      ],
      "metadata": {
        "colab": {
          "base_uri": "https://localhost:8080/"
        },
        "id": "QQ1CG5-G9zX7",
        "outputId": "4364e0da-1ba2-4903-c4f2-b6b13acafc21"
      },
      "execution_count": 32,
      "outputs": [
        {
          "output_type": "stream",
          "name": "stdout",
          "text": [
            "shape: (3, 4)\n",
            "┌──────────────────┬──────────────────┬──────────────┬────────────┐\n",
            "│ scores           ┆ sorted_scores    ┆ slice_scores ┆ sum_scores │\n",
            "│ ---              ┆ ---              ┆ ---          ┆ ---        │\n",
            "│ list[i64]        ┆ list[i64]        ┆ list[i64]    ┆ i64        │\n",
            "╞══════════════════╪══════════════════╪══════════════╪════════════╡\n",
            "│ [99, 92, … 94]   ┆ [91, 92, … 99]   ┆ [94, 99]     ┆ 193        │\n",
            "│ [98, null, … 92] ┆ [null, 92, … 98] ┆ [93, 98]     ┆ 191        │\n",
            "│ [95, 99, … 99]   ┆ [95, 95, … 99]   ┆ [99, 99]     ┆ 198        │\n",
            "└──────────────────┴──────────────────┴──────────────┴────────────┘\n"
          ]
        }
      ]
    }
  ]
}