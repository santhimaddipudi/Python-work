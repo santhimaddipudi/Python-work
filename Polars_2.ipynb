{
  "nbformat": 4,
  "nbformat_minor": 0,
  "metadata": {
    "colab": {
      "provenance": [],
      "authorship_tag": "ABX9TyNUYo5GI/SZmyUpB0mR505k",
      "include_colab_link": true
    },
    "kernelspec": {
      "name": "python3",
      "display_name": "Python 3"
    },
    "language_info": {
      "name": "python"
    }
  },
  "cells": [
    {
      "cell_type": "markdown",
      "metadata": {
        "id": "view-in-github",
        "colab_type": "text"
      },
      "source": [
        "<a href=\"https://colab.research.google.com/github/santhimaddipudi/Python-work/blob/master/Polars_2.ipynb\" target=\"_parent\"><img src=\"https://colab.research.google.com/assets/colab-badge.svg\" alt=\"Open In Colab\"/></a>"
      ]
    },
    {
      "cell_type": "markdown",
      "source": [
        "##String Manipulation"
      ],
      "metadata": {
        "id": "5DcB-sESNSHs"
      }
    },
    {
      "cell_type": "code",
      "source": [
        "url = 'https://github.com/mattharrison/datasets/raw/' \\\n",
        "  'master/data/__mharrison__2020-2021.csv'\n",
        "import polars as pl\n",
        "raw=pl.read_csv(url)\n",
        "print(raw)\n"
      ],
      "metadata": {
        "id": "PKLcI4LMNWxI"
      },
      "execution_count": null,
      "outputs": []
    },
    {
      "cell_type": "code",
      "source": [
        "#select only few columns\n",
        "def tweak_twit(df):\n",
        "          return (df .select(['Tweet id', 'Tweet permalink', 'Tweet text', 'time',\n",
        "                              'impressions', 'engagements', 'engagement rate',\n",
        "                              'retweets', 'replies', 'likes', 'user profile clicks'])\n",
        "                 )\n",
        "twit = tweak_twit(raw)\n",
        "print(twit)"
      ],
      "metadata": {
        "id": "MJzRymOiN9bc"
      },
      "execution_count": null,
      "outputs": []
    },
    {
      "cell_type": "code",
      "source": [
        "#.str accessor, much like Pandas. This accessor provides access to string manipulation methods\n",
        "col = pl.col('Tweet permalink')\n",
        "print([m for m in dir(col.str) if not m.startswith('_')])"
      ],
      "metadata": {
        "colab": {
          "base_uri": "https://localhost:8080/"
        },
        "id": "Thd9paEEPx0K",
        "outputId": "0ed54b27-17fe-4974-adbe-a1f378e6d37c"
      },
      "execution_count": 11,
      "outputs": [
        {
          "output_type": "stream",
          "name": "stdout",
          "text": [
            "['concat', 'contains', 'contains_any', 'count_matches', 'decode', 'encode', 'ends_with', 'escape_regex', 'explode', 'extract', 'extract_all', 'extract_groups', 'extract_many', 'find', 'find_many', 'head', 'join', 'json_decode', 'json_path_match', 'len_bytes', 'len_chars', 'normalize', 'pad_end', 'pad_start', 'replace', 'replace_all', 'replace_many', 'reverse', 'slice', 'split', 'split_exact', 'splitn', 'starts_with', 'strip_chars', 'strip_chars_end', 'strip_chars_start', 'strip_prefix', 'strip_suffix', 'strptime', 'tail', 'to_date', 'to_datetime', 'to_decimal', 'to_integer', 'to_lowercase', 'to_time', 'to_titlecase', 'to_uppercase', 'zfill']\n"
          ]
        }
      ]
    },
    {
      "cell_type": "code",
      "source": [
        "#links don’t start with the correct prefix in the column\n",
        "col = pl.col('Tweet permalink')\n",
        "print(twit.filter(~col.str.starts_with('https://twitter.com/')))"
      ],
      "metadata": {
        "colab": {
          "base_uri": "https://localhost:8080/"
        },
        "id": "B160PwNdQUZu",
        "outputId": "b9e98612-9dc7-4681-846a-66d81648a57d"
      },
      "execution_count": 14,
      "outputs": [
        {
          "output_type": "stream",
          "name": "stdout",
          "text": [
            "shape: (0, 11)\n",
            "┌──────────┬───────────┬────────────┬──────┬───┬──────────┬─────────┬───────┬──────────────────────┐\n",
            "│ Tweet id ┆ Tweet     ┆ Tweet text ┆ time ┆ … ┆ retweets ┆ replies ┆ likes ┆ user profile clicks  │\n",
            "│ ---      ┆ permalink ┆ ---        ┆ ---  ┆   ┆ ---      ┆ ---     ┆ ---   ┆ ---                  │\n",
            "│ i64      ┆ ---       ┆ str        ┆ str  ┆   ┆ f64      ┆ f64     ┆ f64   ┆ f64                  │\n",
            "│          ┆ str       ┆            ┆      ┆   ┆          ┆         ┆       ┆                      │\n",
            "╞══════════╪═══════════╪════════════╪══════╪═══╪══════════╪═════════╪═══════╪══════════════════════╡\n",
            "└──────────┴───────────┴────────────┴──────┴───┴──────────┴─────────┴───────┴──────────────────────┘\n"
          ]
        }
      ]
    },
    {
      "cell_type": "code",
      "source": [
        "print('https://metasnake.com/effective-polars'.split('/'))"
      ],
      "metadata": {
        "colab": {
          "base_uri": "https://localhost:8080/"
        },
        "id": "fsUgerl8QiD0",
        "outputId": "cc8b5c52-710c-46d3-add0-d343f0c9bc9d"
      },
      "execution_count": 15,
      "outputs": [
        {
          "output_type": "stream",
          "name": "stdout",
          "text": [
            "['https:', '', 'metasnake.com', 'effective-polars']\n"
          ]
        }
      ]
    },
    {
      "cell_type": "code",
      "source": [
        "print(twit.select(pl.col('Tweet permalink').str.split('/').list.get(3)))"
      ],
      "metadata": {
        "id": "2QnK7rdWQnPt"
      },
      "execution_count": null,
      "outputs": []
    },
    {
      "cell_type": "code",
      "source": [
        "print(twit.select(col.str.split('/').list.len()))"
      ],
      "metadata": {
        "colab": {
          "base_uri": "https://localhost:8080/"
        },
        "id": "YtPD33OPRqqz",
        "outputId": "028060c7-7239-40a9-bac7-59b4db6cada5"
      },
      "execution_count": 20,
      "outputs": [
        {
          "output_type": "stream",
          "name": "stdout",
          "text": [
            "shape: (5_791, 1)\n",
            "┌─────────────────┐\n",
            "│ Tweet permalink │\n",
            "│ ---             │\n",
            "│ u32             │\n",
            "╞═════════════════╡\n",
            "│ 6               │\n",
            "│ 6               │\n",
            "│ 6               │\n",
            "│ 6               │\n",
            "│ 6               │\n",
            "│ …               │\n",
            "│ 6               │\n",
            "│ 6               │\n",
            "│ 6               │\n",
            "│ 6               │\n",
            "│ 6               │\n",
            "└─────────────────┘\n"
          ]
        }
      ]
    }
  ]
}